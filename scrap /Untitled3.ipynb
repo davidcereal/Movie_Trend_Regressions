{
 "cells": [
  {
   "cell_type": "code",
   "execution_count": 1,
   "metadata": {
    "collapsed": true
   },
   "outputs": [],
   "source": [
    "import re"
   ]
  },
  {
   "cell_type": "code",
   "execution_count": 5,
   "metadata": {
    "collapsed": true
   },
   "outputs": [],
   "source": [
    "def eval_emails(filename):\n",
    "    pattern = re.compile(r\"([(A-Za-z0-9)\\.\\-\\_\\~\\!\\&\\\\\\*\\+\\,\\;\\=\\'\\$])+@[A-Za-z0-9]+\\.[A-Za-z0-9]+(\\.*[A-Za-z0-9]+)*\")\n",
    "    with open(filename, 'r') as f:\n",
    "        for line in f.readlines():\n",
    "            if pattern.match(line) == None:\n",
    "                print 'false'\n",
    "            else: \n",
    "                print 'true'\n",
    "                        \n",
    "                \n",
    "                "
   ]
  },
  {
   "cell_type": "code",
   "execution_count": null,
   "metadata": {
    "collapsed": true
   },
   "outputs": [],
   "source": [
    "pattern = re.compile(([(A-Za-z0-9)\\.\\-\\_\\~\\!\\&\\\\\\*\\+\\,\\;\\=\\'\\$])+@[A-Za-z0-9]+\\.[A-Za-z0-9]+(\\.*[A-Za-z0-9]+)*)"
   ]
  },
  {
   "cell_type": "code",
   "execution_count": 9,
   "metadata": {
    "collapsed": false
   },
   "outputs": [
    {
     "name": "stdout",
     "output_type": "stream",
     "text": [
      "true\n",
      "false\n",
      "true\n",
      "false\n",
      "false\n"
     ]
    }
   ],
   "source": [
    "eval_emails('emails.txt')"
   ]
  },
  {
   "cell_type": "code",
   "execution_count": null,
   "metadata": {
    "collapsed": true
   },
   "outputs": [],
   "source": []
  }
 ],
 "metadata": {
  "kernelspec": {
   "display_name": "Python 2",
   "language": "python",
   "name": "python2"
  },
  "language_info": {
   "codemirror_mode": {
    "name": "ipython",
    "version": 2
   },
   "file_extension": ".py",
   "mimetype": "text/x-python",
   "name": "python",
   "nbconvert_exporter": "python",
   "pygments_lexer": "ipython2",
   "version": "2.7.10"
  }
 },
 "nbformat": 4,
 "nbformat_minor": 0
}
