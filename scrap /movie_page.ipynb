{
 "cells": [
  {
   "cell_type": "code",
   "execution_count": 1,
   "metadata": {
    "collapsed": true
   },
   "outputs": [],
   "source": [
    "import pickle\n",
    "import pandas as pd\n",
    "import requests\n",
    "from bs4 import BeautifulSoup\n",
    "import sys\n",
    "from collections import defaultdict\n",
    "import re"
   ]
  },
  {
   "cell_type": "code",
   "execution_count": 5,
   "metadata": {
    "collapsed": false
   },
   "outputs": [],
   "source": [
    "url = 'http://www.imdb.com/title/tt2051879/keywords?ref_=tt_stry_kw'"
   ]
  },
  {
   "cell_type": "code",
   "execution_count": 6,
   "metadata": {
    "collapsed": false
   },
   "outputs": [],
   "source": [
    "response = requests.get(url)\n",
    "page = response.text\n",
    "soup = BeautifulSoup(page, 'xml')"
   ]
  },
  {
   "cell_type": "code",
   "execution_count": 7,
   "metadata": {
    "collapsed": false
   },
   "outputs": [
    {
     "data": {
      "text/plain": [
       "<?xml version=\"1.0\" encoding=\"utf-8\"?>\n",
       "<!DOCTYPE html>\n",
       "<html xmlns:fb=\"http://www.facebook.com/2008/fbml\" xmlns:og=\"http://ogp.me/ns#\">\n",
       "<head>\n",
       "<script type=\"text/javascript\">var ue_t0=window.ue_t0||+new Date();</script>\n",
       "<script type=\"text/javascript\">\n",
       "                var ue_mid = \"A1EVAM02EL8SFB\"; \n",
       "                var ue_sn = \"www.imdb.com\";  \n",
       "                var ue_furl = \"fls-na.amazon.com\";\n",
       "                var ue_sid = \"000-0000000-0000000\";\n",
       "                var ue_id = \"111YHA661AFGTDDTYEWK\";\n",
       "                (function(e){var c=e;var a=c.ue||{};a.main_scope=\"mainscopecsm\";a.q=[];a.t0=c.ue_t0||+new Date();a.d=g;function g(h){return +new Date()-(h?0:a.t0)}function d(h){return function(){a.q.push({n:h,a:arguments,t:a.d()})}}function b(m,l,h,j,i){var k={m:m,f:l,l:h,c:\"\"+j,err:i,fromOnError:1,args:arguments};c.ueLogError(k);return false}b.skipTrace=1;e.onerror=b;function f(){c.uex(\"ld\")}if(e.addEventListener){e.addEventListener(\"load\",f,false)}else{if(e.attachEvent){e.attachEvent(\"onload\",f)}}a.tag=d(\"tag\");a.log=d(\"log\");a.reset=d(\"rst\");c.ue_csm=c;c.ue=a;c.ueLogError=d(\"err\");c.ues=d(\"ues\");c.uet=d(\"uet\");c.uex=d(\"uex\");c.uet(\"ue\")})(window);(function(e,d){var a=e.ue||{};function c(g){if(!g){return}var f=d.head||d.getElementsByTagName(\"head\")[0]||d.documentElement,h=d.createElement(\"script\");h.async=\"async\";h.src=g;f.insertBefore(h,f.firstChild)}function b(){var k=e.ue_cdn||\"z-ecx.images-amazon.com\",g=e.ue_cdns||\"images-na.ssl-images-amazon.com\",j=\"/images/G/01/csminstrumentation/\",h=e.ue_file||\"ue-full-051542d0cfa6f645f8266601739de597._V1_.js\",f,i;if(h.indexOf(\"NSTRUMENTATION_FIL\")&gt;=0){return}if(\"ue_https\" in e){f=e.ue_https}else{f=e.location==\"https:\"?1:0}i=f?\"https://\":\"http://\";i+=f?g:k;i+=j;i+=h;c(i)}if(!e.ue_inline){if(a.loadUEFull){a.loadUEFull()}else{b()}}a.uels=c;e.ue=a})(window,document);\n",
       "                if (!('CS' in window)) { window.CS = {}; }\n",
       "                    window.CS.loginSecureHost = \"https://secure.imdb.com\";\n",
       "            </script>\n",
       "<script type=\"text/javascript\">var IMDbTimer={starttime: new Date().getTime(),pt:'java'};</script>\n",
       "<script>(function(t){ (t.events = t.events || {})[\"csm_head_pre_title\"] = new Date().getTime(); })(IMDbTimer);</script>\n",
       "<title>Europa Report (2013) - Plot keywords - IMDb</title>\n",
       "<script>(function(t){ (t.events = t.events || {})[\"csm_head_post_title\"] = new Date().getTime(); })(IMDbTimer);</script>\n",
       "<meta content=\"text/html; charset=utf-8\" http-equiv=\"Content-Type\"/>\n",
       "<link href=\"http://www.imdb.com/title/tt2051879/keywords\" rel=\"canonical\"/>\n",
       "<meta content=\"http://www.imdb.com/title/tt2051879/keywords\" property=\"og:url\"/>\n",
       "<script>(function(t){ (t.events = t.events || {})[\"csm_head_pre_icon\"] = new Date().getTime(); })(IMDbTimer);</script>\n",
       "<link href=\"http://ia.media-imdb.com/images/G/01/imdb/images/safari-favicon-517611381._CB303901978_.svg\">rel=\"icon\" sizes=\"any\"&gt;\n",
       "        <link href=\"http://ia.media-imdb.com/images/G/01/imdb/images/favicon-2165806970._CB379387995_.ico\" rel=\"icon\" type=\"image/ico\"/>\n",
       "<meta content=\"#000000\" name=\"theme-color\"/>\n",
       "<link href=\"http://ia.media-imdb.com/images/G/01/imdb/images/desktop-favicon-2165806970._CB379390718_.ico\" rel=\"shortcut icon\" type=\"image/x-icon\"/>\n",
       "<link href=\"http://ia.media-imdb.com/images/G/01/imdb/images/mobile/apple-touch-icon-web-4151659188._CB361295786_.png\" rel=\"apple-touch-icon\">\n",
       "<link href=\"http://ia.media-imdb.com/images/G/01/imdb/images/mobile/apple-touch-icon-web-76x76-53536248._CB361295462_.png\" rel=\"apple-touch-icon\" sizes=\"76x76\">\n",
       "<link href=\"http://ia.media-imdb.com/images/G/01/imdb/images/mobile/apple-touch-icon-web-120x120-2442878471._CB361295428_.png\" rel=\"apple-touch-icon\" sizes=\"120x120\">\n",
       "<link href=\"http://ia.media-imdb.com/images/G/01/imdb/images/mobile/apple-touch-icon-web-152x152-1475823641._CB361295368_.png\" rel=\"apple-touch-icon\" sizes=\"152x152\">\n",
       "<link href=\"http://ia.media-imdb.com/images/G/01/imdb/images/imdbsearch-3349468880._CB379388505_.xml\" rel=\"search\" title=\"IMDb\" type=\"application/opensearchdescription+xml\"/>\n",
       "<script>(function(t){ (t.events = t.events || {})[\"csm_head_post_icon\"] = new Date().getTime(); })(IMDbTimer);</script>\n",
       "<link href=\"http://ia.media-imdb.com/images/M/MV5BMjA2OTk5ODkxMl5BMl5BanBnXkFtZTcwODc4MDk0OQ@@._V1_UY1200_CR107,0,630,1200_AL_.jpg\" rel=\"image_src\">\n",
       "<meta content=\"http://ia.media-imdb.com/images/M/MV5BMjA2OTk5ODkxMl5BMl5BanBnXkFtZTcwODc4MDk0OQ@@._V1_UY1200_CR107,0,630,1200_AL_.jpg\" property=\"og:image\"/>\n",
       "<meta content=\"video.movie\" property=\"og:type\"/>\n",
       "<meta content=\"115109575169727\" property=\"fb:app_id\"/>\n",
       "<meta content=\"Europa Report (2013)\" property=\"og:title\"/>\n",
       "<meta content=\"IMDb\" property=\"og:site_name\"/>\n",
       "<meta content=\"Europa Report (2013) - IMDb\" name=\"title\"/>\n",
       "<meta content=\"Europa Report (2013) on IMDb: Movies, TV, Celebs, and more...\" name=\"description\"/>\n",
       "<meta content=\"Europa Report (2013) on IMDb: Movies, TV, Celebs, and more...\" property=\"og:description\"/>\n",
       "<meta content=\"Reviews, Showtimes, DVDs, Photos, Message Boards, User Ratings, Synopsis, Trailers, Credits\" name=\"keywords\"/>\n",
       "<meta content=\"111YHA661AFGTDDTYEWK\" name=\"request_id\"/>\n",
       "<script>(function(t){ (t.events = t.events || {})[\"csm_head_pre_css\"] = new Date().getTime(); })(IMDbTimer);</script>\n",
       "<!-- h=ics-1e-c3-2xl-i-e2c1b235.us-east-1 -->\n",
       "<link href=\"http://ia.media-imdb.com/images/G/01/imdb/css/collections/title-flat-2783365293._CB293333859_.css\" rel=\"stylesheet\" type=\"text/css\"/>\n",
       "<!--[if IE]><link rel=\"stylesheet\" type=\"text/css\" href=\"http://ia.media-imdb.com/images/G/01/imdb/css/collections/ie-1170868033._CB318510270_.css\" /><![endif]-->\n",
       "<link href=\"http://ia.media-imdb.com/images/G/01/imdb/css/site/consumer-navbar-mega-3118624260._CB293333852_.css\" rel=\"stylesheet\" type=\"text/css\"/>\n",
       "<noscript>\n",
       "<link href=\"http://ia.media-imdb.com/images/G/01/imdb/css/wheel/nojs-2827156349._CB318528195_.css\" rel=\"stylesheet\" type=\"text/css\">\n",
       "</link>\n",
       "<script>(function(t){ (t.events = t.events || {})[\"csm_head_post_css\"] = new Date().getTime(); })(IMDbTimer);</script>\n",
       "<script>(function(t){ (t.events = t.events || {})[\"csm_head_pre_ads\"] = new Date().getTime(); })(IMDbTimer);</script>\n",
       "<script type=\"text/javascript\">\n",
       "            // ensures js doesn't die if ads service fails.  \n",
       "            // Note that we need to define the js here, since ad js is being rendered inline after this.\n",
       "            (function(f) {\n",
       "                // Fallback javascript, when the ad Service call fails.  \n",
       "                \n",
       "                if((window.csm === undefined || window.generic === undefined || window.consoleLog === undefined)) {\n",
       "                    if (console !== undefined  console.log !== undefined) {\n",
       "                        console.log(\"one or more of window.csm, window.generic or window.consoleLog has been stubbed...\");\n",
       "                    }\n",
       "                }\n",
       "                \n",
       "                window.csm = window.csm || { measure:f, record:f, duration:f, listen:f, metrics:{} };\n",
       "                window.generic = window.generic || { monitoring: { start_timing: f, stop_timing: f } };\n",
       "                window.consoleLog = window.consoleLog || f;\n",
       "            })(function() {});\n",
       "        </script>\n",
       "<script>\n",
       "    if ('csm' in window) {\n",
       "      csm.measure('csm_head_delivery_finished');\n",
       "    }\n",
       "  </script>\n",
       "</noscript>\n",
       "<body class=\"fixed\" id=\"styleguide-v2\">\n",
       "<script>\n",
       "    if (typeof uet == 'function') {\n",
       "      uet(\"bb\");\n",
       "    }\n",
       "</script>\n",
       "<script>\n",
       "    if ('csm' in window) {\n",
       "      csm.measure('csm_body_delivery_started');\n",
       "    }\n",
       "  </script>\n",
       "<div id=\"wrapper\">\n",
       "<div class=\"redesign\" id=\"root\">\n",
       "<script>\n",
       "    if (typeof uet == 'function') {\n",
       "      uet(\"ns\");\n",
       "    }\n",
       "</script>\n",
       "<div class=\"navbarSprite\" id=\"nb20\">\n",
       "<div id=\"supertab\">\n",
       "<!-- no content received for slot: top_ad -->\n",
       "</div>\n",
       "<div class=\"navbarSprite\" id=\"navbar\">\n",
       "<noscript>\n",
       "<link href=\"http://ia.media-imdb.com/images/G/01/imdb/css/site/consumer-navbar-no-js-3652782989._CB318528046_.css\" rel=\"stylesheet\" type=\"text/css\"/>\n",
       "</noscript>\n",
       "<!--[if IE]><link rel=\"stylesheet\" type=\"text/css\" href=\"http://ia.media-imdb.com/images/G/01/imdb/css/site/consumer-navbar-ie-2133976414._CB318528041_.css\"><![endif]-->\n",
       "<span id=\"home_img_holder\">\n",
       "<a class=\"navbarSprite\" href=\"/?ref_=nv_home\" id=\"home_img\" title=\"Home\"/> <span class=\"alt_logo\">\n",
       "<a href=\"/?ref_=nv_home\" title=\"Home\">IMDb</a>\n",
       "</span>\n",
       "</span>\n",
       "<form action=\"/find\" class=\"nav-searchbar-inner\" id=\"navbar-form\" method=\"get\" onsubmit=\"(new Image()).src='/rg/SEARCH-BOX/HEADER/images/b.gif?link=/find';\">\n",
       "<div id=\"nb_search\">\n",
       "<noscript><div id=\"more_if_no_javascript\"><a href=\"/search/\">More</a></div></noscript>\n",
       "<button class=\"primary btn\" id=\"navbar-submit-button\" type=\"submit\"><div class=\"magnifyingglass navbarSprite\"/></button>\n",
       "<input name=\"ref_\" type=\"hidden\" value=\"nv_sr_fn\"/>\n",
       "<input autocomplete=\"off\" id=\"navbar-query\" name=\"q\" placeholder=\"Find Movies, TV shows, Celebrities and more...\" type=\"text\" value=\"\">\n",
       "<div class=\"quicksearch_dropdown_wrapper\">\n",
       "<select class=\"quicksearch_dropdown navbarSprite\" id=\"quicksearch\" name=\"s\" onchange=\"jumpMenu(this); suggestionsearch_dropdown_choice(this);\">\n",
       "<option value=\"all\">All</option>\n",
       "<option value=\"tt\">Titles</option>\n",
       "<option value=\"ep\">TV Episodes</option>\n",
       "<option value=\"nm\">Names</option>\n",
       "<option value=\"co\">Companies</option>\n",
       "<option value=\"kw\">Keywords</option>\n",
       "<option value=\"ch\">Characters</option>\n",
       "<option value=\"qu\">Quotes</option>\n",
       "<option value=\"bi\">Bios</option>\n",
       "<option value=\"pl\">Plots</option>\n",
       "</select>\n",
       "</div>\n",
       "<div id=\"navbar-suggestionsearch\"/>\n",
       "</input>\n",
       "</div>\n",
       "<div id=\"megaMenu\">\n",
       "<ul class=\"main_nav\" id=\"consumer_main_nav\">\n",
       "<li class=\"spacer\"/>\n",
       "<li class=\"css_nav_item\" id=\"navTitleMenu\">\n",
       "<p class=\"navCategory\">\n",
       "<a href=\"/movies-in-theaters/?ref_=nv_tp_inth_1\">Movies</a>,\n",
       "                <a href=\"/chart/toptv/?ref_=nv_tp_tv250_2\">TV</a><br/>\n",
       "<a href=\"/showtimes/?ref_=nv_tp_sh_3\">Showtimes</a></p>\n",
       "<span class=\"downArrow\"/>\n",
       "<div class=\"sub_nav\" id=\"navMenu1\">\n",
       "<div id=\"titleAd\"/>\n",
       "<div class=\"subNavListContainer\">\n",
       "<h5>MOVIES</h5>\n",
       "<ul>\n",
       "<li><a href=\"/movies-in-theaters/?ref_=nv_mv_inth_1\">In Theaters</a></li>\n",
       "<li><a href=\"/showtimes/?ref_=nv_mv_sh_2\">Showtimes  Tickets</a></li>\n",
       "<li><a href=\"/trailers/?ref_=nv_mv_tr_3\">Latest Trailers</a></li>\n",
       "<li><a href=\"/movies-coming-soon/?ref_=nv_mv_cs_4\">Coming Soon</a></li>\n",
       "<li><a href=\"/calendar/?ref_=nv_mv_cal_5\">Release Calendar</a></li>\n",
       "</ul>\n",
       "<h5>CHARTS  TRENDS</h5>\n",
       "<ul>\n",
       "<li><a href=\"/search/title?count=100=feature,tv_series,tv_movie=title_type,genres,year,countries=nv_ch_mm_1\"> Popular Movies  TV\n",
       "</a> </li>\n",
       "<li><a href=\"/chart/?ref_=nv_ch_cht_2\">Box Office</a></li>\n",
       "<li><a href=\"/search/title?count=100=oscar_best_picture_winners=year,desc=nv_ch_osc_3\">Oscar Winners</a></li>\n",
       "<li><a href=\"/chart/top?ref_=nv_ch_250_4\">Top 250 Movies</a></li>\n",
       "<li><a href=\"/genre/?ref_=nv_ch_gr_5\">Most Popular by Genre</a></li>\n",
       "</ul>\n",
       "</div>\n",
       "<div class=\"subNavListContainer\">\n",
       "<h5>TV  VIDEO</h5>\n",
       "<ul>\n",
       "<li><a href=\"/falltv/?ref_=nv_tvv_fall_1\">Fall TV</a></li>\n",
       "<li><a href=\"/list/ls074418362/?ref_=nv_tvv_picks_2\">TV Picks</a></li>\n",
       "<li><a href=\"/tvgrid/?ref_=nv_tvv_ls_3\">On Tonight</a></li>\n",
       "<li><a href=\"/chart/toptv/?ref_=nv_tvv_250_4\">Top 250 TV</a></li>\n",
       "<li><a href=\"/list/ls074093523/?ref_=nv_tvv_wn_5\">Watch Now on Amazon</a></li>\n",
       "<li><a href=\"/sections/dvd/?ref_=nv_tvv_dvd_6\">DVD  Blu-Ray</a></li>\n",
       "</ul>\n",
       "<h5>SPECIAL FEATURES</h5>\n",
       "<ul>\n",
       "<li><a href=\"/family-entertainment-guide/?ref_=nv_sf_feg_1\">Family Entertainment Guide</a></li>\n",
       "<li><a href=\"/best-of/?ref_=nv_sf_bo_2\">Best of 2014</a></li>\n",
       "<li><a href=\"/x-ray/?ref_=nv_sf_xray_3\">X-Ray for Movies  TV</a></li>\n",
       "<li><a href=\"/whattowatch/?ref_=nv_sf_wtw_4\">What to Watch</a></li>\n",
       "</ul>\n",
       "</div>\n",
       "</div>\n",
       "</li>\n",
       "<li class=\"spacer\"/>\n",
       "<li class=\"css_nav_item\" id=\"navNameMenu\">\n",
       "<p class=\"navCategory\">\n",
       "<a href=\"/search/name?gender=male,female=nv_tp_cel_1\">Celebs</a>,\n",
       "                <a href=\"/awards-central/?ref_=nv_tp_awrd_2\">Events</a><br/>\n",
       "<a href=\"/gallery/rg784964352?ref_=nv_tp_ph_3\">Photos</a></p>\n",
       "<span class=\"downArrow\"/>\n",
       "<div class=\"sub_nav\" id=\"navMenu2\">\n",
       "<div id=\"nameAd\"/>\n",
       "<div class=\"subNavListContainer\">\n",
       "<h5>CELEBS</h5>\n",
       "<ul>\n",
       "<li><a href=\"/search/name?birth_monthday=10-04=birth_monthday=nv_cel_brn_1\">Born Today</a></li>\n",
       "<li><a href=\"/news/celebrity?ref_=nv_cel_nw_2\">Celebrity News</a></li>\n",
       "<li><a href=\"/search/name?gender=male,female=nv_cel_m_3\">Most Popular Celebs</a></li>\n",
       "</ul>\n",
       "<h5>PHOTOS</h5>\n",
       "<ul>\n",
       "<li><a href=\"/gallery/rg784964352?ref_=nv_ph_ls_1\">Latest Stills</a></li>\n",
       "<li><a href=\"/gallery/rg1528338944?ref_=nv_ph_lp_2\">Latest Posters</a></li>\n",
       "<li><a href=\"/gallery/rg2465176320?ref_=nv_ph_lv_3\">Photos We Love</a></li>\n",
       "</ul>\n",
       "</div>\n",
       "<div class=\"subNavListContainer\">\n",
       "<h5>EVENTS</h5>\n",
       "<ul>\n",
       "<li><a href=\"/awards-central/?ref_=nv_ev_awrd_1\">Awards Central</a></li>\n",
       "<li><a href=\"/sundance/?ref_=nv_ev_sun_2\">Sundance</a></li>\n",
       "<li><a href=\"/sxsw/?ref_=nv_ev_sxsw_3\">SXSW Film Festival</a></li>\n",
       "<li><a href=\"/tribeca/?ref_=nv_ev_tri_4\">Tribeca</a></li>\n",
       "<li><a href=\"/cannes/?ref_=nv_ev_can_5\">Cannes</a></li>\n",
       "<li><a href=\"/comic-con/?ref_=nv_ev_comic_6\">Comic-Con</a></li>\n",
       "<li><a href=\"/emmys/?ref_=nv_ev_rte_7\">Emmy Awards</a></li>\n",
       "<li><a href=\"/venice/?ref_=nv_ev_venice_8\">Venice Film Festival</a></li>\n",
       "<li><a href=\"/toronto/?ref_=nv_ev_tff_9\">Toronto Film Festival</a></li>\n",
       "<li><a href=\"/awards-central/?ref_=nv_ev_all_10\">More Popular Events</a></li>\n",
       "</ul>\n",
       "</div>\n",
       "</div>\n",
       "</li>\n",
       "<li class=\"spacer\"/>\n",
       "<li class=\"css_nav_item\" id=\"navNewsMenu\">\n",
       "<p class=\"navCategory\">\n",
       "<a href=\"/news/top?ref_=nv_tp_nw_1\">News</a> <br/>\n",
       "<a href=\"/boards/?ref_=nv_tp_bd_2\">Community</a></p>\n",
       "<span class=\"downArrow\"/>\n",
       "<div class=\"sub_nav\" id=\"navMenu3\">\n",
       "<div id=\"latestHeadlines\">\n",
       "<div class=\"subNavListContainer\">\n",
       "<h5>LATEST HEADLINES</h5>\n",
       "<ul>\n",
       "<li itemprop=\"headline\">\n",
       "<a href=\"/news/ni59071599/?ref_=nv_nw_tn_1\"> Box Office: ‘The Martian’ Rockets to $18 Million Opening Day\n",
       "</a><br/>\n",
       "<span class=\"time\">13 hours ago</span>\n",
       "</li>\n",
       "<li itemprop=\"headline\">\n",
       "<a href=\"/news/ni59071941/?ref_=nv_nw_tn_2\"> Guillermo del Toro Wants Maisie Williams in ‘Pacific Rim 2′\n",
       "</a><br/>\n",
       "<span class=\"time\">10 hours ago</span>\n",
       "</li>\n",
       "<li itemprop=\"headline\">\n",
       "<a href=\"/news/ni59072069/?ref_=nv_nw_tn_3\"> ‘Red’ Writers Boards Sony’s ‘Gran Turismo’ Movie\n",
       "</a><br/>\n",
       "<span class=\"time\">9 hours ago</span>\n",
       "</li>\n",
       "</ul>\n",
       "</div>\n",
       "</div>\n",
       "<div class=\"subNavListContainer\">\n",
       "<h5>NEWS</h5>\n",
       "<ul>\n",
       "<li><a href=\"/news/top?ref_=nv_nw_tp_1\">Top News</a></li>\n",
       "<li><a href=\"/news/movie?ref_=nv_nw_mv_2\">Movie News</a></li>\n",
       "<li><a href=\"/news/tv?ref_=nv_nw_tv_3\">TV News</a></li>\n",
       "<li><a href=\"/news/celebrity?ref_=nv_nw_cel_4\">Celebrity News</a></li>\n",
       "<li><a href=\"/news/indie?ref_=nv_nw_ind_5\">Indie News</a></li>\n",
       "</ul>\n",
       "<h5>COMMUNITY</h5>\n",
       "<ul>\n",
       "<li><a href=\"/boards/?ref_=nv_cm_bd_1\">Message Boards</a></li>\n",
       "<li><a href=\"/czone/?ref_=nv_cm_cz_2\">Contributor Zone</a></li>\n",
       "<li><a href=\"/games/guess?ref_=nv_cm_qz_3\">Quiz Game</a></li>\n",
       "<li><a href=\"/poll/?ref_=nv_cm_pl_4\">Polls</a></li>\n",
       "</ul>\n",
       "</div>\n",
       "</div>\n",
       "</li>\n",
       "<li class=\"spacer\"/>\n",
       "<li class=\"css_nav_item\" id=\"navWatchlistMenu\">\n",
       "<p class=\"navCategory singleLine watchlist\">\n",
       "<a href=\"/list/watchlist?ref_=nv_wl_all_0\">Watchlist</a>\n",
       "</p>\n",
       "<span class=\"downArrow\"/>\n",
       "<div class=\"sub_nav\" id=\"navMenu4\">\n",
       "<h5>\n",
       "            YOUR WATCHLIST\n",
       "    </h5>\n",
       "<ul id=\"navWatchlist\">\n",
       "</ul>\n",
       "<script>\n",
       "    if (!('imdb' in window)) { window.imdb = {}; }\n",
       "    window.imdb.watchlistTeaserData = [\n",
       "                {\n",
       "                        href : \"/list/watchlist\",\n",
       "                src : \"http://ia.media-imdb.com/images/G/01/imdb/images/navbar/watchlist_slot1_logged_out-1670046337._CB306318084_.jpg\"\n",
       "                },\n",
       "                {\n",
       "                    href : \"/search/title?count=100=feature,tv_series\",\n",
       "                src : \"http://ia.media-imdb.com/images/G/01/imdb/images/navbar/watchlist_slot2_popular-4090757197._CB306318127_.jpg\"\n",
       "                },\n",
       "                {\n",
       "                    href : \"/chart/top\",\n",
       "                src : \"http://ia.media-imdb.com/images/G/01/imdb/images/navbar/watchlist_slot3_top250-575799966._CB306318332_.jpg\"\n",
       "                }\n",
       "    ];\n",
       "    </script>\n",
       "</div>\n",
       "</li>\n",
       "<li class=\"spacer\"/>\n",
       "</ul>\n",
       "<script>\n",
       "if (!('imdb' in window)) { window.imdb = {}; }\n",
       "window.imdb.navbarAdSlots = {\n",
       "    titleAd : {\n",
       "    },\n",
       "    nameAd : {\n",
       "    }\n",
       "}\n",
       "</script>\n",
       "</div>\n",
       "<div id=\"nb_extra\">\n",
       "<ul class=\"main_nav\" id=\"nb_extra_nav\">\n",
       "<li class=\"css_nav_item\" id=\"navProMenu\">\n",
       "<p class=\"navCategory\">\n",
       "<a href=\"http://pro.imdb.com/signup/index.html?rf=cons_nb_hm=cons_nb_hm\"> <img alt=\"IMDbPro Menu\" src=\"http://ia.media-imdb.com/images/G/01/imdb/images/navbar/imdbpro_logo_nb-720143162._CB306318304_.png\"/>\n",
       "</a> </p>\n",
       "<span class=\"downArrow\"/>\n",
       "<div class=\"sub_nav\" id=\"navMenuPro\">\n",
       "<a href=\"http://pro.imdb.com/signup/index.html?rf=cons_nb_hm=cons_nb_hm\" id=\"proLink\"> <div id=\"proAd\">\n",
       "<script>\n",
       "if (!('imdb' in window)) { window.imdb = {}; }\n",
       "window.imdb.proMenuTeaser = {\n",
       "imageUrl : \"http://ia.media-imdb.com/images/G/01/imdb/images/navbar/imdbpro_menu_user-2082544740._CB306318138_.jpg\"\n",
       "};\n",
       "</script>\n",
       "</div>\n",
       "<div class=\"subNavListContainer\">\n",
       "<img alt=\"Go to IMDbPro\" src=\"http://ia.media-imdb.com/images/G/01/imdb/images/navbar/imdbpro_logo_menu-2185879182._CB306318245_.png\" title=\"Go to IMDbPro\"/>\n",
       "<h5>GET INFORMED</h5>\n",
       "<p>Industry information at your fingertips</p>\n",
       "<h5>GET CONNECTED</h5>\n",
       "<p>Over 200,000 Hollywood insiders</p>\n",
       "<h5>GET DISCOVERED</h5>\n",
       "<p>Enhance your IMDb Page</p>\n",
       "<p><strong>Go to IMDbPro </strong></p>\n",
       "</div>\n",
       "</a> </div>\n",
       "</li>\n",
       "<li class=\"spacer\"><span class=\"ghost\">|</span></li>\n",
       "<li>\n",
       "<a href=\"/help/?ref_=nb_hlp\">Help</a>\n",
       "</li>\n",
       "<li class=\"social\">\n",
       "<a href=\"/offsite/?page-action=fol_fb=BCYvEpoJ1IU7uIE1GHgp_T8GAdeD8CKhM2uNWlbGEZIqdVGOqU-YyVDrTbmds5XdaAdRI_M-0Bfn%0D%0AivvuwuP4JXKc3bFWDUCDv7St55Adwscj1rmpvjlDun9mQJStwxOizvW74wzJ_bSUOX8v0exTl30X%0D%0AuE2kH_Q9EWl_9ByjKZ7X9cLTliiJhV5wak1q6JhQrPYqqvAf3FkLkWZtKFaOUsYo4w%0D%0A=nv_fol_fb\" itemprop=\"url\" target=\"_blank\" title=\"Follow IMDb on Facebook\"> <span class=\"desktop-sprite follow-facebook\"/>\n",
       "</a>\n",
       "<a href=\"/offsite/?page-action=fol_tw=BCYsqqEmf7yeVjwGBQ-spfjzslNL302VBgx2oHjaMBzCdxs9ia44W0vKWeeCzLjfG3sbxezjHlna%0D%0AkjJarVqPM_-YLKoHckQ-JSEDx1j2yGNhuEmVnZcSxa9yz2-jTgqBcjlh2GKJ6lj2jEO3r-_OXhdt%0D%0ARnGsnM-rRbQb-TkaGCHCWr4x2lqzt-kLG6Ck5mVL8njH%0D%0A=nv_fol_tw\" itemprop=\"url\" target=\"_blank\" title=\"Follow IMDb on Twitter\"> <span class=\"desktop-sprite follow-twitter\"/>\n",
       "</a>\n",
       "<a href=\"/offsite/?page-action=fol_inst=BCYiATTD3oXtYfvTjTc6PjvSdl1UZL_V_J0f0zDn88CsuFNMAJHpivNSQy-IcrJg9wgA6NyAiu8l%0D%0Al7iGaQHStkM7-RE4hOsEmtzxQtPO-vDpDCy72WaJKFp1_z_tzhFVjbIa7CZLUvqsqTd7eHkWaCQw%0D%0AP9qRRfuPYBdyk6x-jrqYAJ8T3gQ7qKo-DgE5OHaXcoIKSp8WRDSMpBT7E2T2DOLh4A%0D%0A=nv_fol_inst\" itemprop=\"url\" target=\"_blank\" title=\"Follow IMDb on Instagram\"> <span class=\"desktop-sprite follow-instagram\"/>\n",
       "</a>\n",
       "</li>\n",
       "</ul>\n",
       "</div>\n",
       "<div id=\"nb_personal\">\n",
       "<ul class=\"main_nav\" id=\"consumer_user_nav\">\n",
       "<li class=\"css_nav_menu\" id=\"navUserMenu\">\n",
       "<p class=\"navCategory singleLine\">\n",
       "<a href=\"/register/login?ref_=nv_usr_lgin_1\" id=\"nblogin\" rel=\"login\">Login</a>\n",
       "</p>\n",
       "<span class=\"downArrow\"/>\n",
       "<div class=\"sub_nav\">\n",
       "<div class=\"subNavListContainer\">\n",
       "<br/>\n",
       "<ul>\n",
       "<li>\n",
       "<a href=\"https://secure.imdb.com/register-imdb/form-v2?ref_=nv_usr_reg_2\">Register</a>\n",
       "</li>\n",
       "<li>\n",
       "<a href=\"/register/login?ref_=nv_usr_lgin_3\" id=\"nblogin\" rel=\"login\">Login</a>\n",
       "</li>\n",
       "</ul>\n",
       "</div>\n",
       "</div>\n",
       "</li>\n",
       "</ul>\n",
       "</div>\n",
       "</form>\n",
       "</div>\n",
       "<!-- no content received for slot: navstrip -->\n",
       "<!-- no content received for slot: injected_navstrip -->\n",
       "<script>\n",
       "    if (typeof uet == 'function') {\n",
       "      uet(\"ne\");\n",
       "    }\n",
       "</script>\n",
       "<div class=\"pagecontent\" id=\"pagecontent\">itemtype=\"http://schema.org/Movie\"&gt;\n",
       "\t\n",
       "\t<!-- no content received for slot: injected_billboard -->\n",
       "<div class=\"redesign\" id=\"content-2-wide\">\n",
       "<div id=\"main\">\n",
       "<div class=\"article listo\">\n",
       "<span>rightcornerlink &gt;\n",
       "            <a href=\"/register/login?why=edit=ttkw_kw_edt\" rel=\"login\">Edit</a>\n",
       "</span>\n",
       "<div class=\"subpage_title_block\">\n",
       "<a href=\"/title/tt2051879/?ref_=ttkw_kw_tt\"> <img alt=\"Europa Report (2013) Poster\" class=\"poster\" height=\"98\" itemprop=\"image\" src=\"http://ia.media-imdb.com/images/M/MV5BMjA2OTk5ODkxMl5BMl5BanBnXkFtZTcwODc4MDk0OQ@@._V1_UY98_CR1,0,67,98_AL_.jpg\" width=\"67\"/>\n",
       "</a> <div class=\"parent\">\n",
       "<h3 itemprop=\"name\">\n",
       "<a href=\"/title/tt2051879/?ref_=ttkw_kw_tt\" itemprop=\"url\">Europa Report</a> <span class=\"nobr\">\n",
       "             (2013)\n",
       "         </span>\n",
       "</h3>\n",
       "</div>\n",
       "<script>\n",
       "    if ('csm' in window) {\n",
       "      csm.measure('csm_body_delivery_started');\n",
       "    }\n",
       "  </script>\n",
       "<h1 class=\"header\">Plot Keywords</h1>\n",
       "</div>\n",
       "<div class=\"header\" id=\"keywords_content\">\n",
       "<div class=\"sort-controls\">\n",
       "              Sort By: <select name=\"sort\">\n",
       "<option selected=\"selected\" value=\"votes:descending\">Relevance</option>\n",
       "<option value=\"alpha:ascending\">Alphabetical</option>\n",
       "</select>\n",
       "<span class=\"global-sprite lister-sort-reverse ascending\" title=\"Descending order\"/>\n",
       "</div>\n",
       "<div class=\"header\"><div class=\"nav\"><div class=\"desc\">Showing all 55 plot keywords</div></div></div>\n",
       "<table class=\"dataTable evenWidthTable2Col\"><tbody>\n",
       "<tr class=\"odd\">\n",
       "<td class=\"soda sodavote\" data-item-keyword=\"found-footage\" data-item-votes=\"0\">\n",
       "<div class=\"sodatext\">\n",
       "<a href=\"/keyword/found-footage?ref_=ttkw_kw_1\">found footage</a>\n",
       "</div>\n",
       "<div class=\"did-you-know-actions\">\n",
       "<div class=\"interesting-count-text\">\n",
       "<a href=\"?item=kw0024228\"> 1 of 1 found this relevant\n",
       "</a> </div>\n",
       "<span class=\"interesting-cast-vote\" data-item-id=\"kw0024228\" data-item-type=\"keyword\">\n",
       "<span>Relevant?</span>\n",
       "<button class=\"cast-vote\" value=\"up\">Yes</button>\n",
       "<button class=\"cast-vote\" value=\"down\">No</button>\n",
       "</span>\n",
       "</div>\n",
       "</td>\n",
       "<td class=\"soda sodavote\" data-item-keyword=\"moon\" data-item-votes=\"1\">\n",
       "<div class=\"sodatext\">\n",
       "<a href=\"/keyword/moon?ref_=ttkw_kw_2\">moon</a>\n",
       "</div>\n",
       "<div class=\"did-you-know-actions\">\n",
       "<div class=\"interesting-count-text\">\n",
       "<a href=\"?item=kw0012992\"> Is this relevant?\n",
       "</a> </div>\n",
       "<span class=\"interesting-cast-vote\" data-item-id=\"kw0012992\" data-item-type=\"keyword\">\n",
       "<span>Relevant?</span>\n",
       "<button class=\"cast-vote\" value=\"up\">Yes</button>\n",
       "<button class=\"cast-vote\" value=\"down\">No</button>\n",
       "</span>\n",
       "</div>\n",
       "</td>\n",
       "</tr>\n",
       "<tr class=\"even\">\n",
       "<td class=\"soda sodavote\" data-item-keyword=\"astronaut\" data-item-votes=\"2\">\n",
       "<div class=\"sodatext\">\n",
       "<a href=\"/keyword/astronaut?ref_=ttkw_kw_3\">astronaut</a>\n",
       "</div>\n",
       "<div class=\"did-you-know-actions\">\n",
       "<div class=\"interesting-count-text\">\n",
       "<a href=\"?item=kw0019501\"> Is this relevant?\n",
       "</a> </div>\n",
       "<span class=\"interesting-cast-vote\" data-item-id=\"kw0019501\" data-item-type=\"keyword\">\n",
       "<span>Relevant?</span>\n",
       "<button class=\"cast-vote\" value=\"up\">Yes</button>\n",
       "<button class=\"cast-vote\" value=\"down\">No</button>\n",
       "</span>\n",
       "</div>\n",
       "</td>\n",
       "<td class=\"soda sodavote\" data-item-keyword=\"hydrazine\" data-item-votes=\"3\">\n",
       "<div class=\"sodatext\">\n",
       "<a href=\"/keyword/hydrazine?ref_=ttkw_kw_4\">hydrazine</a>\n",
       "</div>\n",
       "<div class=\"did-you-know-actions\">\n",
       "<div class=\"interesting-count-text\">\n",
       "<a href=\"?item=kw0184425\"> Is this relevant?\n",
       "</a> </div>\n",
       "<span class=\"interesting-cast-vote\" data-item-id=\"kw0184425\" data-item-type=\"keyword\">\n",
       "<span>Relevant?</span>\n",
       "<button class=\"cast-vote\" value=\"up\">Yes</button>\n",
       "<button class=\"cast-vote\" value=\"down\">No</button>\n",
       "</span>\n",
       "</div>\n",
       "</td>\n",
       "</tr>\n",
       "<tr class=\"odd\">\n",
       "<td class=\"soda sodavote\" data-item-keyword=\"alien\" data-item-votes=\"4\">\n",
       "<div class=\"sodatext\">\n",
       "<a href=\"/keyword/alien?ref_=ttkw_kw_5\">alien</a>\n",
       "</div>\n",
       "<div class=\"did-you-know-actions\">\n",
       "<div class=\"interesting-count-text\">\n",
       "<a href=\"?item=kw0015431\"> Is this relevant?\n",
       "</a> </div>\n",
       "<span class=\"interesting-cast-vote\" data-item-id=\"kw0015431\" data-item-type=\"keyword\">\n",
       "<span>Relevant?</span>\n",
       "<button class=\"cast-vote\" value=\"up\">Yes</button>\n",
       "<button class=\"cast-vote\" value=\"down\">No</button>\n",
       "</span>\n",
       "</div>\n",
       "</td>\n",
       "<td class=\"soda sodavote\" data-item-keyword=\"ice\" data-item-votes=\"5\">\n",
       "<div class=\"sodatext\">\n",
       "<a href=\"/keyword/ice?ref_=ttkw_kw_6\">ice</a>\n",
       "</div>\n",
       "<div class=\"did-you-know-actions\">\n",
       "<div class=\"interesting-count-text\">\n",
       "<a href=\"?item=kw0013204\"> Is this relevant?\n",
       "</a> </div>\n",
       "<span class=\"interesting-cast-vote\" data-item-id=\"kw0013204\" data-item-type=\"keyword\">\n",
       "<span>Relevant?</span>\n",
       "<button class=\"cast-vote\" value=\"up\">Yes</button>\n",
       "<button class=\"cast-vote\" value=\"down\">No</button>\n",
       "</span>\n",
       "</div>\n",
       "</td>\n",
       "</tr>\n",
       "<tr class=\"even\">\n",
       "<td class=\"soda sodavote\" data-item-keyword=\"characters-killed-one-by-one\" data-item-votes=\"6\">\n",
       "<div class=\"sodatext\">\n",
       "<a href=\"/keyword/characters-killed-one-by-one?ref_=ttkw_kw_7\">characters killed one by one</a>\n",
       "</div>\n",
       "<div class=\"did-you-know-actions\">\n",
       "<div class=\"interesting-count-text\">\n",
       "<a href=\"?item=kw0085712\"> Is this relevant?\n",
       "</a> </div>\n",
       "<span class=\"interesting-cast-vote\" data-item-id=\"kw0085712\" data-item-type=\"keyword\">\n",
       "<span>Relevant?</span>\n",
       "<button class=\"cast-vote\" value=\"up\">Yes</button>\n",
       "<button class=\"cast-vote\" value=\"down\">No</button>\n",
       "</span>\n",
       "</div>\n",
       "</td>\n",
       "<td class=\"soda sodavote\" data-item-keyword=\"moonscape\" data-item-votes=\"7\">\n",
       "<div class=\"sodatext\">\n",
       "<a href=\"/keyword/moonscape?ref_=ttkw_kw_8\">moonscape</a>\n",
       "</div>\n",
       "<div class=\"did-you-know-actions\">\n",
       "<div class=\"interesting-count-text\">\n",
       "<a href=\"?item=kw0188885\"> Is this relevant?\n",
       "</a> </div>\n",
       "<span class=\"interesting-cast-vote\" data-item-id=\"kw0188885\" data-item-type=\"keyword\">\n",
       "<span>Relevant?</span>\n",
       "<button class=\"cast-vote\" value=\"up\">Yes</button>\n",
       "<button class=\"cast-vote\" value=\"down\">No</button>\n",
       "</span>\n",
       "</div>\n",
       "</td>\n",
       "</tr>\n",
       "<tr class=\"odd\">\n",
       "<td class=\"soda sodavote\" data-item-keyword=\"spacewalk\" data-item-votes=\"8\">\n",
       "<div class=\"sodatext\">\n",
       "<a href=\"/keyword/spacewalk?ref_=ttkw_kw_9\">spacewalk</a>\n",
       "</div>\n",
       "<div class=\"did-you-know-actions\">\n",
       "<div class=\"interesting-count-text\">\n",
       "<a href=\"?item=kw0020458\"> Is this relevant?\n",
       "</a> </div>\n",
       "<span class=\"interesting-cast-vote\" data-item-id=\"kw0020458\" data-item-type=\"keyword\">\n",
       "<span>Relevant?</span>\n",
       "<button class=\"cast-vote\" value=\"up\">Yes</button>\n",
       "<button class=\"cast-vote\" value=\"down\">No</button>\n",
       "</span>\n",
       "</div>\n",
       "</td>\n",
       "<td class=\"soda sodavote\" data-item-keyword=\"solar-flare\" data-item-votes=\"9\">\n",
       "<div class=\"sodatext\">\n",
       "<a href=\"/keyword/solar-flare?ref_=ttkw_kw_10\">solar flare</a>\n",
       "</div>\n",
       "<div class=\"did-you-know-actions\">\n",
       "<div class=\"interesting-count-text\">\n",
       "<a href=\"?item=kw0081716\"> Is this relevant?\n",
       "</a> </div>\n",
       "<span class=\"interesting-cast-vote\" data-item-id=\"kw0081716\" data-item-type=\"keyword\">\n",
       "<span>Relevant?</span>\n",
       "<button class=\"cast-vote\" value=\"up\">Yes</button>\n",
       "<button class=\"cast-vote\" value=\"down\">No</button>\n",
       "</span>\n",
       "</div>\n",
       "</td>\n",
       "</tr>\n",
       "<tr class=\"even\">\n",
       "<td class=\"soda sodavote\" data-item-keyword=\"weightless\" data-item-votes=\"10\">\n",
       "<div class=\"sodatext\">\n",
       "<a href=\"/keyword/weightless?ref_=ttkw_kw_11\">weightless</a>\n",
       "</div>\n",
       "<div class=\"did-you-know-actions\">\n",
       "<div class=\"interesting-count-text\">\n",
       "<a href=\"?item=kw0187778\"> Is this relevant?\n",
       "</a> </div>\n",
       "<span class=\"interesting-cast-vote\" data-item-id=\"kw0187778\" data-item-type=\"keyword\">\n",
       "<span>Relevant?</span>\n",
       "<button class=\"cast-vote\" value=\"up\">Yes</button>\n",
       "<button class=\"cast-vote\" value=\"down\">No</button>\n",
       "</span>\n",
       "</div>\n",
       "</td>\n",
       "<td class=\"soda sodavote\" data-item-keyword=\"year-1972\" data-item-votes=\"11\">\n",
       "<div class=\"sodatext\">\n",
       "<a href=\"/keyword/year-1972?ref_=ttkw_kw_12\">year 1972</a>\n",
       "</div>\n",
       "<div class=\"did-you-know-actions\">\n",
       "<div class=\"interesting-count-text\">\n",
       "<a href=\"?item=kw0052637\"> Is this relevant?\n",
       "</a> </div>\n",
       "<span class=\"interesting-cast-vote\" data-item-id=\"kw0052637\" data-item-type=\"keyword\">\n",
       "<span>Relevant?</span>\n",
       "<button class=\"cast-vote\" value=\"up\">Yes</button>\n",
       "<button class=\"cast-vote\" value=\"down\">No</button>\n",
       "</span>\n",
       "</div>\n",
       "</td>\n",
       "</tr>\n",
       "<tr class=\"odd\">\n",
       "<td class=\"soda sodavote\" data-item-keyword=\"rocket-launching\" data-item-votes=\"12\">\n",
       "<div class=\"sodatext\">\n",
       "<a href=\"/keyword/rocket-launching?ref_=ttkw_kw_13\">rocket launching</a>\n",
       "</div>\n",
       "<div class=\"did-you-know-actions\">\n",
       "<div class=\"interesting-count-text\">\n",
       "<a href=\"?item=kw0020811\"> Is this relevant?\n",
       "</a> </div>\n",
       "<span class=\"interesting-cast-vote\" data-item-id=\"kw0020811\" data-item-type=\"keyword\">\n",
       "<span>Relevant?</span>\n",
       "<button class=\"cast-vote\" value=\"up\">Yes</button>\n",
       "<button class=\"cast-vote\" value=\"down\">No</button>\n",
       "</span>\n",
       "</div>\n",
       "</td>\n",
       "<td class=\"soda sodavote\" data-item-keyword=\"tedium\" data-item-votes=\"13\">\n",
       "<div class=\"sodatext\">\n",
       "<a href=\"/keyword/tedium?ref_=ttkw_kw_14\">tedium</a>\n",
       "</div>\n",
       "<div class=\"did-you-know-actions\">\n",
       "<div class=\"interesting-count-text\">\n",
       "<a href=\"?item=kw0096489\"> Is this relevant?\n",
       "</a> </div>\n",
       "<span class=\"interesting-cast-vote\" data-item-id=\"kw0096489\" data-item-type=\"keyword\">\n",
       "<span>Relevant?</span>\n",
       "<button class=\"cast-vote\" value=\"up\">Yes</button>\n",
       "<button class=\"cast-vote\" value=\"down\">No</button>\n",
       "</span>\n",
       "</div>\n",
       "</td>\n",
       "</tr>\n",
       "<tr class=\"even\">\n",
       "<td class=\"soda sodavote\" data-item-keyword=\"begins-with-text\" data-item-votes=\"14\">\n",
       "<div class=\"sodatext\">\n",
       "<a href=\"/keyword/begins-with-text?ref_=ttkw_kw_15\">begins with text</a>\n",
       "</div>\n",
       "<div class=\"did-you-know-actions\">\n",
       "<div class=\"interesting-count-text\">\n",
       "<a href=\"?item=kw0090202\"> Is this relevant?\n",
       "</a> </div>\n",
       "<span class=\"interesting-cast-vote\" data-item-id=\"kw0090202\" data-item-type=\"keyword\">\n",
       "<span>Relevant?</span>\n",
       "<button class=\"cast-vote\" value=\"up\">Yes</button>\n",
       "<button class=\"cast-vote\" value=\"down\">No</button>\n",
       "</span>\n",
       "</div>\n",
       "</td>\n",
       "<td class=\"soda sodavote\" data-item-keyword=\"two-word-title\" data-item-votes=\"15\">\n",
       "<div class=\"sodatext\">\n",
       "<a href=\"/keyword/two-word-title?ref_=ttkw_kw_16\">two word title</a>\n",
       "</div>\n",
       "<div class=\"did-you-know-actions\">\n",
       "<div class=\"interesting-count-text\">\n",
       "<a href=\"?item=kw0061659\"> Is this relevant?\n",
       "</a> </div>\n",
       "<span class=\"interesting-cast-vote\" data-item-id=\"kw0061659\" data-item-type=\"keyword\">\n",
       "<span>Relevant?</span>\n",
       "<button class=\"cast-vote\" value=\"up\">Yes</button>\n",
       "<button class=\"cast-vote\" value=\"down\">No</button>\n",
       "</span>\n",
       "</div>\n",
       "</td>\n",
       "</tr>\n",
       "<tr class=\"odd\">\n",
       "<td class=\"soda sodavote\" data-item-keyword=\"trapped-in-space\" data-item-votes=\"16\">\n",
       "<div class=\"sodatext\">\n",
       "<a href=\"/keyword/trapped-in-space?ref_=ttkw_kw_17\">trapped in space</a>\n",
       "</div>\n",
       "<div class=\"did-you-know-actions\">\n",
       "<div class=\"interesting-count-text\">\n",
       "<a href=\"?item=kw0157137\"> Is this relevant?\n",
       "</a> </div>\n",
       "<span class=\"interesting-cast-vote\" data-item-id=\"kw0157137\" data-item-type=\"keyword\">\n",
       "<span>Relevant?</span>\n",
       "<button class=\"cast-vote\" value=\"up\">Yes</button>\n",
       "<button class=\"cast-vote\" value=\"down\">No</button>\n",
       "</span>\n",
       "</div>\n",
       "</td>\n",
       "<td class=\"soda sodavote\" data-item-keyword=\"creature\" data-item-votes=\"17\">\n",
       "<div class=\"sodatext\">\n",
       "<a href=\"/keyword/creature?ref_=ttkw_kw_18\">creature</a>\n",
       "</div>\n",
       "<div class=\"did-you-know-actions\">\n",
       "<div class=\"interesting-count-text\">\n",
       "<a href=\"?item=kw0018188\"> Is this relevant?\n",
       "</a> </div>\n",
       "<span class=\"interesting-cast-vote\" data-item-id=\"kw0018188\" data-item-type=\"keyword\">\n",
       "<span>Relevant?</span>\n",
       "<button class=\"cast-vote\" value=\"up\">Yes</button>\n",
       "<button class=\"cast-vote\" value=\"down\">No</button>\n",
       "</span>\n",
       "</div>\n",
       "</td>\n",
       "</tr>\n",
       "<tr class=\"even\">\n",
       "<td class=\"soda sodavote\" data-item-keyword=\"tentacle\" data-item-votes=\"18\">\n",
       "<div class=\"sodatext\">\n",
       "<a href=\"/keyword/tentacle?ref_=ttkw_kw_19\">tentacle</a>\n",
       "</div>\n",
       "<div class=\"did-you-know-actions\">\n",
       "<div class=\"interesting-count-text\">\n",
       "<a href=\"?item=kw0024744\"> Is this relevant?\n",
       "</a> </div>\n",
       "<span class=\"interesting-cast-vote\" data-item-id=\"kw0024744\" data-item-type=\"keyword\">\n",
       "<span>Relevant?</span>\n",
       "<button class=\"cast-vote\" value=\"up\">Yes</button>\n",
       "<button class=\"cast-vote\" value=\"down\">No</button>\n",
       "</span>\n",
       "</div>\n",
       "</td>\n",
       "<td class=\"soda sodavote\" data-item-keyword=\"spaceship-crash\" data-item-votes=\"19\">\n",
       "<div class=\"sodatext\">\n",
       "<a href=\"/keyword/spaceship-crash?ref_=ttkw_kw_20\">spaceship crash</a>\n",
       "</div>\n",
       "<div class=\"did-you-know-actions\">\n",
       "<div class=\"interesting-count-text\">\n",
       "<a href=\"?item=kw0019547\"> Is this relevant?\n",
       "</a> </div>\n",
       "<span class=\"interesting-cast-vote\" data-item-id=\"kw0019547\" data-item-type=\"keyword\">\n",
       "<span>Relevant?</span>\n",
       "<button class=\"cast-vote\" value=\"up\">Yes</button>\n",
       "<button class=\"cast-vote\" value=\"down\">No</button>\n",
       "</span>\n",
       "</div>\n",
       "</td>\n",
       "</tr>\n",
       "<tr class=\"odd\">\n",
       "<td class=\"soda sodavote\" data-item-keyword=\"falling-to-death\" data-item-votes=\"20\">\n",
       "<div class=\"sodatext\">\n",
       "<a href=\"/keyword/falling-to-death?ref_=ttkw_kw_21\">falling to death</a>\n",
       "</div>\n",
       "<div class=\"did-you-know-actions\">\n",
       "<div class=\"interesting-count-text\">\n",
       "<a href=\"?item=kw0047150\"> Is this relevant?\n",
       "</a> </div>\n",
       "<span class=\"interesting-cast-vote\" data-item-id=\"kw0047150\" data-item-type=\"keyword\">\n",
       "<span>Relevant?</span>\n",
       "<button class=\"cast-vote\" value=\"up\">Yes</button>\n",
       "<button class=\"cast-vote\" value=\"down\">No</button>\n",
       "</span>\n",
       "</div>\n",
       "</td>\n",
       "<td class=\"soda sodavote\" data-item-keyword=\"knocked-out\" data-item-votes=\"21\">\n",
       "<div class=\"sodatext\">\n",
       "<a href=\"/keyword/knocked-out?ref_=ttkw_kw_22\">knocked out</a>\n",
       "</div>\n",
       "<div class=\"did-you-know-actions\">\n",
       "<div class=\"interesting-count-text\">\n",
       "<a href=\"?item=kw0055020\"> Is this relevant?\n",
       "</a> </div>\n",
       "<span class=\"interesting-cast-vote\" data-item-id=\"kw0055020\" data-item-type=\"keyword\">\n",
       "<span>Relevant?</span>\n",
       "<button class=\"cast-vote\" value=\"up\">Yes</button>\n",
       "<button class=\"cast-vote\" value=\"down\">No</button>\n",
       "</span>\n",
       "</div>\n",
       "</td>\n",
       "</tr>\n",
       "<tr class=\"even\">\n",
       "<td class=\"soda sodavote\" data-item-keyword=\"death\" data-item-votes=\"22\">\n",
       "<div class=\"sodatext\">\n",
       "<a href=\"/keyword/death?ref_=ttkw_kw_23\">death</a>\n",
       "</div>\n",
       "<div class=\"did-you-know-actions\">\n",
       "<div class=\"interesting-count-text\">\n",
       "<a href=\"?item=kw0012048\"> Is this relevant?\n",
       "</a> </div>\n",
       "<span class=\"interesting-cast-vote\" data-item-id=\"kw0012048\" data-item-type=\"keyword\">\n",
       "<span>Relevant?</span>\n",
       "<button class=\"cast-vote\" value=\"up\">Yes</button>\n",
       "<button class=\"cast-vote\" value=\"down\">No</button>\n",
       "</span>\n",
       "</div>\n",
       "</td>\n",
       "<td class=\"soda sodavote\" data-item-keyword=\"reflection-in-eye\" data-item-votes=\"23\">\n",
       "<div class=\"sodatext\">\n",
       "<a href=\"/keyword/reflection-in-eye?ref_=ttkw_kw_24\">reflection in eye</a>\n",
       "</div>\n",
       "<div class=\"did-you-know-actions\">\n",
       "<div class=\"interesting-count-text\">\n",
       "<a href=\"?item=kw0021151\"> Is this relevant?\n",
       "</a> </div>\n",
       "<span class=\"interesting-cast-vote\" data-item-id=\"kw0021151\" data-item-type=\"keyword\">\n",
       "<span>Relevant?</span>\n",
       "<button class=\"cast-vote\" value=\"up\">Yes</button>\n",
       "<button class=\"cast-vote\" value=\"down\">No</button>\n",
       "</span>\n",
       "</div>\n",
       "</td>\n",
       "</tr>\n",
       "<tr class=\"odd\">\n",
       "<td class=\"soda sodavote\" data-item-keyword=\"close-up-of-eyes\" data-item-votes=\"24\">\n",
       "<div class=\"sodatext\">\n",
       "<a href=\"/keyword/close-up-of-eyes?ref_=ttkw_kw_25\">close up of eyes</a>\n",
       "</div>\n",
       "<div class=\"did-you-know-actions\">\n",
       "<div class=\"interesting-count-text\">\n",
       "<a href=\"?item=kw0061500\"> Is this relevant?\n",
       "</a> </div>\n",
       "<span class=\"interesting-cast-vote\" data-item-id=\"kw0061500\" data-item-type=\"keyword\">\n",
       "<span>Relevant?</span>\n",
       "<button class=\"cast-vote\" value=\"up\">Yes</button>\n",
       "<button class=\"cast-vote\" value=\"down\">No</button>\n",
       "</span>\n",
       "</div>\n",
       "</td>\n",
       "<td class=\"soda sodavote\" data-item-keyword=\"falling-through-ice\" data-item-votes=\"25\">\n",
       "<div class=\"sodatext\">\n",
       "<a href=\"/keyword/falling-through-ice?ref_=ttkw_kw_26\">falling through ice</a>\n",
       "</div>\n",
       "<div class=\"did-you-know-actions\">\n",
       "<div class=\"interesting-count-text\">\n",
       "<a href=\"?item=kw0018960\"> Is this relevant?\n",
       "</a> </div>\n",
       "<span class=\"interesting-cast-vote\" data-item-id=\"kw0018960\" data-item-type=\"keyword\">\n",
       "<span>Relevant?</span>\n",
       "<button class=\"cast-vote\" value=\"up\">Yes</button>\n",
       "<button class=\"cast-vote\" value=\"down\">No</button>\n",
       "</span>\n",
       "</div>\n",
       "</td>\n",
       "</tr>\n",
       "<tr class=\"even\">\n",
       "<td class=\"soda sodavote\" data-item-keyword=\"character-says-i-love-you\" data-item-votes=\"26\">\n",
       "<div class=\"sodatext\">\n",
       "<a href=\"/keyword/character-says-i-love-you?ref_=ttkw_kw_27\">character says i love you</a>\n",
       "</div>\n",
       "<div class=\"did-you-know-actions\">\n",
       "<div class=\"interesting-count-text\">\n",
       "<a href=\"?item=kw0072297\"> Is this relevant?\n",
       "</a> </div>\n",
       "<span class=\"interesting-cast-vote\" data-item-id=\"kw0072297\" data-item-type=\"keyword\">\n",
       "<span>Relevant?</span>\n",
       "<button class=\"cast-vote\" value=\"up\">Yes</button>\n",
       "<button class=\"cast-vote\" value=\"down\">No</button>\n",
       "</span>\n",
       "</div>\n",
       "</td>\n",
       "<td class=\"soda sodavote\" data-item-keyword=\"spacesuit\" data-item-votes=\"27\">\n",
       "<div class=\"sodatext\">\n",
       "<a href=\"/keyword/spacesuit?ref_=ttkw_kw_28\">spacesuit</a>\n",
       "</div>\n",
       "<div class=\"did-you-know-actions\">\n",
       "<div class=\"interesting-count-text\">\n",
       "<a href=\"?item=kw0019680\"> Is this relevant?\n",
       "</a> </div>\n",
       "<span class=\"interesting-cast-vote\" data-item-id=\"kw0019680\" data-item-type=\"keyword\">\n",
       "<span>Relevant?</span>\n",
       "<button class=\"cast-vote\" value=\"up\">Yes</button>\n",
       "<button class=\"cast-vote\" value=\"down\">No</button>\n",
       "</span>\n",
       "</div>\n",
       "</td>\n",
       "</tr>\n",
       "<tr class=\"odd\">\n",
       "<td class=\"soda sodavote\" data-item-keyword=\"space-probe\" data-item-votes=\"28\">\n",
       "<div class=\"sodatext\">\n",
       "<a href=\"/keyword/space-probe?ref_=ttkw_kw_29\">space probe</a>\n",
       "</div>\n",
       "<div class=\"did-you-know-actions\">\n",
       "<div class=\"interesting-count-text\">\n",
       "<a href=\"?item=kw0032416\"> Is this relevant?\n",
       "</a> </div>\n",
       "<span class=\"interesting-cast-vote\" data-item-id=\"kw0032416\" data-item-type=\"keyword\">\n",
       "<span>Relevant?</span>\n",
       "<button class=\"cast-vote\" value=\"up\">Yes</button>\n",
       "<button class=\"cast-vote\" value=\"down\">No</button>\n",
       "</span>\n",
       "</div>\n",
       "</td>\n",
       "<td class=\"soda sodavote\" data-item-keyword=\"radiation\" data-item-votes=\"29\">\n",
       "<div class=\"sodatext\">\n",
       "<a href=\"/keyword/radiation?ref_=ttkw_kw_30\">radiation</a>\n",
       "</div>\n",
       "<div class=\"did-you-know-actions\">\n",
       "<div class=\"interesting-count-text\">\n",
       "<a href=\"?item=kw0019691\"> Is this relevant?\n",
       "</a> </div>\n",
       "<span class=\"interesting-cast-vote\" data-item-id=\"kw0019691\" data-item-type=\"keyword\">\n",
       "<span>Relevant?</span>\n",
       "<button class=\"cast-vote\" value=\"up\">Yes</button>\n",
       "<button class=\"cast-vote\" value=\"down\">No</button>\n",
       "</span>\n",
       "</div>\n",
       "</td>\n",
       "</tr>\n",
       "<tr class=\"even\">\n",
       "<td class=\"soda sodavote\" data-item-keyword=\"underwater-scene\" data-item-votes=\"30\">\n",
       "<div class=\"sodatext\">\n",
       "<a href=\"/keyword/underwater-scene?ref_=ttkw_kw_31\">underwater scene</a>\n",
       "</div>\n",
       "<div class=\"did-you-know-actions\">\n",
       "<div class=\"interesting-count-text\">\n",
       "<a href=\"?item=kw0014781\"> Is this relevant?\n",
       "</a> </div>\n",
       "<span class=\"interesting-cast-vote\" data-item-id=\"kw0014781\" data-item-type=\"keyword\">\n",
       "<span>Relevant?</span>\n",
       "<button class=\"cast-vote\" value=\"up\">Yes</button>\n",
       "<button class=\"cast-vote\" value=\"down\">No</button>\n",
       "</span>\n",
       "</div>\n",
       "</td>\n",
       "<td class=\"soda sodavote\" data-item-keyword=\"flashback\" data-item-votes=\"31\">\n",
       "<div class=\"sodatext\">\n",
       "<a href=\"/keyword/flashback?ref_=ttkw_kw_32\">flashback</a>\n",
       "</div>\n",
       "<div class=\"did-you-know-actions\">\n",
       "<div class=\"interesting-count-text\">\n",
       "<a href=\"?item=kw0014752\"> Is this relevant?\n",
       "</a> </div>\n",
       "<span class=\"interesting-cast-vote\" data-item-id=\"kw0014752\" data-item-type=\"keyword\">\n",
       "<span>Relevant?</span>\n",
       "<button class=\"cast-vote\" value=\"up\">Yes</button>\n",
       "<button class=\"cast-vote\" value=\"down\">No</button>\n",
       "</span>\n",
       "</div>\n",
       "</td>\n",
       "</tr>\n",
       "<tr class=\"odd\">\n",
       "<td class=\"soda sodavote\" data-item-keyword=\"rubik's-cube\" data-item-votes=\"32\">\n",
       "<div class=\"sodatext\">\n",
       "<a href=\"/keyword/rubik%27s-cube?ref_=ttkw_kw_33\">rubik's cube</a>\n",
       "</div>\n",
       "<div class=\"did-you-know-actions\">\n",
       "<div class=\"interesting-count-text\">\n",
       "<a href=\"?item=kw0031572\"> Is this relevant?\n",
       "</a> </div>\n",
       "<span class=\"interesting-cast-vote\" data-item-id=\"kw0031572\" data-item-type=\"keyword\">\n",
       "<span>Relevant?</span>\n",
       "<button class=\"cast-vote\" value=\"up\">Yes</button>\n",
       "<button class=\"cast-vote\" value=\"down\">No</button>\n",
       "</span>\n",
       "</div>\n",
       "</td>\n",
       "<td class=\"soda sodavote\" data-item-keyword=\"reference-to-neil-armstrong\" data-item-votes=\"33\">\n",
       "<div class=\"sodatext\">\n",
       "<a href=\"/keyword/reference-to-neil-armstrong?ref_=ttkw_kw_34\">reference to neil armstrong</a>\n",
       "</div>\n",
       "<div class=\"did-you-know-actions\">\n",
       "<div class=\"interesting-count-text\">\n",
       "<a href=\"?item=kw0127057\"> Is this relevant?\n",
       "</a> </div>\n",
       "<span class=\"interesting-cast-vote\" data-item-id=\"kw0127057\" data-item-type=\"keyword\">\n",
       "<span>Relevant?</span>\n",
       "<button class=\"cast-vote\" value=\"up\">Yes</button>\n",
       "<button class=\"cast-vote\" value=\"down\">No</button>\n",
       "</span>\n",
       "</div>\n",
       "</td>\n",
       "</tr>\n",
       "<tr class=\"even\">\n",
       "<td class=\"soda sodavote\" data-item-keyword=\"spaceship-pilot\" data-item-votes=\"34\">\n",
       "<div class=\"sodatext\">\n",
       "<a href=\"/keyword/spaceship-pilot?ref_=ttkw_kw_35\">spaceship pilot</a>\n",
       "</div>\n",
       "<div class=\"did-you-know-actions\">\n",
       "<div class=\"interesting-count-text\">\n",
       "<a href=\"?item=kw0057048\"> Is this relevant?\n",
       "</a> </div>\n",
       "<span class=\"interesting-cast-vote\" data-item-id=\"kw0057048\" data-item-type=\"keyword\">\n",
       "<span>Relevant?</span>\n",
       "<button class=\"cast-vote\" value=\"up\">Yes</button>\n",
       "<button class=\"cast-vote\" value=\"down\">No</button>\n",
       "</span>\n",
       "</div>\n",
       "</td>\n",
       "<td class=\"soda sodavote\" data-item-keyword=\"subjective-camera\" data-item-votes=\"35\">\n",
       "<div class=\"sodatext\">\n",
       "<a href=\"/keyword/subjective-camera?ref_=ttkw_kw_36\">subjective camera</a>\n",
       "</div>\n",
       "<div class=\"did-you-know-actions\">\n",
       "<div class=\"interesting-count-text\">\n",
       "<a href=\"?item=kw0042569\"> Is this relevant?\n",
       "</a> </div>\n",
       "<span class=\"interesting-cast-vote\" data-item-id=\"kw0042569\" data-item-type=\"keyword\">\n",
       "<span>Relevant?</span>\n",
       "<button class=\"cast-vote\" value=\"up\">Yes</button>\n",
       "<button class=\"cast-vote\" value=\"down\">No</button>\n",
       "</span>\n",
       "</div>\n",
       "</td>\n",
       "</tr>\n",
       "<tr class=\"odd\">\n",
       "<td class=\"soda sodavote\" data-item-keyword=\"earth-viewed-from-space\" data-item-votes=\"36\">\n",
       "<div class=\"sodatext\">\n",
       "<a href=\"/keyword/earth-viewed-from-space?ref_=ttkw_kw_37\">earth viewed from space</a>\n",
       "</div>\n",
       "<div class=\"did-you-know-actions\">\n",
       "<div class=\"interesting-count-text\">\n",
       "<a href=\"?item=kw0049642\"> Is this relevant?\n",
       "</a> </div>\n",
       "<span class=\"interesting-cast-vote\" data-item-id=\"kw0049642\" data-item-type=\"keyword\">\n",
       "<span>Relevant?</span>\n",
       "<button class=\"cast-vote\" value=\"up\">Yes</button>\n",
       "<button class=\"cast-vote\" value=\"down\">No</button>\n",
       "</span>\n",
       "</div>\n",
       "</td>\n",
       "<td class=\"soda sodavote\" data-item-keyword=\"space-shuttle-launch\" data-item-votes=\"37\">\n",
       "<div class=\"sodatext\">\n",
       "<a href=\"/keyword/space-shuttle-launch?ref_=ttkw_kw_38\">space shuttle launch</a>\n",
       "</div>\n",
       "<div class=\"did-you-know-actions\">\n",
       "<div class=\"interesting-count-text\">\n",
       "<a href=\"?item=kw0116161\"> Is this relevant?\n",
       "</a> </div>\n",
       "<span class=\"interesting-cast-vote\" data-item-id=\"kw0116161\" data-item-type=\"keyword\">\n",
       "<span>Relevant?</span>\n",
       "<button class=\"cast-vote\" value=\"up\">Yes</button>\n",
       "<button class=\"cast-vote\" value=\"down\">No</button>\n",
       "</span>\n",
       "</div>\n",
       "</td>\n",
       "</tr>\n",
       "<tr class=\"even\">\n",
       "<td class=\"soda sodavote\" data-item-keyword=\"reference-to-galileo\" data-item-votes=\"38\">\n",
       "<div class=\"sodatext\">\n",
       "<a href=\"/keyword/reference-to-galileo?ref_=ttkw_kw_39\">reference to galileo</a>\n",
       "</div>\n",
       "<div class=\"did-you-know-actions\">\n",
       "<div class=\"interesting-count-text\">\n",
       "<a href=\"?item=kw0076220\"> Is this relevant?\n",
       "</a> </div>\n",
       "<span class=\"interesting-cast-vote\" data-item-id=\"kw0076220\" data-item-type=\"keyword\">\n",
       "<span>Relevant?</span>\n",
       "<button class=\"cast-vote\" value=\"up\">Yes</button>\n",
       "<button class=\"cast-vote\" value=\"down\">No</button>\n",
       "</span>\n",
       "</div>\n",
       "</td>\n",
       "<td class=\"soda sodavote\" data-item-keyword=\"scientist\" data-item-votes=\"39\">\n",
       "<div class=\"sodatext\">\n",
       "<a href=\"/keyword/scientist?ref_=ttkw_kw_40\">scientist</a>\n",
       "</div>\n",
       "<div class=\"did-you-know-actions\">\n",
       "<div class=\"interesting-count-text\">\n",
       "<a href=\"?item=kw0013575\"> Is this relevant?\n",
       "</a> </div>\n",
       "<span class=\"interesting-cast-vote\" data-item-id=\"kw0013575\" data-item-type=\"keyword\">\n",
       "<span>Relevant?</span>\n",
       "<button class=\"cast-vote\" value=\"up\">Yes</button>\n",
       "<button class=\"cast-vote\" value=\"down\">No</button>\n",
       "</span>\n",
       "</div>\n",
       "</td>\n",
       "</tr>\n",
       "<tr class=\"odd\">\n",
       "<td class=\"soda sodavote\" data-item-keyword=\"news-conference\" data-item-votes=\"40\">\n",
       "<div class=\"sodatext\">\n",
       "<a href=\"/keyword/news-conference?ref_=ttkw_kw_41\">news conference</a>\n",
       "</div>\n",
       "<div class=\"did-you-know-actions\">\n",
       "<div class=\"interesting-count-text\">\n",
       "<a href=\"?item=kw0042115\"> Is this relevant?\n",
       "</a> </div>\n",
       "<span class=\"interesting-cast-vote\" data-item-id=\"kw0042115\" data-item-type=\"keyword\">\n",
       "<span>Relevant?</span>\n",
       "<button class=\"cast-vote\" value=\"up\">Yes</button>\n",
       "<button class=\"cast-vote\" value=\"down\">No</button>\n",
       "</span>\n",
       "</div>\n",
       "</td>\n",
       "<td class=\"soda sodavote\" data-item-keyword=\"nonlinear-timeline\" data-item-votes=\"41\">\n",
       "<div class=\"sodatext\">\n",
       "<a href=\"/keyword/nonlinear-timeline?ref_=ttkw_kw_42\">nonlinear timeline</a>\n",
       "</div>\n",
       "<div class=\"did-you-know-actions\">\n",
       "<div class=\"interesting-count-text\">\n",
       "<a href=\"?item=kw0020463\"> Is this relevant?\n",
       "</a> </div>\n",
       "<span class=\"interesting-cast-vote\" data-item-id=\"kw0020463\" data-item-type=\"keyword\">\n",
       "<span>Relevant?</span>\n",
       "<button class=\"cast-vote\" value=\"up\">Yes</button>\n",
       "<button class=\"cast-vote\" value=\"down\">No</button>\n",
       "</span>\n",
       "</div>\n",
       "</td>\n",
       "</tr>\n",
       "<tr class=\"even\">\n",
       "<td class=\"soda sodavote\" data-item-keyword=\"no-opening-credits\" data-item-votes=\"42\">\n",
       "<div class=\"sodatext\">\n",
       "<a href=\"/keyword/no-opening-credits?ref_=ttkw_kw_43\">no opening credits</a>\n",
       "</div>\n",
       "<div class=\"did-you-know-actions\">\n",
       "<div class=\"interesting-count-text\">\n",
       "<a href=\"?item=kw0038556\"> Is this relevant?\n",
       "</a> </div>\n",
       "<span class=\"interesting-cast-vote\" data-item-id=\"kw0038556\" data-item-type=\"keyword\">\n",
       "<span>Relevant?</span>\n",
       "<button class=\"cast-vote\" value=\"up\">Yes</button>\n",
       "<button class=\"cast-vote\" value=\"down\">No</button>\n",
       "</span>\n",
       "</div>\n",
       "</td>\n",
       "<td class=\"soda sodavote\" data-item-keyword=\"zero-gravity\" data-item-votes=\"43\">\n",
       "<div class=\"sodatext\">\n",
       "<a href=\"/keyword/zero-gravity?ref_=ttkw_kw_44\">zero gravity</a>\n",
       "</div>\n",
       "<div class=\"did-you-know-actions\">\n",
       "<div class=\"interesting-count-text\">\n",
       "<a href=\"?item=kw0021898\"> Is this relevant?\n",
       "</a> </div>\n",
       "<span class=\"interesting-cast-vote\" data-item-id=\"kw0021898\" data-item-type=\"keyword\">\n",
       "<span>Relevant?</span>\n",
       "<button class=\"cast-vote\" value=\"up\">Yes</button>\n",
       "<button class=\"cast-vote\" value=\"down\">No</button>\n",
       "</span>\n",
       "</div>\n",
       "</td>\n",
       "</tr>\n",
       "<tr class=\"odd\">\n",
       "<td class=\"soda sodavote\" data-item-keyword=\"unsubtitled-foreign-language\" data-item-votes=\"44\">\n",
       "<div class=\"sodatext\">\n",
       "<a href=\"/keyword/unsubtitled-foreign-language?ref_=ttkw_kw_45\">unsubtitled foreign language</a>\n",
       "</div>\n",
       "<div class=\"did-you-know-actions\">\n",
       "<div class=\"interesting-count-text\">\n",
       "<a href=\"?item=kw0039440\"> Is this relevant?\n",
       "</a> </div>\n",
       "<span class=\"interesting-cast-vote\" data-item-id=\"kw0039440\" data-item-type=\"keyword\">\n",
       "<span>Relevant?</span>\n",
       "<button class=\"cast-vote\" value=\"up\">Yes</button>\n",
       "<button class=\"cast-vote\" value=\"down\">No</button>\n",
       "</span>\n",
       "</div>\n",
       "</td>\n",
       "<td class=\"soda sodavote\" data-item-keyword=\"video-camera\" data-item-votes=\"45\">\n",
       "<div class=\"sodatext\">\n",
       "<a href=\"/keyword/video-camera?ref_=ttkw_kw_46\">video camera</a>\n",
       "</div>\n",
       "<div class=\"did-you-know-actions\">\n",
       "<div class=\"interesting-count-text\">\n",
       "<a href=\"?item=kw0025464\"> Is this relevant?\n",
       "</a> </div>\n",
       "<span class=\"interesting-cast-vote\" data-item-id=\"kw0025464\" data-item-type=\"keyword\">\n",
       "<span>Relevant?</span>\n",
       "<button class=\"cast-vote\" value=\"up\">Yes</button>\n",
       "<button class=\"cast-vote\" value=\"down\">No</button>\n",
       "</span>\n",
       "</div>\n",
       "</td>\n",
       "</tr>\n",
       "<tr class=\"even\">\n",
       "<td class=\"soda sodavote\" data-item-keyword=\"lens-flare\" data-item-votes=\"46\">\n",
       "<div class=\"sodatext\">\n",
       "<a href=\"/keyword/lens-flare?ref_=ttkw_kw_47\">lens flare</a>\n",
       "</div>\n",
       "<div class=\"did-you-know-actions\">\n",
       "<div class=\"interesting-count-text\">\n",
       "<a href=\"?item=kw0129097\"> Is this relevant?\n",
       "</a> </div>\n",
       "<span class=\"interesting-cast-vote\" data-item-id=\"kw0129097\" data-item-type=\"keyword\">\n",
       "<span>Relevant?</span>\n",
       "<button class=\"cast-vote\" value=\"up\">Yes</button>\n",
       "<button class=\"cast-vote\" value=\"down\">No</button>\n",
       "</span>\n",
       "</div>\n",
       "</td>\n",
       "<td class=\"soda sodavote\" data-item-keyword=\"split-screen\" data-item-votes=\"47\">\n",
       "<div class=\"sodatext\">\n",
       "<a href=\"/keyword/split-screen?ref_=ttkw_kw_48\">split screen</a>\n",
       "</div>\n",
       "<div class=\"did-you-know-actions\">\n",
       "<div class=\"interesting-count-text\">\n",
       "<a href=\"?item=kw0015995\"> Is this relevant?\n",
       "</a> </div>\n",
       "<span class=\"interesting-cast-vote\" data-item-id=\"kw0015995\" data-item-type=\"keyword\">\n",
       "<span>Relevant?</span>\n",
       "<button class=\"cast-vote\" value=\"up\">Yes</button>\n",
       "<button class=\"cast-vote\" value=\"down\">No</button>\n",
       "</span>\n",
       "</div>\n",
       "</td>\n",
       "</tr>\n",
       "<tr class=\"odd\">\n",
       "<td class=\"soda sodavote\" data-item-keyword=\"space-shuttle\" data-item-votes=\"48\">\n",
       "<div class=\"sodatext\">\n",
       "<a href=\"/keyword/space-shuttle?ref_=ttkw_kw_49\">space shuttle</a>\n",
       "</div>\n",
       "<div class=\"did-you-know-actions\">\n",
       "<div class=\"interesting-count-text\">\n",
       "<a href=\"?item=kw0024453\"> Is this relevant?\n",
       "</a> </div>\n",
       "<span class=\"interesting-cast-vote\" data-item-id=\"kw0024453\" data-item-type=\"keyword\">\n",
       "<span>Relevant?</span>\n",
       "<button class=\"cast-vote\" value=\"up\">Yes</button>\n",
       "<button class=\"cast-vote\" value=\"down\">No</button>\n",
       "</span>\n",
       "</div>\n",
       "</td>\n",
       "<td class=\"soda sodavote\" data-item-keyword=\"spaceship\" data-item-votes=\"49\">\n",
       "<div class=\"sodatext\">\n",
       "<a href=\"/keyword/spaceship?ref_=ttkw_kw_50\">spaceship</a>\n",
       "</div>\n",
       "<div class=\"did-you-know-actions\">\n",
       "<div class=\"interesting-count-text\">\n",
       "<a href=\"?item=kw0023527\"> Is this relevant?\n",
       "</a> </div>\n",
       "<span class=\"interesting-cast-vote\" data-item-id=\"kw0023527\" data-item-type=\"keyword\">\n",
       "<span>Relevant?</span>\n",
       "<button class=\"cast-vote\" value=\"up\">Yes</button>\n",
       "<button class=\"cast-vote\" value=\"down\">No</button>\n",
       "</span>\n",
       "</div>\n",
       "</td>\n",
       "</tr>\n",
       "<tr class=\"even\">\n",
       "<td class=\"soda sodavote\" data-item-keyword=\"no-survivors\" data-item-votes=\"50\">\n",
       "<div class=\"sodatext\">\n",
       "<a href=\"/keyword/no-survivors?ref_=ttkw_kw_51\">no survivors</a>\n",
       "</div>\n",
       "<div class=\"did-you-know-actions\">\n",
       "<div class=\"interesting-count-text\">\n",
       "<a href=\"?item=kw0062124\"> Is this relevant?\n",
       "</a> </div>\n",
       "<span class=\"interesting-cast-vote\" data-item-id=\"kw0062124\" data-item-type=\"keyword\">\n",
       "<span>Relevant?</span>\n",
       "<button class=\"cast-vote\" value=\"up\">Yes</button>\n",
       "<button class=\"cast-vote\" value=\"down\">No</button>\n",
       "</span>\n",
       "</div>\n",
       "</td>\n",
       "<td class=\"soda sodavote\" data-item-keyword=\"outer-space\" data-item-votes=\"51\">\n",
       "<div class=\"sodatext\">\n",
       "<a href=\"/keyword/outer-space?ref_=ttkw_kw_52\">outer space</a>\n",
       "</div>\n",
       "<div class=\"did-you-know-actions\">\n",
       "<div class=\"interesting-count-text\">\n",
       "<a href=\"?item=kw0019531\"> Is this relevant?\n",
       "</a> </div>\n",
       "<span class=\"interesting-cast-vote\" data-item-id=\"kw0019531\" data-item-type=\"keyword\">\n",
       "<span>Relevant?</span>\n",
       "<button class=\"cast-vote\" value=\"up\">Yes</button>\n",
       "<button class=\"cast-vote\" value=\"down\">No</button>\n",
       "</span>\n",
       "</div>\n",
       "</td>\n",
       "</tr>\n",
       "<tr class=\"odd\">\n",
       "<td class=\"soda sodavote\" data-item-keyword=\"film-starts-with-text\" data-item-votes=\"52\">\n",
       "<div class=\"sodatext\">\n",
       "<a href=\"/keyword/film-starts-with-text?ref_=ttkw_kw_53\">film starts with text</a>\n",
       "</div>\n",
       "<div class=\"did-you-know-actions\">\n",
       "<div class=\"interesting-count-text\">\n",
       "<a href=\"?item=kw0080252\"> Is this relevant?\n",
       "</a> </div>\n",
       "<span class=\"interesting-cast-vote\" data-item-id=\"kw0080252\" data-item-type=\"keyword\">\n",
       "<span>Relevant?</span>\n",
       "<button class=\"cast-vote\" value=\"up\">Yes</button>\n",
       "<button class=\"cast-vote\" value=\"down\">No</button>\n",
       "</span>\n",
       "</div>\n",
       "</td>\n",
       "<td class=\"soda sodavote\" data-item-keyword=\"jupiter-moon-europa\" data-item-votes=\"53\">\n",
       "<div class=\"sodatext\">\n",
       "<a href=\"/keyword/jupiter-moon-europa?ref_=ttkw_kw_54\">jupiter moon europa</a>\n",
       "</div>\n",
       "<div class=\"did-you-know-actions\">\n",
       "<div class=\"interesting-count-text\">\n",
       "<a href=\"?item=kw0142475\"> Is this relevant?\n",
       "</a> </div>\n",
       "<span class=\"interesting-cast-vote\" data-item-id=\"kw0142475\" data-item-type=\"keyword\">\n",
       "<span>Relevant?</span>\n",
       "<button class=\"cast-vote\" value=\"up\">Yes</button>\n",
       "<button class=\"cast-vote\" value=\"down\">No</button>\n",
       "</span>\n",
       "</div>\n",
       "</td>\n",
       "</tr>\n",
       "<tr class=\"even\">\n",
       "<td class=\"soda sodavote\" data-item-keyword=\"jupiter-the-planet\" data-item-votes=\"54\">\n",
       "<div class=\"sodatext\">\n",
       "<a href=\"/keyword/jupiter-the-planet?ref_=ttkw_kw_55\">jupiter the planet</a>\n",
       "</div>\n",
       "<div class=\"did-you-know-actions\">\n",
       "<div class=\"interesting-count-text\">\n",
       "<a href=\"?item=kw0019860\"> Is this relevant?\n",
       "</a> </div>\n",
       "<span class=\"interesting-cast-vote\" data-item-id=\"kw0019860\" data-item-type=\"keyword\">\n",
       "<span>Relevant?</span>\n",
       "<button class=\"cast-vote\" value=\"up\">Yes</button>\n",
       "<button class=\"cast-vote\" value=\"down\">No</button>\n",
       "</span>\n",
       "</div>\n",
       "</td>\n",
       "<td/></tr>\n",
       "</tbody></table>\n",
       "</div>\n",
       "</div>\n",
       "<div class=\"article\" id=\"see_also\">\n",
       "<h2>See also</h2>\n",
       "<p>\n",
       "<span class=\"nobr\">\n",
       "<a class=\"link\" href=\"/title/tt2051879/taglines?ref_=ttkw_sa_1\">Taglines</a>\n",
       "<span class=\"ghost\">|</span></span> <span class=\"nobr\">\n",
       "<a class=\"link\" href=\"/title/tt2051879/plotsummary?ref_=ttkw_sa_2\">Plot Summary</a>\n",
       "<span class=\"ghost\">|</span></span> <span class=\"nobr\">\n",
       "<a class=\"link\" href=\"/title/tt2051879/synopsis?ref_=ttkw_sa_3\">Synopsis</a>\n",
       "<span class=\"ghost\">|</span></span> <span class=\"nobr\">\n",
       "<a class=\"link\" href=\"/title/tt2051879/parentalguide?ref_=ttkw_sa_4\">Parents Guide</a>\n",
       "</span> </p>\n",
       "</div>\n",
       "<script>\n",
       "    if ('csm' in window) {\n",
       "      csm.measure('csm_TitleContributeWidget_started');\n",
       "    }\n",
       "  </script>\n",
       "<div class=\"article contribute\">\n",
       "<div class=\"rightcornerlink\">\n",
       "<a href=\"/help/?adding/=ttkw_cn_hlp\">Getting Started</a>\n",
       "<span>|</span>\n",
       "<a href=\"/czone/?ref_=ttkw_cn_cz\">Contributor Zone</a></div>\n",
       "<h2>Contribute to This Page</h2>\n",
       "<div class=\"button-box\">\n",
       "<form action=\"/updates?ref_=ttkw_cn_edt\" method=\"post\">\n",
       "<input name=\"auto\" type=\"hidden\" value=\"legacy/title/tt2051879/keywords\">\n",
       "<button class=\"btn primary large\" rel=\"login\" type=\"submit\">Edit page</button>\n",
       "</input>\n",
       "</form>\n",
       "</div>\n",
       "<script>\n",
       "    if ('csm' in window) {\n",
       "      csm.measure('csm_TitleContributeWidget_finished');\n",
       "    }\n",
       "  </script>\n",
       "</div>\n",
       "<div id=\"sidebar\">\n",
       "<!-- no content received for slot: top_rhs -->\n",
       "<div class=\"aux-content-widget-3 links subnav\" div=\"quicklinks\">\n",
       "<a class=\"subnav_heading\" href=\"/title/tt2051879/?ref_=ttkw_ql\">Europa Report</a> <hr/>\n",
       "<h4>Storyline</h4>\n",
       "<ul class=\"quicklinks\">\n",
       "<li class=\"subnav_item_main\">\n",
       "<a class=\"link\" href=\"/title/tt2051879/taglines?ref_=ttkw_ql_1\">Taglines</a>\n",
       "</li>\n",
       "<li class=\"subnav_item_main\">\n",
       "<a class=\"link\" href=\"/title/tt2051879/plotsummary?ref_=ttkw_ql_2\">Plot Summary</a>\n",
       "</li>\n",
       "<li class=\"subnav_item_main\">\n",
       "<a class=\"link\" href=\"/title/tt2051879/synopsis?ref_=ttkw_ql_3\">Synopsis</a>\n",
       "</li>\n",
       "<li class=\"subnav_item_main subnav_selected\">\n",
       "<a class=\"link\" href=\"/title/tt2051879/keywords?ref_=ttkw_ql_4\">Plot Keywords</a>\n",
       "</li>\n",
       "<li class=\"subnav_item_main\">\n",
       "<a class=\"link\" href=\"/title/tt2051879/parentalguide?ref_=ttkw_ql_5\">Parents Guide</a>\n",
       "</li>\n",
       "</ul>\n",
       "<hr/>\n",
       "<div id=\"full_subnav\">\n",
       "<h4>Details</h4>\n",
       "<ul class=\"quicklinks\">\n",
       "<li class=\"subnav_item_main\">\n",
       "<a class=\"link\" href=\"/title/tt2051879/fullcredits?ref_=ttkw_ql_dt_1\">Full Cast and Crew</a>\n",
       "</li>\n",
       "<li class=\"subnav_item_main\">\n",
       "<a class=\"link\" href=\"/title/tt2051879/releaseinfo?ref_=ttkw_ql_dt_2\">Release Dates</a>\n",
       "</li>\n",
       "<li class=\"subnav_item_main\">\n",
       "<a class=\"link ghost\" href=\"/title/tt2051879/officialsites?ref_=ttkw_ql_dt_3\">Official Sites</a>\n",
       "</li>\n",
       "<li class=\"subnav_item_main\">\n",
       "<a class=\"link\" href=\"/title/tt2051879/business?ref_=ttkw_ql_dt_4\">Box Office/Business</a>\n",
       "</li>\n",
       "<li class=\"subnav_item_main\">\n",
       "<a class=\"link\" href=\"/title/tt2051879/companycredits?ref_=ttkw_ql_dt_5\">Company Credits</a>\n",
       "</li>\n",
       "<li class=\"subnav_item_main\">\n",
       "<a class=\"link\" href=\"/title/tt2051879/locations?ref_=ttkw_ql_dt_6\">Filming Locations</a>\n",
       "</li>\n",
       "<li class=\"subnav_item_main\">\n",
       "<a class=\"link\" href=\"/title/tt2051879/technical?ref_=ttkw_ql_dt_7\">Technical Specs</a>\n",
       "</li>\n",
       "<li class=\"subnav_item_main\">\n",
       "<a class=\"link ghost\" href=\"/title/tt2051879/literature?ref_=ttkw_ql_dt_8\">Literature</a>\n",
       "</li>\n",
       "</ul>\n",
       "<h4>Did You Know?</h4>\n",
       "<ul class=\"quicklinks\">\n",
       "<li class=\"subnav_item_main\">\n",
       "<a class=\"link\" href=\"/title/tt2051879/trivia?ref_=ttkw_ql_trv_1\">Trivia</a>\n",
       "</li>\n",
       "<li class=\"subnav_item_main\">\n",
       "<a class=\"link\" href=\"/title/tt2051879/goofs?ref_=ttkw_ql_trv_2\">Goofs</a>\n",
       "</li>\n",
       "<li class=\"subnav_item_main\">\n",
       "<a class=\"link ghost\" href=\"/title/tt2051879/crazycredits?ref_=ttkw_ql_trv_3\">Crazy Credits</a>\n",
       "</li>\n",
       "<li class=\"subnav_item_main\">\n",
       "<a class=\"link\" href=\"/title/tt2051879/quotes?ref_=ttkw_ql_trv_4\">Quotes</a>\n",
       "</li>\n",
       "<li class=\"subnav_item_main\">\n",
       "<a class=\"link ghost\" href=\"/title/tt2051879/alternateversions?ref_=ttkw_ql_trv_5\">Alternate Versions</a>\n",
       "</li>\n",
       "<li class=\"subnav_item_main\">\n",
       "<a class=\"link\" href=\"/title/tt2051879/movieconnections?ref_=ttkw_ql_trv_6\">Connections</a>\n",
       "</li>\n",
       "<li class=\"subnav_item_main\">\n",
       "<a class=\"link\" href=\"/title/tt2051879/soundtrack?ref_=ttkw_ql_trv_7\">Soundtracks</a>\n",
       "</li>\n",
       "</ul>\n",
       "<h4>Photo  Video</h4>\n",
       "<ul class=\"quicklinks\">\n",
       "<li class=\"subnav_item_main\">\n",
       "<a class=\"link\" href=\"/title/tt2051879/mediaindex?ref_=ttkw_ql_pv_1\">Photo Gallery</a>\n",
       "</li>\n",
       "<li class=\"subnav_item_main\">\n",
       "<a class=\"link\" href=\"/title/tt2051879/videogallery?ref_=ttkw_ql_pv_2\">Trailers and Videos</a>\n",
       "</li>\n",
       "</ul>\n",
       "<h4>Opinion</h4>\n",
       "<ul class=\"quicklinks\">\n",
       "<li class=\"subnav_item_main\">\n",
       "<a class=\"link\" href=\"/title/tt2051879/awards?ref_=ttkw_ql_op_1\">Awards</a>\n",
       "</li>\n",
       "<li class=\"subnav_item_main\">\n",
       "<a class=\"link ghost\" href=\"/title/tt2051879/faq?ref_=ttkw_ql_op_2\">FAQ</a>\n",
       "</li>\n",
       "<li class=\"subnav_item_main\">\n",
       "<a class=\"link\" href=\"/title/tt2051879/reviews?ref_=ttkw_ql_op_3\">User Reviews</a>\n",
       "</li>\n",
       "<li class=\"subnav_item_main\">\n",
       "<a class=\"link\" href=\"/title/tt2051879/ratings?ref_=ttkw_ql_op_4\">User Ratings</a>\n",
       "</li>\n",
       "<li class=\"subnav_item_main\">\n",
       "<a class=\"link\" href=\"/title/tt2051879/externalreviews?ref_=ttkw_ql_op_5\">External Reviews</a>\n",
       "</li>\n",
       "<li class=\"subnav_item_main\">\n",
       "<a class=\"link\" href=\"/title/tt2051879/criticreviews?ref_=ttkw_ql_op_6\">Metacritic Reviews</a>\n",
       "</li>\n",
       "<li class=\"subnav_item_main\">\n",
       "<a class=\"link\" href=\"/title/tt2051879/board/?ref_=ttkw_ql_op_7\">Message Board</a>\n",
       "</li>\n",
       "</ul>\n",
       "<h4>TV</h4>\n",
       "<ul class=\"quicklinks\">\n",
       "<li class=\"subnav_item_main\">\n",
       "<a class=\"link ghost\" href=\"/title/tt2051879/tvschedule?ref_=ttkw_ql_tv_1\">TV Schedule</a>\n",
       "</li>\n",
       "</ul>\n",
       "<h4>Related Items</h4>\n",
       "<ul class=\"quicklinks\">\n",
       "<li class=\"subnav_item_main\">\n",
       "<a class=\"link\" href=\"/title/tt2051879/news?ref_=ttkw_ql_rel_1\">NewsDesk</a>\n",
       "</li>\n",
       "<li class=\"subnav_item_main\">\n",
       "<a class=\"link ghost\" href=\"/showtimes/title/tt2051879?ref_=ttkw_ql_rel_2\">Showtimes</a>\n",
       "</li>\n",
       "<li class=\"subnav_item_main\">\n",
       "<a class=\"link\" href=\"/title/tt2051879/externalsites?ref_=ttkw_ql_rel_3\">External Sites</a>\n",
       "</li>\n",
       "</ul>\n",
       "<h4>Professional Services</h4>\n",
       "<ul class=\"quicklinks\">\n",
       "<li class=\"subnav_item_main\">\n",
       "<a class=\"link\" href=\"http://pro.imdb.com/title/tt2051879?ref_=ttkw_ql_pro_1\">Get more at IMDbPro</a>\n",
       "</li>\n",
       "<li class=\"subnav_item_main\">\n",
       "<a class=\"link\" href=\"https://secure.imdb.com/store/photos/?ref_=ttkw_ql_pro_2\">Add posters  stills to this title</a>\n",
       "</li>\n",
       "</ul>\n",
       "<hr/>\n",
       "</div>\n",
       "<div class=\"show_more\"><span class=\"titlePageSprite arrows show\"/>Explore More</div>\n",
       "<div class=\"show_less\"><span class=\"titlePageSprite arrows hide\"/>Show Less</div>\n",
       "</div>\n",
       "<div class=\"aux-content-widget-2\" id=\"social-share-widget\">\n",
       "<div class=\"social\">\n",
       "<div class=\"social_networking\">\n",
       "<span><strong>Share</strong> this page:</span>\n",
       "<a class=\"share_icon facebook\" href=\"http://www.facebook.com/sharer.php?u=http%3A%2F%2Fwww.imdb.com%2Ftitle%2Ftt2051879%2F\" onclick=\"window.open(&quot;http://www.facebook.com/sharer.php?u=http%3A%2F%2Fwww.imdb.com%2Ftitle%2Ftt2051879%2F&quot;, 'newWindow', 'width=626, height=436'); return false;\" target=\"_blank\" title=\"Share on Facebook\"/>\n",
       "<a class=\"share_icon twitter\" href=\"http://twitter.com/intent/tweet?text=Europa%20Report%20(2013)%20-%20http%3A%2F%2Fwww.imdb.com%2Ftitle%2Ftt2051879%2F\" onclick=\"window.open(&quot;http://twitter.com/intent/tweet?text=Europa%20Report%20(2013)%20-%20http%3A%2F%2Fwww.imdb.com%2Ftitle%2Ftt2051879%2F&quot;, 'newWindow', 'width=815, height=436'); return false;\" target=\"_blank\" title=\"Share on Twitter\"/>\n",
       "<a class=\"share_icon share_url_link\" href=\"http://www.imdb.com/title/tt2051879/\" onclick=\"$('div.social input[name=share-link]').show().select(); return false;\" title=\"Share the page\"/>\n",
       "</div>\n",
       "<input name=\"share-link\" type=\"text\" value=\"http://www.imdb.com/title/tt2051879/\">\n",
       "</input>\n",
       "<script type=\"text/javascript\">generic.monitoring.start_timing(\"facebook_like_iframe\");</script>\n",
       "<div class=\"social_networking_like\">\n",
       "<iframe allowTransparency=\"allowTransparency\" class=\"social-iframe\" frameborder=\"0\" id=\"iframe_like\" name=\"fbLikeIFrame_0\" ref=\"http://www.imdb.com/title/tt2051879/\" scrolling=\"no\">280\n",
       "      height=65&gt;</iframe>\n",
       "</div>\n",
       "</div>\n",
       "<div class=\"aux-content-widget-2\">\n",
       "<div id=\"relatedListsWidget\">\n",
       "<div class=\"rightcornerlink\">\n",
       "<a href=\"/list/create?ref_=ttkw_rls\">Create a list</a>\n",
       "</div>\n",
       "<h3>User Lists</h3>\n",
       "<p>Related lists from IMDb users</p>\n",
       "<div class=\"list-preview even\">\n",
       "<div class=\"list-preview-item-narrow\">\n",
       "<a href=\"/list/ls055896888?ref_=ttkw_rls_1\"><img alt=\"list image\" height=\"86\" title=\"list image\" width=\"86\">src=\"/images/nopicture/medium/film.png\"class=\"loadlate hidden \" loadlate=\"http://ia.media-imdb.com/images/M/MV5BMjIyNTQ5NjQ1OV5BMl5BanBnXkFtZTcwODg1MDU4OA@@._V1_UX86_CR0,0,86,86_AL_.jpg\" /&gt;</img> </a>\n",
       "<div class=\"list_name\">\n",
       "<strong><a href=\"/list/ls055896888?ref_=ttkw_rls_1\">2013</a></strong>\n",
       "</div>\n",
       "<div class=\"list_meta\">\n",
       "            a list of 27 titles\n",
       "            <br/>created 24Jan2013\n",
       "        </div>\n",
       "<div class=\"clear\"/>\n",
       "</div>\n",
       "<div class=\"list-preview odd\">\n",
       "<div class=\"list-preview-item-narrow\">\n",
       "<a href=\"/list/ls051032211?ref_=ttkw_rls_2\"><img alt=\"list image\" height=\"86\" title=\"list image\" width=\"86\">src=\"/images/nopicture/medium/film.png\"class=\"loadlate hidden \" loadlate=\"http://ia.media-imdb.com/images/M/MV5BMTc0NDM4ODU2Nl5BMl5BanBnXkFtZTcwNzQ0NTg4Ng@@._V1_UX86_CR0,0,86,86_AL_.jpg\" /&gt;</img> </a>\n",
       "<div class=\"list_name\">\n",
       "<strong><a href=\"/list/ls051032211?ref_=ttkw_rls_2\">Started, but couldn't continue watching</a></strong>\n",
       "</div>\n",
       "<div class=\"list_meta\">\n",
       "            a list of 23 titles\n",
       "            <br/>created 21Mar2013\n",
       "        </div>\n",
       "<div class=\"clear\"/>\n",
       "</div>\n",
       "<div class=\"list-preview even\">\n",
       "<div class=\"list-preview-item-narrow\">\n",
       "<a href=\"/list/ls053970865?ref_=ttkw_rls_3\"><img alt=\"list image\" height=\"86\" title=\"list image\" width=\"86\">src=\"/images/nopicture/medium/film.png\"class=\"loadlate hidden \" loadlate=\"http://ia.media-imdb.com/images/M/MV5BMjA2OTk5ODkxMl5BMl5BanBnXkFtZTcwODc4MDk0OQ@@._V1_UX86_CR0,0,86,86_AL_.jpg\" /&gt;</img> </a>\n",
       "<div class=\"list_name\">\n",
       "<strong><a href=\"/list/ls053970865?ref_=ttkw_rls_3\">alien</a></strong>\n",
       "</div>\n",
       "<div class=\"list_meta\">\n",
       "            a list of 44 titles\n",
       "            <br/>created 07Jul2013\n",
       "        </div>\n",
       "<div class=\"clear\"/>\n",
       "</div>\n",
       "<div class=\"list-preview odd\">\n",
       "<div class=\"list-preview-item-narrow\">\n",
       "<a href=\"/list/ls076363207?ref_=ttkw_rls_4\"><img alt=\"list image\" height=\"86\" title=\"list image\" width=\"86\">src=\"/images/nopicture/medium/film.png\"class=\"loadlate hidden \" loadlate=\"http://ia.media-imdb.com/images/M/MV5BMTUzMDAzMzA1OV5BMl5BanBnXkFtZTcwNzI0NzkyMQ@@._V1_UX86_CR0,0,86,86_AL_.jpg\" /&gt;</img> </a>\n",
       "<div class=\"list_name\">\n",
       "<strong><a href=\"/list/ls076363207?ref_=ttkw_rls_4\">The true creature features part 9</a></strong>\n",
       "</div>\n",
       "<div class=\"list_meta\">\n",
       "            a list of 30 titles\n",
       "            <br/>created 6monthsago\n",
       "        </div>\n",
       "<div class=\"clear\"/>\n",
       "</div>\n",
       "<div class=\"list-preview even\">\n",
       "<div class=\"list-preview-item-narrow\">\n",
       "<a href=\"/list/ls074806665?ref_=ttkw_rls_5\"><img alt=\"list image\" height=\"86\" title=\"list image\" width=\"86\">src=\"/images/nopicture/medium/film.png\"class=\"loadlate hidden \" loadlate=\"http://ia.media-imdb.com/images/M/MV5BMjIxNTU4MzY4MF5BMl5BanBnXkFtZTgwMzM4ODI3MjE@._V1_UX86_CR0,0,86,86_AL_.jpg\" /&gt;</img> </a>\n",
       "<div class=\"list_name\">\n",
       "<strong><a href=\"/list/ls074806665?ref_=ttkw_rls_5\">Best claustrophobic SciFi movies</a></strong>\n",
       "</div>\n",
       "<div class=\"list_meta\">\n",
       "            a list of 26 titles\n",
       "            <br/>created 1monthago\n",
       "        </div>\n",
       "<div class=\"clear\"/>\n",
       "</div>\n",
       "<div class=\"see-more\">\n",
       "<a href=\"/lists/tt2051879?ref_=ttkw_rls_sm\">See all related lists</a>\n",
       "</div>\n",
       "</div>\n",
       "</div>\n",
       "<!-- no content received for slot: bottom_rhs -->\n",
       "</div>\n",
       "</div>\n",
       "<div class=\"redesign clear\" id=\"content-1\">\n",
       "</div>\n",
       "<br class=\"clear\"/>\n",
       "</div>\n",
       "<div class=\"ft\" id=\"footer\">\n",
       "<div id=\"rvi-div\">\n",
       "<div class=\"recently-viewed\"/>\n",
       "<br class=\"clear\">\n",
       "</br>\n",
       "<!-- no content received for slot: bottom_ad -->\n",
       "<div class=\"container footer-grid-wrapper\">\n",
       "<div class=\"row footer-row\">\n",
       "<div class=\"col outside\">\n",
       "<h3>IMDb Everywhere</h3>\n",
       "<div class=\"app-links\">\n",
       "<a href=\"/offsite/?page-action=ft_app_apple=BCYuNYrpz7crPUGcY7Zo5_rt8Ic2dI8nuv1mVxkMPRIpS1S8Z4gKq4TDkNTlaPkzN8PJDRTD9p2I%0D%0AXAIUt0idUNvYfbuR4yLZq0-iOwganbhqUwgEVDevHgTT34nTC5yJ7-OXW6wtow1MZhigzTgeFEXX%0D%0AyFgm0WsG6We6uJ_9_h51F-0xZd15r8XBixX9UnpiQZu3zpw-4kmsGr-1Q0sdZJDU2wBcPwHDqZEV%0D%0AdqRV6yWlxSY%0D%0A=ft_app_apple\" itemprop=\"url\" target=\"_blank\" title=\"Get the IMDb App on the Apple App Store\"> <span class=\"desktop-sprite appstore-apple\"/>\n",
       "</a>\n",
       "<a href=\"/offsite/?page-action=ft_app_google=BCYkuuEUas8ZQWJouYOfmbiVngaZZhFefG4h_fOMlkQRHZkhxkaRfxR0w8om_D6Sv5seeL_SbN82%0D%0AYZRjCgPfzo-rZidzczIkT7XWlgCDnO3hfMa-ePCIQ_SR3evQJjgmr7BVQcQTvvaii1DPp-9W_CbE%0D%0A1pBs_agV-gQqFgzA3EBi3b5ZYh-Wth14Bf2wzhsmyC6gY6dRVB7WoMB5AGc4UY3Xxb9A_AcpDSJo%0D%0ATHXlJgnn5IY%0D%0A=ft_app_google\" itemprop=\"url\" target=\"_blank\" title=\"Get the IMDb app on Google Play\"> <span class=\"desktop-sprite appstore-google\"/>\n",
       "</a>\n",
       "<a href=\"/offsite/?page-action=ft_app_amazon=BCYuT9OjJaTGcjaroVEcDUdCYYUDxx5UdDGRH8IfkUi5a5K_vvHXM2Py8oCwxwAqHq6133wps-K0%0D%0A-OVTzjRFIBENseufOD3TX3ysXMrdLx8uMyX21vCsPZPivD5F-YN4n75bk1H7AJJC1PrY5k7is43y%0D%0ALQ9Az9dTxzt1M3Y8YnBdAp1f1agz67uKdY7jYsBW_1lg5ALAAQApJtP3kz9wqtWzJcxlMB90P2pU%0D%0Ay1ZUzcqszhEQYfqmqTgpWIdUBvlmr-M06bQeq-GBC6E01WXIWp3-a2ZE1rBB9Ln-Jxhnp3u7JHp6%0D%0AozzQDN5NEZ4cWrLby4r6NiMNpNPGQum_xbGeTwixYtB1V9weVyU-2tKYSyv4vv1jFdPOW3oyMSuJ%0D%0Aj3KxNHeukPWbVM9aaMpR6vPXlFlW_4U-MOKkM_Cx2hI-qYt-44o%0D%0A=ft_app_amazon\" itemprop=\"url\" target=\"_blank\" title=\"Get the IMDb app on Amazon Appstore for Android\"> <span class=\"desktop-sprite appstore-amazon\"/>\n",
       "</a>\n",
       "</div>\n",
       "<p>Find showtimes, watch trailers, browse photos, track your Watchlist and rate your favorite movies and TV shows on your phone or tablet!</p>\n",
       "<a class=\"touchlink\" href=\"http://m.imdb.com?ref_=ft_mdot\">IMDb Mobile site</a>\n",
       "</div>\n",
       "<div class=\"col center\">\n",
       "<div class=\"link-bar icon-link-bar\">\n",
       "<h3>\n",
       "      Follow IMDb on\n",
       "      <div>\n",
       "<a href=\"/offsite/?page-action=fol_fb=BCYsKagvzwptesH6bDycyU682l_r54ZDUftuDU_OkWftYa7VSI1dSzBFWdliLpqRbMmH4hu6nQRw%0D%0AZNFJRmaTefvRJGkF6eBnxzcfDCk2_D7Z28mD1izX7gi-7p7xUF-aw6OpbU2Uo3VeJnnNh1_uP2vs%0D%0AKE7JCHsJfsWE1uZ46WCqdH0MWKO0ABHbS_DuEDKoDH3eqRwCZ0Qjbys7-OUj0qnz9g%0D%0A=ft_fol_fb\" itemprop=\"url\" target=\"_blank\" title=\"Follow IMDb on Facebook\"> <span class=\"desktop-sprite follow-facebook\"/>\n",
       "</a>\n",
       "<a href=\"/offsite/?page-action=fol_tw=BCYrI9_jOSlOlhsmCkc84bGZ28EeD0u9CBxYqFjja6B7Zfr_C4DCreXlGRHfkMkwmtapCrTxR7N_%0D%0AQkzGrIuyoqBzGCZdY8IW6sKVjqdI1R1HqG_oJmvOa0aW94K5Vii7oo61tAlpUxhd_pkiuyEbrQTX%0D%0AKxPU9dR5nkpKUWNEBgVkbvnGa4f1g4kbq4yt7LifVKN-%0D%0A=ft_fol_tw\" itemprop=\"url\" target=\"_blank\" title=\"Follow IMDb on Twitter\"> <span class=\"desktop-sprite follow-twitter\"/>\n",
       "</a>\n",
       "<a href=\"/offsite/?page-action=fol_inst=BCYrRDg2KXcG7W_fv-GD3sfQ_pO7J4YSIKGgALLhKTHK26jHBexTCWqE7_6wRHh_rf2I6FSGiwrq%0D%0AJ3czt4AJvic8h_78BqfmRBY8plw8Q46BhdY_OdeXR81ujv0eAxox8PUKQSghIpqlwxGBnHeC2_ZB%0D%0AaRD2rfcY3qg3C9nkV9ZxhLFcOwZaXmJnWL0SO0Wry97U6aGmDLZ5KdLY4iRRq25bIA%0D%0A=ft_fol_inst\" itemprop=\"url\" target=\"_blank\" title=\"Follow IMDb on Instagram\"> <span class=\"desktop-sprite follow-instagram\"/>\n",
       "</a>\n",
       "</div>\n",
       "</h3>\n",
       "</div>\n",
       "</div>\n",
       "<div class=\"col outside\">\n",
       "<div class=\"row\">\n",
       "<div class=\"col col-4\">\n",
       "<ul class=\"unstyled\">\n",
       "<li><a href=\"/?ref_=ft_hm\">Home</a></li>\n",
       "<li><a href=\"/chart/top?ref_=ft_250\">Top 250</a></li>\n",
       "<li><a href=\"/chart/?ref_=ft_cht\">Top Movies</a></li>\n",
       "<li><a href=\"/sections/tv/?ref_=ft_tv\">TV</a></li>\n",
       "<li><a href=\"/movies-coming-soon/?ref_=ft_cs\">Coming Soon</a></li>\n",
       "<li><a href=\"/a2z?ref_=ft_si\">Site Index</a></li>\n",
       "<li><a href=\"/search?ref_=ft_sr\">Search</a></li>\n",
       "<li><a href=\"/movies-in-theaters/?ref_=ft_inth\">In Theaters</a></li>\n",
       "</ul>\n",
       "</div>\n",
       "<div class=\"col col-4\">\n",
       "<ul class=\"unstyled\">\n",
       "<li><a href=\"/helpdesk/contact?ref_=ft_con\">Contact Us</a></li>\n",
       "<li><a href=\"/boards/?ref_=ft_mb\">Message Boards</a></li>\n",
       "<li> <a href=\"https://secure.imdb.com/register-imdb/form-v2?ref_=ft_reg\">Register</a>\n",
       "</li>\n",
       "<li><a href=\"/news/?ref_=ft_nw\">News</a></li>\n",
       "<li class=\"spacer\"/>\n",
       "<li><a href=\"/pressroom/?ref_=ft_pr\">Press Room</a></li>\n",
       "<li> <a href=\"/offsite/?page-action=ft_ad=BCYpIMdEE8neiyuo2sa1X4zdYwJ6mqejySX1WpgtnlKdMEmI4KXGDtPwd4Vyog9M4T2mlg-hsfMm%0D%0AhdXMn_HnoiN-iPbu0WbRIxgiyEvk-4hTkliuwJ-_yJsZ_nqK-N_pXZXFXZPSekPs9eszdANmiNUV%0D%0ARUArz_ZLJS57r5CmbFyS9Dj6XAzcMBmNeEqc_y0h6jn1vO03m2Wm_gGgGqWHvD8BHBrlNZQlgmwI%0D%0AXfUj1Qt2C05nPG17pZ2XatAIYC6n6nyXOn8Aa3x5AtvbOh5HTQadIK4x-FxcHkIzvwh5X3vBRrw%0D%0A=ft_ad\" itemprop=\"url\">Advertising</a>\n",
       "</li>\n",
       "<li><a href=\"/jobs?ref_=ft_jb\">Jobs</a></li>\n",
       "</ul>\n",
       "</div>\n",
       "<div class=\"col col-4\">\n",
       "<ul class=\"unstyled\">\n",
       "<li><a href=\"http://pro.imdb.com/signup/index.html?rf=cons_ft_hm=cons_ft_hm\">IMDbPro</a></li>\n",
       "<li> <a href=\"/offsite/?page-action=ft-mojo=BCYsydkrZZu6YeHi1NKwywKtcSb68CKLEstEuUJe9gKBQPo03zG423wHd5D5v3HO7xWxXMixXYSr%0D%0AG3KFXnZOXcfV7EQL_r-dL6EfY4BC9vDcqPBnXWLy_kMvjgN5KwB5sEeZKiIHsBZ3ZNPoO21WwJis%0D%0AA9WfWU1UhEGZvKQbr5VUph6vP00OcFMk4NmzCFFpdqtokAOFQwlOVfXf_Ua-d116vg%0D%0A=ft_bom\" itemprop=\"url\">Box Office Mojo</a>\n",
       "</li>\n",
       "<li> <a href=\"/offsite/?page-action=ft-wab=BCYlva6O3olU4zfukGJgAwIdlA2vwhbfdw2Rqg3swCRbsPnCVQa6aIrVxZ63FDcpeiwOW9c7-jqz%0D%0AWxQZRjMw7T2icdVDm_eYmS_9iMT0LOkfX9zVF0DcLi22ekguQPUEFuqthduaD95_UYUMlQnHTi8j%0D%0AJBPd0KscM2ud034BKAo51adgDKMh6BCilJ6nBZDx3xuLXWKsbbzgClFUpIORgi4suA%0D%0A=ft_wab\" itemprop=\"url\">Withoutabox</a>\n",
       "</li>\n",
       "<li class=\"spacer\"/>\n",
       "<li><a href=\"/help/show_article?conditions=ft_cou\">Conditions of Use</a></li>\n",
       "<li><a href=\"/privacy?ref_=ft_pvc\">Privacy Policy</a></li>\n",
       "<li> <a href=\"/offsite/?page-action=ft-iba=BCYqPdfYy7V28BlE4FeI-z9EKU_ihJAHWky2dU0aPMO2f8RfcShe443NhLVYvS9goYltD1Uf1U9A%0D%0AwKtTGV2OLnzuGwiXHU_QkVUIcdQyIwPaMh2iQbKKemk9PoVJv0TEhHexb5cGnE5uSsVCcO4nFQ4o%0D%0A1gHQCeuui-_KMNaLH_MmWv6epGYH3hWcLutadhQo2Wy1xtJE2LBjSFLf6PN2Q74qBVCASS2pgp4k%0D%0AKa6vHehXXrFrCV9ZRlvew8YEHNbh1J_a%0D%0A=ft_iba\" itemprop=\"url\">Interest-Based Ads</a>\n",
       "</li>\n",
       "<li class=\"spacer\"/>\n",
       "</ul>\n",
       "</div>\n",
       "</div>\n",
       "</div>\n",
       "</div>\n",
       "</div>\n",
       "<div class=\"container\">\n",
       "<div class=\"ft-copy float-right\">\n",
       "<a href=\"/help/show_article?conditions\" onclick=\"(new Image()).src='/rg/help/footer/images/b.gif?link=/help/show_article?conditions';\">Copyright </a> 1990-2015\n",
       "                <a href=\"/help/\" onclick=\"(new Image()).src='/rg/help/footer/images/b.gif?link=/help/';\">IMDb.com, Inc.</a>\n",
       "</div>\n",
       "<div>\n",
       "                An <span align=\"middle\" class=\"footer_logo\" id=\"amazon_logo\">Amazon.com</span> company.\n",
       "            </div>\n",
       "</div>\n",
       "<table class=\"footer\" id=\"amazon-affiliates\">\n",
       "<tr>\n",
       "<td colspan=\"8\">\n",
       "                Amazon Affiliates\n",
       "            </td>\n",
       "</tr>\n",
       "<tr>\n",
       "<td>\n",
       "<div>\n",
       "<a class=\"amazon-affiliate-site-link\" href=\"/offsite/?page-action=ft-aiv=BCYrFPsFRQsm2W4UUpYNqQ0eCWO2vmNB0u5PUOVFOtuG1jyjQNmJe_WvHH4OCF5X1uQvMisu460I%0D%0AWYHy6XkfLIjjkrSQTm_VVUhehMtxeHejB-FgUuPLoRzLkAsElv747A1ZhDLWppcb2XAb3wtclNB8%0D%0AKQv2dltKHlx3Rxm4IAREBbz_tR7I9GIYSk2Ztq-8nvYv7xdXcViLRIGCjMykdRB6_0315XZd5wlA%0D%0AxIasmIza21A%0D%0A\">\n",
       "<span class=\"amazon-affiliate-site-name\">Amazon Video</span><br>\n",
       "<span class=\"amazon-affiliate-site-desc\">Watch Movies <br>TV Online</br>\n",
       "</span>\n",
       "</br>\n",
       "</a>\n",
       "<td>\n",
       "<div>\n",
       "<a class=\"amazon-affiliate-site-link\" href=\"/offsite/?page-action=ft-piv=BCYo_ren-Ew2LTFo8-gsB0KGSAGigPlJarRbI2dCGyDf73tXlPQtoDMxBwHMQdxVt7hGHowl-q7C%0D%0AnEjzYxJ4LDRxm5-6WnieFyyhbSjyXO1cwMBYOYKgFvU2FspjnVJfJobd8FPWWk-QJ1IEXSstWzi7%0D%0Atch8MwuLj8S-0JM86_hmrzYF0ByoZGKtqqc20qlMHb8PaRYfsvBGenJZymps5COfaDrDR51AqLdc%0D%0Av-rO_pvWeio%0D%0A\">\n",
       "<span class=\"amazon-affiliate-site-name\">Prime Video</span><br>\n",
       "<span class=\"amazon-affiliate-site-desc\">Unlimited Streaming<br>of Movies  TV</br>\n",
       "</span>\n",
       "</br>\n",
       "</a>\n",
       "<td>\n",
       "<div>\n",
       "<a class=\"amazon-affiliate-site-link\" href=\"/offsite/?page-action=ft-amzn-de=BCYisn5PedS1iFzrQjOjmWSlGp3RE_yybyYBVC5iVa2zkrvo55KGdXbUX_ONxpgQH3gNCONWL6YP%0D%0AnkWFNz2CFvQ5BQFJ7bV3qRW_A0EHjoPyZojHT2MXRePDCqb341_AOrAg8FdgK1Rq_OsJo-IqQuLU%0D%0AT55PAzWWtHqh3V9YcwiCXVFZLB7Zy_VhjklvIy3RRNF4QNw_sZS-G8hnAI2UYpUEFWITvvxMILTG%0D%0AHKs0FfnFOU4%0D%0A\">\n",
       "<span class=\"amazon-affiliate-site-name\">Amazon Germany</span><br>\n",
       "<span class=\"amazon-affiliate-site-desc\">Buy Movies on<br>DVD  Blu-ray</br>\n",
       "</span>\n",
       "</br>\n",
       "</a>\n",
       "<td>\n",
       "<div>\n",
       "<a class=\"amazon-affiliate-site-link\" href=\"/offsite/?page-action=ft-amzn-it=BCYozWy0_dodpl40237BBeZNVy-xShOLwOya-9jxMItnRKTCM7XHp_FJRR8jRcMt4j7JlFVTkawx%0D%0APgK6XlKZAx7XfNXmmA70CDRKKdXMyXvh478630xoO7PUJKQlaKcDVtrlm1IwiCGcjfL9INciU2A8%0D%0AQQj8nj4r9JZ2IagTARFD-0zgtJENHUwfjCrTD45-FMx-c7OXsyCX59j4Llx3_wVklacJ42rdCGkT%0D%0AdmBxg3JUSWo%0D%0A\">\n",
       "<span class=\"amazon-affiliate-site-name\">Amazon Italy</span><br>\n",
       "<span class=\"amazon-affiliate-site-desc\">Buy Movies on<br>DVD  Blu-ray</br>\n",
       "</span>\n",
       "</br>\n",
       "</a>\n",
       "<td>\n",
       "<div>\n",
       "<a class=\"amazon-affiliate-site-link\" href=\"/offsite/?page-action=ft-amzn-fr=BCYnO3bu98P9XG-dG9X2lQ6nG3f0vCIvdhA8Mo6P2vcHoeBXiokXMIO6pJJtYh3uDRRA2RMmIu9z%0D%0AW21qmodcO0sXh05CD_F0f0G09MPKFlydJZ36YCA3hTb9Ka5HO9QNpxdpNjA9sCrQNRWEmaTXtmoy%0D%0AQRyD-37uzCgRTZgoK0MSBEb1AlxpGDC7ljhk02GBy7mqO5tURjf_jtHDGxE4-xhW0UceY3y2ySZN%0D%0AR1yTOH0f4MU%0D%0A\">\n",
       "<span class=\"amazon-affiliate-site-name\">Amazon France</span><br>\n",
       "<span class=\"amazon-affiliate-site-desc\">Buy Movies on<br>DVD  Blu-ray</br>\n",
       "</span>\n",
       "</br>\n",
       "</a>\n",
       "<td>\n",
       "<div>\n",
       "<a class=\"amazon-affiliate-site-link\" href=\"/offsite/?page-action=ft-amzn-in=BCYl_-zAiv4fIO2JMHObpw3vXGUq7Rf_ImZMbMKR9tPyhlB8CHtaZaPzm84U3hGSOsplZeWFk6ow%0D%0APWtYi2YTDysDRe6hAGlDW06xed2rJn9uR58bvIyhv7o3EkOsdyT-6vh3WoFZ8MVQOk9VC41qeofY%0D%0AFyghWiIdf4TCY6p-xgL46C41y9EmPJIxw_cySVByqxguMP4uNYuSqMUYiwNHcvvoryV-9ZdTs9jv%0D%0AmlP7ISdrgL1V4sL7Lt0AWhZB0u8Rb2mW%0D%0A\">\n",
       "<span class=\"amazon-affiliate-site-name\">Amazon India</span><br>\n",
       "<span class=\"amazon-affiliate-site-desc\">Buy Movie and<br>TV Show DVDs</br>\n",
       "</span>\n",
       "</br>\n",
       "</a>\n",
       "<td>\n",
       "<div>\n",
       "<a class=\"amazon-affiliate-site-link\" href=\"/offsite/?page-action=ft-amzn-dpr=BCYs9TJ0Tw82lkt5st8phwkKrID1s60suLNV6esJM69ViLNlLsG4-HPHYU4QDs-nZ6xG8NyIXw87%0D%0A3GeEc0AP_BhSrye5MberFkApDsIu2e2GCerBZ7V6WMGFQFuuFBDnBB_aQc-DnyMtWn7gtFjMOoT7%0D%0AwSzSB_CJVeJkd5ekABuaEF4%0D%0A\">\n",
       "<span class=\"amazon-affiliate-site-name\">DPReview</span><br>\n",
       "<span class=\"amazon-affiliate-site-desc\">Digital<br>Photography</br>\n",
       "</span>\n",
       "</br>\n",
       "</a>\n",
       "<td>\n",
       "<div>\n",
       "<a class=\"amazon-affiliate-site-link\" href=\"/offsite/?page-action=ft-amzn-aud=BCYpSbY0Mnl1AZDUUYjN7pUXdB0ccVbIkFe5W8pYb2BWM6zgLqQMFDkOswihj3VtMOo9T2LXRvyK%0D%0ArPHdMien1BYpV0v__vJLgChIVqrC0D1xWYPwvfDo69SgOv-b5N8fkmhIaraQYobejl0CB7EMz0zW%0D%0A91CIY-mIUXGXc8aS4I91_9U%0D%0A\">\n",
       "<span class=\"amazon-affiliate-site-name\">Audible</span><br>\n",
       "<span class=\"amazon-affiliate-site-desc\">Download<br>Audio Books</br>\n",
       "</span>\n",
       "</br>\n",
       "</a>\n",
       "</div>\n",
       "</td>\n",
       "</div>\n",
       "</td>\n",
       "</div>\n",
       "<script src=\"http://ia.media-imdb.com/images/G/01/imdb/js/collections/common-1055245832._CB292594158_.js\" type=\"text/javascript\"/>\n",
       "<script src=\"http://ia.media-imdb.com/images/G/01/imdb/js/collections/title-1757936771._CB293372149_.js\" type=\"text/javascript\"/>\n",
       "<script id=\"login\" type=\"text/javascript\">\n",
       "(function(){\n",
       "    var readyTimeout = setInterval(function() {\n",
       "        if (window.jQuery  window.imdb  window.imdb.login_lightbox) {\n",
       "            clearTimeout(readyTimeout);\n",
       "            window.imdb.login_lightbox(\"https://secure.imdb.com\", \"http://www.imdb.com/title/tt2051879/keywords?ref_=tt_stry_kw\");\n",
       "        }\n",
       "    }, 100);\n",
       "})();\n",
       "</script>\n",
       "<script type=\"text/javascript\">\n",
       "        function jQueryOnReady(remaining_count) {\n",
       "            if (window.jQuery) {\n",
       "                jQuery(\n",
       "                             function() {\n",
       "           var isAdvertisingThemed = !!(window.custom  window.custom.full_page  window.custom.full_page.theme),\n",
       "               url = \"http://www.facebook.com/widgets/like.php?width=280=1=standard=http%3A%2F%2Fwww.imdb.com%2Ftitle%2Ftt2051879%2F=light\",\n",
       "               like = document.getElementById('iframe_like');\n",
       "\n",
       "           if (!isAdvertisingThemed  like) {\n",
       "              like.src = url;\n",
       "              like.onload = function () { generic.monitoring.stop_timing('facebook_like_iframe', '', false); };\n",
       "           } else if (isAdvertisingThemed) {\n",
       "              $('.social_networking_like').closest('.aux-content-widget-2').hide();\n",
       "           }\n",
       "        }\n",
       "\n",
       "                );\n",
       "            } else if (remaining_count &gt; 0) {\n",
       "                setTimeout(function() { jQueryOnReady(remaining_count-1) }, 100);\n",
       "            }\n",
       "        }\n",
       "        jQueryOnReady(50);\n",
       "        </script>\n",
       "<div id=\"servertime\" time=\"17\"/>\n",
       "<script>\n",
       "    if (typeof uet == 'function') {\n",
       "      uet(\"be\");\n",
       "    }\n",
       "</script>\n",
       "</td>\n",
       "</div>\n",
       "</td></div></td></div></td></div></td></div></td></tr></table></div></div></div></div></div></div></div></div></div></div></div></div></body></link></link></link></link></link></link></head></html>"
      ]
     },
     "execution_count": 7,
     "metadata": {},
     "output_type": "execute_result"
    }
   ],
   "source": [
    "soup"
   ]
  },
  {
   "cell_type": "code",
   "execution_count": 86,
   "metadata": {
    "collapsed": false
   },
   "outputs": [],
   "source": [
    "keyword_list = []\n",
    "for item in soup.find_all(class_=\"soda sodavote\"):\n",
    "    keyword_list.append(str(item.contents[1].contents[1].contents[0]))"
   ]
  },
  {
   "cell_type": "code",
   "execution_count": 87,
   "metadata": {
    "collapsed": false
   },
   "outputs": [
    {
     "data": {
      "text/plain": [
       "['found footage',\n",
       " 'moon',\n",
       " 'astronaut',\n",
       " 'hydrazine',\n",
       " 'alien',\n",
       " 'ice',\n",
       " 'characters killed one by one',\n",
       " 'moonscape',\n",
       " 'spacewalk',\n",
       " 'solar flare',\n",
       " 'weightless',\n",
       " 'year 1972',\n",
       " 'rocket launching',\n",
       " 'tedium',\n",
       " 'begins with text',\n",
       " 'two word title',\n",
       " 'trapped in space',\n",
       " 'creature',\n",
       " 'tentacle',\n",
       " 'spaceship crash',\n",
       " 'falling to death',\n",
       " 'knocked out',\n",
       " 'death',\n",
       " 'reflection in eye',\n",
       " 'close up of eyes',\n",
       " 'falling through ice',\n",
       " 'character says i love you',\n",
       " 'spacesuit',\n",
       " 'space probe',\n",
       " 'radiation',\n",
       " 'underwater scene',\n",
       " 'flashback',\n",
       " \"rubik's cube\",\n",
       " 'reference to neil armstrong',\n",
       " 'spaceship pilot',\n",
       " 'subjective camera',\n",
       " 'earth viewed from space',\n",
       " 'space shuttle launch',\n",
       " 'reference to galileo',\n",
       " 'scientist',\n",
       " 'news conference',\n",
       " 'nonlinear timeline',\n",
       " 'no opening credits',\n",
       " 'zero gravity',\n",
       " 'unsubtitled foreign language',\n",
       " 'video camera',\n",
       " 'lens flare',\n",
       " 'split screen',\n",
       " 'space shuttle',\n",
       " 'spaceship',\n",
       " 'no survivors',\n",
       " 'outer space',\n",
       " 'film starts with text',\n",
       " 'jupiter moon europa',\n",
       " 'jupiter the planet']"
      ]
     },
     "execution_count": 87,
     "metadata": {},
     "output_type": "execute_result"
    }
   ],
   "source": [
    "keyword_list"
   ]
  },
  {
   "cell_type": "code",
   "execution_count": null,
   "metadata": {
    "collapsed": true
   },
   "outputs": [],
   "source": []
  },
  {
   "cell_type": "code",
   "execution_count": 105,
   "metadata": {
    "collapsed": false
   },
   "outputs": [],
   "source": [
    "budget_string = soup(text=\"Budget:\")[0].next\n",
    "budget = int(re.sub(\"[^0-9]\", \"\", budget_string))"
   ]
  },
  {
   "cell_type": "code",
   "execution_count": 106,
   "metadata": {
    "collapsed": false
   },
   "outputs": [
    {
     "data": {
      "text/plain": [
       "113000000"
      ]
     },
     "execution_count": 106,
     "metadata": {},
     "output_type": "execute_result"
    }
   ],
   "source": [
    "budget = int(re.sub(\"[^0-9]\", \"\", budget_string))\n",
    "budget"
   ]
  },
  {
   "cell_type": "code",
   "execution_count": 136,
   "metadata": {
    "collapsed": false
   },
   "outputs": [
    {
     "name": "stdout",
     "output_type": "stream",
     "text": [
      "fail\n"
     ]
    }
   ],
   "source": [
    "if str(soup(class_=\"infobar\")[0].next.string) == \"'\\n            TV Movie\\n\\n\\n\":\n",
    "    print 'pass'\n",
    "else: print 'fail'"
   ]
  },
  {
   "cell_type": "code",
   "execution_count": 144,
   "metadata": {
    "collapsed": false
   },
   "outputs": [
    {
     "data": {
      "text/plain": [
       "'\\n            TV Movie\\n\\n\\n                    '"
      ]
     },
     "execution_count": 144,
     "metadata": {},
     "output_type": "execute_result"
    }
   ],
   "source": [
    "str(soup(class_=\"infobar\")[0].next)"
   ]
  },
  {
   "cell_type": "code",
   "execution_count": 145,
   "metadata": {
    "collapsed": false
   },
   "outputs": [],
   "source": [
    "si = soup(class_=\"infobar\")[0].next"
   ]
  },
  {
   "cell_type": "code",
   "execution_count": 147,
   "metadata": {
    "collapsed": false
   },
   "outputs": [
    {
     "data": {
      "text/plain": [
       "u'TVMovie'"
      ]
     },
     "execution_count": 147,
     "metadata": {},
     "output_type": "execute_result"
    }
   ],
   "source": [
    "import re\n",
    "re.sub(r'\\W+', '', si)"
   ]
  },
  {
   "cell_type": "code",
   "execution_count": 149,
   "metadata": {
    "collapsed": false
   },
   "outputs": [
    {
     "name": "stdout",
     "output_type": "stream",
     "text": [
      "pass\n"
     ]
    }
   ],
   "source": [
    "tv_movie_tag = str(soup(class_=\"infobar\")[0].next)\n",
    "if re.sub(r'\\W+', '', tv_movie_tag) == 'TVMovie':\n",
    "    print 'pass'\n",
    "else: print 'fail'"
   ]
  },
  {
   "cell_type": "code",
   "execution_count": null,
   "metadata": {
    "collapsed": false
   },
   "outputs": [],
   "source": [
    "sp = head[0](class_=\"itemprop\")"
   ]
  },
  {
   "cell_type": "code",
   "execution_count": null,
   "metadata": {
    "collapsed": false
   },
   "outputs": [],
   "source": [
    "title = str(sp[0].string)"
   ]
  },
  {
   "cell_type": "code",
   "execution_count": null,
   "metadata": {
    "collapsed": false
   },
   "outputs": [],
   "source": [
    "title_tag = soup.find_all('title')"
   ]
  },
  {
   "cell_type": "code",
   "execution_count": 9,
   "metadata": {
    "collapsed": false
   },
   "outputs": [
    {
     "ename": "NameError",
     "evalue": "name 'title' is not defined",
     "output_type": "error",
     "traceback": [
      "\u001b[0;31m---------------------------------------------------------------------------\u001b[0m",
      "\u001b[0;31mNameError\u001b[0m                                 Traceback (most recent call last)",
      "\u001b[0;32m<ipython-input-9-9372be30cea6>\u001b[0m in \u001b[0;36m<module>\u001b[0;34m()\u001b[0m\n\u001b[0;32m----> 1\u001b[0;31m \u001b[0mtitle\u001b[0m\u001b[0;34m\u001b[0m\u001b[0m\n\u001b[0m",
      "\u001b[0;31mNameError\u001b[0m: name 'title' is not defined"
     ]
    }
   ],
   "source": [
    "title"
   ]
  },
  {
   "cell_type": "code",
   "execution_count": 10,
   "metadata": {
    "collapsed": true
   },
   "outputs": [],
   "source": [
    "movie_info = {}\n"
   ]
  },
  {
   "cell_type": "code",
   "execution_count": null,
   "metadata": {
    "collapsed": false
   },
   "outputs": [],
   "source": [
    "\n"
   ]
  },
  {
   "cell_type": "code",
   "execution_count": 11,
   "metadata": {
    "collapsed": false
   },
   "outputs": [
    {
     "ename": "NameError",
     "evalue": "name 'title_tag' is not defined",
     "output_type": "error",
     "traceback": [
      "\u001b[0;31m---------------------------------------------------------------------------\u001b[0m",
      "\u001b[0;31mNameError\u001b[0m                                 Traceback (most recent call last)",
      "\u001b[0;32m<ipython-input-11-70ded0593a3b>\u001b[0m in \u001b[0;36m<module>\u001b[0;34m()\u001b[0m\n\u001b[0;32m----> 1\u001b[0;31m \u001b[0mdate\u001b[0m \u001b[0;34m=\u001b[0m \u001b[0mstr\u001b[0m\u001b[0;34m(\u001b[0m\u001b[0mtitle_tag\u001b[0m\u001b[0;34m[\u001b[0m\u001b[0;36m0\u001b[0m\u001b[0;34m]\u001b[0m\u001b[0;34m.\u001b[0m\u001b[0mstring\u001b[0m\u001b[0;34m.\u001b[0m\u001b[0msplit\u001b[0m\u001b[0;34m(\u001b[0m\u001b[0;34m'('\u001b[0m\u001b[0;34m)\u001b[0m\u001b[0;34m[\u001b[0m\u001b[0;36m1\u001b[0m\u001b[0;34m]\u001b[0m\u001b[0;34m.\u001b[0m\u001b[0msplit\u001b[0m\u001b[0;34m(\u001b[0m\u001b[0;34m')'\u001b[0m\u001b[0;34m)\u001b[0m\u001b[0;34m[\u001b[0m\u001b[0;36m0\u001b[0m\u001b[0;34m]\u001b[0m\u001b[0;34m)\u001b[0m\u001b[0;34m\u001b[0m\u001b[0m\n\u001b[0m",
      "\u001b[0;31mNameError\u001b[0m: name 'title_tag' is not defined"
     ]
    }
   ],
   "source": [
    "date = str(title_tag[0].string.split('(')[1].split(')')[0])"
   ]
  },
  {
   "cell_type": "code",
   "execution_count": 12,
   "metadata": {
    "collapsed": false
   },
   "outputs": [
    {
     "ename": "NameError",
     "evalue": "name 'title_tag' is not defined",
     "output_type": "error",
     "traceback": [
      "\u001b[0;31m---------------------------------------------------------------------------\u001b[0m",
      "\u001b[0;31mNameError\u001b[0m                                 Traceback (most recent call last)",
      "\u001b[0;32m<ipython-input-12-02199cd48cc3>\u001b[0m in \u001b[0;36m<module>\u001b[0;34m()\u001b[0m\n\u001b[0;32m----> 1\u001b[0;31m \u001b[0mt\u001b[0m \u001b[0;34m=\u001b[0m \u001b[0mstr\u001b[0m\u001b[0;34m(\u001b[0m\u001b[0mtitle_tag\u001b[0m\u001b[0;34m[\u001b[0m\u001b[0;36m0\u001b[0m\u001b[0;34m]\u001b[0m\u001b[0;34m.\u001b[0m\u001b[0mstring\u001b[0m\u001b[0;34m.\u001b[0m\u001b[0msplit\u001b[0m\u001b[0;34m(\u001b[0m\u001b[0;34m'-'\u001b[0m\u001b[0;34m)\u001b[0m\u001b[0;34m[\u001b[0m\u001b[0;36m0\u001b[0m\u001b[0;34m]\u001b[0m\u001b[0;34m.\u001b[0m\u001b[0msplit\u001b[0m\u001b[0;34m(\u001b[0m\u001b[0;34m' ('\u001b[0m\u001b[0;34m)\u001b[0m\u001b[0;34m[\u001b[0m\u001b[0;36m0\u001b[0m\u001b[0;34m]\u001b[0m\u001b[0;34m)\u001b[0m\u001b[0;34m\u001b[0m\u001b[0m\n\u001b[0m",
      "\u001b[0;31mNameError\u001b[0m: name 'title_tag' is not defined"
     ]
    }
   ],
   "source": [
    "t = str(title_tag[0].string.split('-')[0].split(' (')[0])\n"
   ]
  },
  {
   "cell_type": "code",
   "execution_count": 13,
   "metadata": {
    "collapsed": false
   },
   "outputs": [
    {
     "ename": "NameError",
     "evalue": "name 'title' is not defined",
     "output_type": "error",
     "traceback": [
      "\u001b[0;31m---------------------------------------------------------------------------\u001b[0m",
      "\u001b[0;31mNameError\u001b[0m                                 Traceback (most recent call last)",
      "\u001b[0;32m<ipython-input-13-9372be30cea6>\u001b[0m in \u001b[0;36m<module>\u001b[0;34m()\u001b[0m\n\u001b[0;32m----> 1\u001b[0;31m \u001b[0mtitle\u001b[0m\u001b[0;34m\u001b[0m\u001b[0m\n\u001b[0m",
      "\u001b[0;31mNameError\u001b[0m: name 'title' is not defined"
     ]
    }
   ],
   "source": [
    "title"
   ]
  },
  {
   "cell_type": "code",
   "execution_count": 14,
   "metadata": {
    "collapsed": false
   },
   "outputs": [],
   "source": [
    "movie_info = defaultdict(dict)"
   ]
  },
  {
   "cell_type": "code",
   "execution_count": null,
   "metadata": {
    "collapsed": false
   },
   "outputs": [],
   "source": []
  },
  {
   "cell_type": "code",
   "execution_count": null,
   "metadata": {
    "collapsed": false
   },
   "outputs": [],
   "source": []
  },
  {
   "cell_type": "code",
   "execution_count": 163,
   "metadata": {
    "collapsed": false
   },
   "outputs": [
    {
     "data": {
      "text/plain": [
       "<h4 class=\"inline\">Release Date:</h4>"
      ]
     },
     "execution_count": 163,
     "metadata": {},
     "output_type": "execute_result"
    }
   ],
   "source": [
    "soup('h4')[19]"
   ]
  },
  {
   "cell_type": "code",
   "execution_count": 77,
   "metadata": {
    "collapsed": false
   },
   "outputs": [
    {
     "name": "stdout",
     "output_type": "stream",
     "text": [
      "yup!\n"
     ]
    }
   ],
   "source": [
    "if soup('h4')[19].contents == [u'Release Date:']:\n",
    "    print 'yup!'\n",
    "else:\n",
    "    print 'nope'\n",
    "        "
   ]
  },
  {
   "cell_type": "code",
   "execution_count": null,
   "metadata": {
    "collapsed": true
   },
   "outputs": [],
   "source": []
  },
  {
   "cell_type": "code",
   "execution_count": 176,
   "metadata": {
    "collapsed": false
   },
   "outputs": [
    {
     "data": {
      "text/plain": [
       "<h4 class=\"inline\">Release Date:</h4>"
      ]
     },
     "execution_count": 176,
     "metadata": {},
     "output_type": "execute_result"
    }
   ],
   "source": [
    "soup('h4')[17]"
   ]
  },
  {
   "cell_type": "code",
   "execution_count": 169,
   "metadata": {
    "collapsed": false
   },
   "outputs": [],
   "source": [
    "date_string = str(soup('h4')[19].next.next)"
   ]
  },
  {
   "cell_type": "code",
   "execution_count": 170,
   "metadata": {
    "collapsed": false
   },
   "outputs": [
    {
     "name": "stdout",
     "output_type": "stream",
     "text": [
      "['', '1', 'March', '2016', '(USA)\\n', '', '', '', '']\n"
     ]
    },
    {
     "data": {
      "text/plain": [
       "'1 March 2016'"
      ]
     },
     "execution_count": 170,
     "metadata": {},
     "output_type": "execute_result"
    }
   ],
   "source": [
    "date_split = date_string.split( ' ')\n",
    "print date_split\n",
    "date = date_split[1] + ' ' + date_split[2] + ' ' + date_split[3]\n",
    "date"
   ]
  },
  {
   "cell_type": "code",
   "execution_count": 21,
   "metadata": {
    "collapsed": false
   },
   "outputs": [],
   "source": [
    "movie_info = defaultdict(dict)"
   ]
  },
  {
   "cell_type": "code",
   "execution_count": 22,
   "metadata": {
    "collapsed": false
   },
   "outputs": [
    {
     "ename": "NameError",
     "evalue": "name 'title' is not defined",
     "output_type": "error",
     "traceback": [
      "\u001b[0;31m---------------------------------------------------------------------------\u001b[0m",
      "\u001b[0;31mNameError\u001b[0m                                 Traceback (most recent call last)",
      "\u001b[0;32m<ipython-input-22-b791ed183303>\u001b[0m in \u001b[0;36m<module>\u001b[0;34m()\u001b[0m\n\u001b[0;32m----> 1\u001b[0;31m \u001b[0mmovie_info\u001b[0m\u001b[0;34m[\u001b[0m\u001b[0mtitle\u001b[0m\u001b[0;34m]\u001b[0m\u001b[0;34m[\u001b[0m\u001b[0;34m'date'\u001b[0m\u001b[0;34m]\u001b[0m\u001b[0;34m=\u001b[0m\u001b[0mdate\u001b[0m\u001b[0;34m\u001b[0m\u001b[0m\n\u001b[0m",
      "\u001b[0;31mNameError\u001b[0m: name 'title' is not defined"
     ]
    }
   ],
   "source": [
    "movie_info[title]['date']=date"
   ]
  },
  {
   "cell_type": "code",
   "execution_count": 23,
   "metadata": {
    "collapsed": false
   },
   "outputs": [
    {
     "data": {
      "text/plain": [
       "defaultdict(<type 'dict'>, {})"
      ]
     },
     "execution_count": 23,
     "metadata": {},
     "output_type": "execute_result"
    }
   ],
   "source": [
    "movie_info"
   ]
  },
  {
   "cell_type": "code",
   "execution_count": 21,
   "metadata": {
    "collapsed": false
   },
   "outputs": [
    {
     "ename": "SyntaxError",
     "evalue": "invalid syntax (<ipython-input-21-f345fbbbe436>, line 1)",
     "output_type": "error",
     "traceback": [
      "\u001b[0;36m  File \u001b[0;32m\"<ipython-input-21-f345fbbbe436>\"\u001b[0;36m, line \u001b[0;32m1\u001b[0m\n\u001b[0;31m    <div class=\"see-more inline canwrap\" itemprop=\"genre\">\u001b[0m\n\u001b[0m    ^\u001b[0m\n\u001b[0;31mSyntaxError\u001b[0m\u001b[0;31m:\u001b[0m invalid syntax\n"
     ]
    }
   ],
   "source": [
    "<div class=\"see-more inline canwrap\" itemprop=\"genre\">\n",
    "            <h4 class=\"inline\">Genres:</h4>\n",
    "<a href=\"/genre/Adventure?ref_=tt_stry_gnr\"> Adventure</a>&nbsp;<span>|</span>\n",
    "<a href=\"/genre/Mystery?ref_=tt_stry_gnr\"> Mystery</a>&nbsp;<span>|</span>\n",
    "<a href=\"/genre/Sci-Fi?ref_=tt_stry_gnr\"> Sci-Fi</a>\n",
    "        </div>)"
   ]
  },
  {
   "cell_type": "code",
   "execution_count": 24,
   "metadata": {
    "collapsed": false
   },
   "outputs": [
    {
     "name": "stdout",
     "output_type": "stream",
     "text": [
      "<h4 class=\"inline\">Genres:</h4>\n"
     ]
    }
   ],
   "source": [
    "print soup(class_=\"inline\")[5]"
   ]
  },
  {
   "cell_type": "code",
   "execution_count": 25,
   "metadata": {
    "collapsed": false
   },
   "outputs": [
    {
     "ename": "SyntaxError",
     "evalue": "invalid syntax (<ipython-input-25-9a197d31e94f>, line 3)",
     "output_type": "error",
     "traceback": [
      "\u001b[0;36m  File \u001b[0;32m\"<ipython-input-25-9a197d31e94f>\"\u001b[0;36m, line \u001b[0;32m3\u001b[0m\n\u001b[0;31m    print item.find(class_=\"itemprop\" itemprop=\"genre\")\u001b[0m\n\u001b[0m                                             ^\u001b[0m\n\u001b[0;31mSyntaxError\u001b[0m\u001b[0;31m:\u001b[0m invalid syntax\n"
     ]
    }
   ],
   "source": [
    "genre_tags = soup(itemprop=\"genre\")\n",
    "for item in genre_tags:\n",
    "    print item.find(class_=\"itemprop\" itemprop=\"genre\")\n",
    "    "
   ]
  },
  {
   "cell_type": "code",
   "execution_count": null,
   "metadata": {
    "collapsed": false
   },
   "outputs": [],
   "source": []
  },
  {
   "cell_type": "code",
   "execution_count": 26,
   "metadata": {
    "collapsed": false
   },
   "outputs": [
    {
     "ename": "NameError",
     "evalue": "name 'title' is not defined",
     "output_type": "error",
     "traceback": [
      "\u001b[0;31m---------------------------------------------------------------------------\u001b[0m",
      "\u001b[0;31mNameError\u001b[0m                                 Traceback (most recent call last)",
      "\u001b[0;32m<ipython-input-26-af0da65746a3>\u001b[0m in \u001b[0;36m<module>\u001b[0;34m()\u001b[0m\n\u001b[1;32m      4\u001b[0m     \u001b[0mgenre\u001b[0m \u001b[0;34m=\u001b[0m \u001b[0mstr\u001b[0m\u001b[0;34m(\u001b[0m\u001b[0mitem\u001b[0m\u001b[0;34m.\u001b[0m\u001b[0mstring\u001b[0m\u001b[0;34m)\u001b[0m\u001b[0;34m\u001b[0m\u001b[0m\n\u001b[1;32m      5\u001b[0m     \u001b[0mgenre_list\u001b[0m\u001b[0;34m.\u001b[0m\u001b[0mappend\u001b[0m\u001b[0;34m(\u001b[0m\u001b[0mgenre\u001b[0m\u001b[0;34m)\u001b[0m\u001b[0;34m\u001b[0m\u001b[0m\n\u001b[0;32m----> 6\u001b[0;31m \u001b[0mmovie_info\u001b[0m\u001b[0;34m[\u001b[0m\u001b[0mtitle\u001b[0m\u001b[0;34m]\u001b[0m\u001b[0;34m[\u001b[0m\u001b[0;34m'genre'\u001b[0m\u001b[0;34m]\u001b[0m\u001b[0;34m=\u001b[0m\u001b[0mgenre_list\u001b[0m\u001b[0;34m\u001b[0m\u001b[0m\n\u001b[0m\u001b[1;32m      7\u001b[0m \u001b[0;34m\u001b[0m\u001b[0m\n",
      "\u001b[0;31mNameError\u001b[0m: name 'title' is not defined"
     ]
    }
   ],
   "source": [
    "genre_tags = soup('span', itemprop=\"genre\")\n",
    "genre_list = []\n",
    "for item in genre_tags:\n",
    "    genre = str(item.string)\n",
    "    genre_list.append(genre)\n",
    "movie_info[title]['genre']=genre_list\n",
    "    "
   ]
  },
  {
   "cell_type": "code",
   "execution_count": 122,
   "metadata": {
    "collapsed": true
   },
   "outputs": [],
   "source": [
    "url = 'http://www.imdb.com/title/tt1234721/'"
   ]
  },
  {
   "cell_type": "markdown",
   "metadata": {},
   "source": [
    "movie_info"
   ]
  },
  {
   "cell_type": "code",
   "execution_count": 123,
   "metadata": {
    "collapsed": false
   },
   "outputs": [
    {
     "data": {
      "text/plain": [
       "'http://www.imdb.com/title/tt1234721/business?ref_=tt_dt_bus'"
      ]
     },
     "execution_count": 123,
     "metadata": {},
     "output_type": "execute_result"
    }
   ],
   "source": [
    "box_office_href = 'business?ref_=tt_dt_bus'\n",
    "box_office_url = url + box_office_href\n",
    "box_office_url"
   ]
  },
  {
   "cell_type": "code",
   "execution_count": 124,
   "metadata": {
    "collapsed": false
   },
   "outputs": [],
   "source": [
    "box_response = requests.get(box_office_url)\n",
    "box_page = box_response.text\n",
    "box_soup = BeautifulSoup(box_page, 'xml')"
   ]
  },
  {
   "cell_type": "code",
   "execution_count": 125,
   "metadata": {
    "collapsed": false
   },
   "outputs": [],
   "source": [
    "screen_string = str(box_soup('h5')[15].next.next.next.next.next.next.next.next)"
   ]
  },
  {
   "cell_type": "code",
   "execution_count": 126,
   "metadata": {
    "collapsed": false
   },
   "outputs": [],
   "source": [
    "screen_string = str(box_soup('h5')[15].next.next.next.next.next.next.next.next)\n",
    "opening_weekend_screens = re.sub(r'[^1-9]', '', screen_string)"
   ]
  },
  {
   "cell_type": "code",
   "execution_count": 127,
   "metadata": {
    "collapsed": false
   },
   "outputs": [
    {
     "data": {
      "text/plain": [
       "'3372'"
      ]
     },
     "execution_count": 127,
     "metadata": {},
     "output_type": "execute_result"
    }
   ],
   "source": [
    "opening_weekend_screens"
   ]
  },
  {
   "cell_type": "code",
   "execution_count": 78,
   "metadata": {
    "collapsed": false,
    "scrolled": true
   },
   "outputs": [
    {
     "data": {
      "text/plain": [
       "[<div id=\"tn15content\">\n",
       " <h5>Budget</h5>\n",
       " $1,850,000 (estimated)<br/>\n",
       " <br/>\n",
       " <h5>Gross</h5>\n",
       " $97,919 (USA) (<a href=\"/date/09-28/\">28 September</a> <a href=\"/year/2014/\">2014</a>)<br/>\n",
       " <br/>\n",
       " <h5>Weekend Gross</h5>\n",
       " $4,206 (USA) (<a href=\"/date/09-28/\">28 September</a> <a href=\"/year/2014/\">2014</a>) (8 Screens)<br/>\n",
       " <br/>\n",
       " <h5>Filming Dates</h5>\n",
       " <a href=\"/date/07-09/\">9 July</a> <a href=\"/year/2012/\">2012</a><br/>\n",
       " <br/>\n",
       " <hr/><h3>Related Links</h3><table>\n",
       " <tr><td style=\"width: 400px\" width=\"33%\"> <a href=\"/title/tt2141751/releaseinfo\" onClick=\"(new Image()).src='/rg/title-related/business-releaseinfo/images/b.gif?link=/title/tt2141751/releaseinfo';\">Release dates</a></td>\n",
       " <td style=\"width: 400px\" width=\"33%\"> <a href=\"/title/tt2141751/ratings\" onClick=\"(new Image()).src='/rg/title-related/business-ratings/images/b.gif?link=/title/tt2141751/ratings';\">Ratings</a></td><td style=\"width: 400px\" width=\"33%\"> <a href=\"/title/tt2141751/awards\" onClick=\"(new Image()).src='/rg/title-related/business-awards/images/b.gif?link=/title/tt2141751/awards';\">Awards</a></td></tr>\n",
       " <tr><td style=\"width: 400px\" width=\"33%\"> <a href=\"/title/tt2141751/technical\" onClick=\"(new Image()).src='/rg/title-related/business-technical/images/b.gif?link=/title/tt2141751/technical';\">Technical specifications</a></td>\n",
       " <td style=\"width: 400px\" width=\"33%\"> <a href=\"/title/tt2141751/locations\" onClick=\"(new Image()).src='/rg/title-related/business-locations/images/b.gif?link=/title/tt2141751/locations';\">Filming locations</a></td><td style=\"width: 400px\" width=\"33%\"> <a href=\"/title/tt2141751/literature\" onClick=\"(new Image()).src='/rg/title-related/business-literature/images/b.gif?link=/title/tt2141751/literature';\">Literature listings</a></td></tr><tr><td style=\"width: 400px\" width=\"33%\"> <a href=\"/title/tt2141751/news\" onClick=\"(new Image()).src='/rg/title-related/business-news/images/b.gif?link=/title/tt2141751/news';\">News articles</a></td>\n",
       " <td style=\"width: 400px\" width=\"33%\"> <a href=\"/title/tt2141751/maindetails\" onClick=\"(new Image()).src='/rg/title-related/business-maindetails/images/b.gif?link=/title/tt2141751/maindetails';\">Main details</a></td>\n",
       " <td style=\"width: 400px\" width=\"33%\"> <a href=\"/chart/\" onClick=\"(new Image()).src='/rg/title-related/business-chart/images/b.gif?link=/chart/';\">IMDb charts</a></td></tr>\n",
       " </table>\n",
       " <div id=\"tn15bot\">\n",
       " <div class=\"right\">\n",
       " </div>\n",
       " <div class=\"left\">\n",
       " <p><form action=\"/updates\" method=\"post\"><input name=\"auto\" type=\"hidden\" value=\"legacy/title/tt2141751/business\"><button class=\"primary\" onclick=\"(new Image()).src='/rg/business-title/tconst-update/images/b.gif'\" type=\"submit\">Edit page</button></input><p><i>You may report errors and omissions on this page to the IMDb database managers. They will be examined and if approved will be included in a future update. Clicking the 'Edit page' button  will take you through a step-by-step process.</i></p></form>\n",
       " </p>\n",
       " </div>\n",
       " </div>\n",
       " </div>]"
      ]
     },
     "execution_count": 78,
     "metadata": {},
     "output_type": "execute_result"
    }
   ],
   "source": [
    "box_soup(id=\"tn15content\")"
   ]
  },
  {
   "cell_type": "code",
   "execution_count": 69,
   "metadata": {
    "collapsed": false
   },
   "outputs": [],
   "source": [
    "opening_str = box_soup(text='Opening Weekend')[0].next.next.next.next.next.next.next"
   ]
  },
  {
   "cell_type": "code",
   "execution_count": 116,
   "metadata": {
    "collapsed": false
   },
   "outputs": [],
   "source": [
    "opening_str = box_soup.find(text='Screens')\n",
    "opening_str"
   ]
  },
  {
   "cell_type": "code",
   "execution_count": 113,
   "metadata": {
    "collapsed": false
   },
   "outputs": [
    {
     "ename": "IndexError",
     "evalue": "list index out of range",
     "output_type": "error",
     "traceback": [
      "\u001b[0;31m---------------------------------------------------------------------------\u001b[0m",
      "\u001b[0;31mIndexError\u001b[0m                                Traceback (most recent call last)",
      "\u001b[0;32m<ipython-input-113-acda12cbe194>\u001b[0m in \u001b[0;36m<module>\u001b[0;34m()\u001b[0m\n\u001b[0;32m----> 1\u001b[0;31m \u001b[0mscreen_string\u001b[0m \u001b[0;34m=\u001b[0m \u001b[0mbox_soup\u001b[0m\u001b[0;34m(\u001b[0m\u001b[0mtext\u001b[0m\u001b[0;34m=\u001b[0m\u001b[0;34m'Opening Weekend'\u001b[0m\u001b[0;34m)\u001b[0m\u001b[0;34m[\u001b[0m\u001b[0;36m0\u001b[0m\u001b[0;34m]\u001b[0m\u001b[0;34m.\u001b[0m\u001b[0mnext\u001b[0m\u001b[0;34m.\u001b[0m\u001b[0mnext\u001b[0m\u001b[0;34m.\u001b[0m\u001b[0mnext\u001b[0m\u001b[0;34m.\u001b[0m\u001b[0mnext\u001b[0m\u001b[0;34m.\u001b[0m\u001b[0mnext\u001b[0m\u001b[0;34m.\u001b[0m\u001b[0mnext\u001b[0m\u001b[0;34m.\u001b[0m\u001b[0mnext\u001b[0m\u001b[0;34m\u001b[0m\u001b[0m\n\u001b[0m\u001b[1;32m      2\u001b[0m \u001b[0mscreen_string\u001b[0m\u001b[0;34m\u001b[0m\u001b[0m\n",
      "\u001b[0;31mIndexError\u001b[0m: list index out of range"
     ]
    }
   ],
   "source": [
    "screen_string = box_soup(text='Opening Weekend')[0].next.next.next.next.next.next.next           \n",
    "screen_string"
   ]
  },
  {
   "cell_type": "code",
   "execution_count": 128,
   "metadata": {
    "collapsed": false
   },
   "outputs": [
    {
     "data": {
      "text/plain": [
       "'3372'"
      ]
     },
     "execution_count": 128,
     "metadata": {},
     "output_type": "execute_result"
    }
   ],
   "source": [
    "screen_string = box_soup(text='Opening Weekend')[0].next.next.next.next.next.next.next           \n",
    "opening_weekend_screens = str(re.sub(r'[^1-9]', '', screen_string))\n",
    "opening_weekend_screens"
   ]
  },
  {
   "cell_type": "code",
   "execution_count": 13,
   "metadata": {
    "collapsed": false
   },
   "outputs": [
    {
     "ename": "TypeError",
     "evalue": "expected string or buffer",
     "output_type": "error",
     "traceback": [
      "\u001b[0;31m---------------------------------------------------------------------------\u001b[0m",
      "\u001b[0;31mTypeError\u001b[0m                                 Traceback (most recent call last)",
      "\u001b[0;32m<ipython-input-13-5de728ff1e9f>\u001b[0m in \u001b[0;36m<module>\u001b[0;34m()\u001b[0m\n\u001b[0;32m----> 1\u001b[0;31m \u001b[0mopening_weekend\u001b[0m \u001b[0;34m=\u001b[0m \u001b[0mint\u001b[0m\u001b[0;34m(\u001b[0m\u001b[0mre\u001b[0m\u001b[0;34m.\u001b[0m\u001b[0msub\u001b[0m\u001b[0;34m(\u001b[0m\u001b[0;34m\"[^0-9]\"\u001b[0m\u001b[0;34m,\u001b[0m \u001b[0;34m\"\"\u001b[0m\u001b[0;34m,\u001b[0m \u001b[0mopening_str\u001b[0m\u001b[0;34m)\u001b[0m\u001b[0;34m)\u001b[0m\u001b[0;34m\u001b[0m\u001b[0m\n\u001b[0m",
      "\u001b[0;32m/Users/David/anaconda/lib/python2.7/re.pyc\u001b[0m in \u001b[0;36msub\u001b[0;34m(pattern, repl, string, count, flags)\u001b[0m\n\u001b[1;32m    153\u001b[0m     \u001b[0ma\u001b[0m \u001b[0mcallable\u001b[0m\u001b[0;34m,\u001b[0m \u001b[0mit\u001b[0m\u001b[0;31m'\u001b[0m\u001b[0ms\u001b[0m \u001b[0mpassed\u001b[0m \u001b[0mthe\u001b[0m \u001b[0mmatch\u001b[0m \u001b[0mobject\u001b[0m \u001b[0;32mand\u001b[0m \u001b[0mmust\u001b[0m \u001b[0;32mreturn\u001b[0m\u001b[0;34m\u001b[0m\u001b[0m\n\u001b[1;32m    154\u001b[0m     a replacement string to be used.\"\"\"\n\u001b[0;32m--> 155\u001b[0;31m     \u001b[0;32mreturn\u001b[0m \u001b[0m_compile\u001b[0m\u001b[0;34m(\u001b[0m\u001b[0mpattern\u001b[0m\u001b[0;34m,\u001b[0m \u001b[0mflags\u001b[0m\u001b[0;34m)\u001b[0m\u001b[0;34m.\u001b[0m\u001b[0msub\u001b[0m\u001b[0;34m(\u001b[0m\u001b[0mrepl\u001b[0m\u001b[0;34m,\u001b[0m \u001b[0mstring\u001b[0m\u001b[0;34m,\u001b[0m \u001b[0mcount\u001b[0m\u001b[0;34m)\u001b[0m\u001b[0;34m\u001b[0m\u001b[0m\n\u001b[0m\u001b[1;32m    156\u001b[0m \u001b[0;34m\u001b[0m\u001b[0m\n\u001b[1;32m    157\u001b[0m \u001b[0;32mdef\u001b[0m \u001b[0msubn\u001b[0m\u001b[0;34m(\u001b[0m\u001b[0mpattern\u001b[0m\u001b[0;34m,\u001b[0m \u001b[0mrepl\u001b[0m\u001b[0;34m,\u001b[0m \u001b[0mstring\u001b[0m\u001b[0;34m,\u001b[0m \u001b[0mcount\u001b[0m\u001b[0;34m=\u001b[0m\u001b[0;36m0\u001b[0m\u001b[0;34m,\u001b[0m \u001b[0mflags\u001b[0m\u001b[0;34m=\u001b[0m\u001b[0;36m0\u001b[0m\u001b[0;34m)\u001b[0m\u001b[0;34m:\u001b[0m\u001b[0;34m\u001b[0m\u001b[0m\n",
      "\u001b[0;31mTypeError\u001b[0m: expected string or buffer"
     ]
    }
   ],
   "source": [
    "opening_weekend = int(re.sub(\"[^0-9]\", \"\", opening_str))"
   ]
  },
  {
   "cell_type": "code",
   "execution_count": 37,
   "metadata": {
    "collapsed": false
   },
   "outputs": [
    {
     "ename": "NameError",
     "evalue": "name 'opening_weekend' is not defined",
     "output_type": "error",
     "traceback": [
      "\u001b[0;31m---------------------------------------------------------------------------\u001b[0m",
      "\u001b[0;31mNameError\u001b[0m                                 Traceback (most recent call last)",
      "\u001b[0;32m<ipython-input-37-f96fed9357e0>\u001b[0m in \u001b[0;36m<module>\u001b[0;34m()\u001b[0m\n\u001b[0;32m----> 1\u001b[0;31m \u001b[0mmovie_info\u001b[0m\u001b[0;34m[\u001b[0m\u001b[0mtitle\u001b[0m\u001b[0;34m]\u001b[0m\u001b[0;34m[\u001b[0m\u001b[0;34m'opening'\u001b[0m\u001b[0;34m]\u001b[0m\u001b[0;34m=\u001b[0m\u001b[0mopening_weekend\u001b[0m\u001b[0;34m.\u001b[0m\u001b[0mnext\u001b[0m\u001b[0;34m\u001b[0m\u001b[0m\n\u001b[0m",
      "\u001b[0;31mNameError\u001b[0m: name 'opening_weekend' is not defined"
     ]
    }
   ],
   "source": [
    "movie_info[title]['opening']=opening_weekend"
   ]
  },
  {
   "cell_type": "code",
   "execution_count": 70,
   "metadata": {
    "collapsed": false
   },
   "outputs": [
    {
     "data": {
      "text/plain": [
       "defaultdict(<type 'dict'>, {'Divergent': {'date': '21 March 2014', 'genre': ['Adventure', 'Mystery', 'Sci-Fi'], 'opening': 54607747}})"
      ]
     },
     "execution_count": 70,
     "metadata": {},
     "output_type": "execute_result"
    }
   ],
   "source": [
    "movie_info"
   ]
  },
  {
   "cell_type": "code",
   "execution_count": 65,
   "metadata": {
    "collapsed": false
   },
   "outputs": [
    {
     "data": {
      "text/plain": [
       "'http://www.imdb.com/title/tt1840309/'"
      ]
     },
     "execution_count": 65,
     "metadata": {},
     "output_type": "execute_result"
    }
   ],
   "source": [
    "str(soup(property=\"og:url\")[0]).split ('\"')[1]"
   ]
  },
  {
   "cell_type": "code",
   "execution_count": 161,
   "metadata": {
    "collapsed": false
   },
   "outputs": [
    {
     "data": {
      "text/plain": [
       "<h5>MOVIES</h5>"
      ]
     },
     "execution_count": 161,
     "metadata": {},
     "output_type": "execute_result"
    }
   ],
   "source": [
    "box_soup('h5')[0]"
   ]
  },
  {
   "cell_type": "code",
   "execution_count": 160,
   "metadata": {
    "collapsed": false
   },
   "outputs": [
    {
     "name": "stdout",
     "output_type": "stream",
     "text": [
      "fals\n",
      "15\n"
     ]
    }
   ],
   "source": [
    "if len(box_soup('h5')\n",
    "    print 'true'\n",
    "else: print 'fals'\n",
    "print len(box_soup('h5'))\n",
    "   "
   ]
  },
  {
   "cell_type": "code",
   "execution_count": null,
   "metadata": {
    "collapsed": true
   },
   "outputs": [],
   "source": [
    "box_soup('movies')"
   ]
  },
  {
   "cell_type": "code",
   "execution_count": 191,
   "metadata": {
    "collapsed": false
   },
   "outputs": [
    {
     "name": "stdout",
     "output_type": "stream",
     "text": [
      "yes\n"
     ]
    }
   ],
   "source": [
    "dol = '$5000'\n",
    "if '$' in dol:\n",
    "    print 'yes'"
   ]
  },
  {
   "cell_type": "code",
   "execution_count": null,
   "metadata": {
    "collapsed": true
   },
   "outputs": [],
   "source": []
  }
 ],
 "metadata": {
  "kernelspec": {
   "display_name": "Python 2",
   "language": "python",
   "name": "python2"
  },
  "language_info": {
   "codemirror_mode": {
    "name": "ipython",
    "version": 2
   },
   "file_extension": ".py",
   "mimetype": "text/x-python",
   "name": "python",
   "nbconvert_exporter": "python",
   "pygments_lexer": "ipython2",
   "version": "2.7.10"
  }
 },
 "nbformat": 4,
 "nbformat_minor": 0
}
