{
 "cells": [
  {
   "cell_type": "code",
   "execution_count": 12,
   "metadata": {
    "collapsed": false
   },
   "outputs": [],
   "source": [
    "import pickle\n",
    "from bs4 import BeautifulSoup\n",
    "import requests\n",
    "import urllib\n",
    "import re\n",
    "import time\n",
    "from random import randint\n",
    "from multiprocessing import Process, Queue"
   ]
  },
  {
   "cell_type": "code",
   "execution_count": null,
   "metadata": {
    "collapsed": true
   },
   "outputs": [],
   "source": [
    "with open('id_data_0-14974.pkl', 'r') as picklefile:\n",
    "    id_data = pickle.load(picklefile)"
   ]
  },
  {
   "cell_type": "code",
   "execution_count": 2,
   "metadata": {
    "collapsed": true
   },
   "outputs": [],
   "source": [
    "with open('book_data_0-14974.pkl', 'r') as picklefile:\n",
    "    book_data = pickle.load(picklefile)"
   ]
  },
  {
   "cell_type": "code",
   "execution_count": 7,
   "metadata": {
    "collapsed": true
   },
   "outputs": [],
   "source": [
    "sorted_book_data = sorted(book_data.keys(), key=lambda x: int(x))"
   ]
  },
  {
   "cell_type": "code",
   "execution_count": 24,
   "metadata": {
    "collapsed": false
   },
   "outputs": [],
   "source": [
    "sorted_book_data = sorted_book_data[66850 :]"
   ]
  },
  {
   "cell_type": "code",
   "execution_count": 28,
   "metadata": {
    "collapsed": true
   },
   "outputs": [],
   "source": [
    "sorted_book_data = sorted_book_data[55000:]"
   ]
  },
  {
   "cell_type": "code",
   "execution_count": 44,
   "metadata": {
    "collapsed": false
   },
   "outputs": [],
   "source": [
    "test_list = sorted_book_data[:5]"
   ]
  },
  {
   "cell_type": "code",
   "execution_count": 45,
   "metadata": {
    "collapsed": false
   },
   "outputs": [
    {
     "name": "stdout",
     "output_type": "stream",
     "text": [
      "19186417\n",
      "19186417 done\n",
      "19186421\n",
      "19186421 done\n",
      "19188154\n",
      "19188154 done\n",
      "19189533\n",
      "19189533 done\n",
      "19189811\n"
     ]
    },
    {
     "name": "stderr",
     "output_type": "stream",
     "text": [
      "/Users/David/anaconda/lib/python2.7/site-packages/bs4/__init__.py:166: UserWarning: No parser was explicitly specified, so I'm using the best available HTML parser for this system (\"html5lib\"). This usually isn't a problem, but if you run this code on another system, or in a different virtual environment, it may use a different parser and behave differently.\n",
      "\n",
      "To get rid of this warning, change this:\n",
      "\n",
      " BeautifulSoup([your markup])\n",
      "\n",
      "to this:\n",
      "\n",
      " BeautifulSoup([your markup], \"html5lib\")\n",
      "\n",
      "  markup_type=markup_type))\n",
      "Process Worker-16:\n",
      "Process Worker-13:\n",
      "Process Worker-15:\n",
      "Process Worker-14:\n",
      "Traceback (most recent call last):\n",
      "Traceback (most recent call last):\n",
      "Traceback (most recent call last):\n",
      "Traceback (most recent call last):\n",
      "  File \"/Users/David/anaconda/lib/python2.7/multiprocessing/process.py\", line 258, in _bootstrap\n",
      "  File \"/Users/David/anaconda/lib/python2.7/multiprocessing/process.py\", line 258, in _bootstrap\n",
      "  File \"/Users/David/anaconda/lib/python2.7/multiprocessing/process.py\", line 258, in _bootstrap\n",
      "  File \"/Users/David/anaconda/lib/python2.7/multiprocessing/process.py\", line 258, in _bootstrap\n",
      "    self.run()\n",
      "    self.run()\n",
      "    self.run()\n",
      "    self.run()\n",
      "  File \"<ipython-input-20-85f16c2860b3>\", line 19, in run\n",
      "  File \"<ipython-input-20-85f16c2860b3>\", line 24, in run\n",
      "  File \"<ipython-input-20-85f16c2860b3>\", line 24, in run\n",
      "  File \"<ipython-input-20-85f16c2860b3>\", line 24, in run\n",
      "    item = self._queue.get()\n",
      "    lst.append(self._queue.get())\n",
      "    lst.append(self._queue.get())\n",
      "    lst.append(self._queue.get())\n",
      "  File \"/Users/David/anaconda/lib/python2.7/multiprocessing/queues.py\", line 115, in get\n",
      "  File \"/Users/David/anaconda/lib/python2.7/multiprocessing/queues.py\", line 115, in get\n",
      "  File \"/Users/David/anaconda/lib/python2.7/multiprocessing/queues.py\", line 117, in get\n",
      "  File \"/Users/David/anaconda/lib/python2.7/multiprocessing/queues.py\", line 115, in get\n",
      "    self._rlock.acquire()\n",
      "    self._rlock.acquire()\n",
      "    res = self._recv()\n",
      "    self._rlock.acquire()\n",
      "KeyboardInterrupt\n",
      "KeyboardInterrupt\n",
      "KeyboardInterrupt\n",
      "KeyboardInterrupt\n"
     ]
    },
    {
     "ename": "KeyboardInterrupt",
     "evalue": "",
     "output_type": "error",
     "traceback": [
      "\u001b[0;31m---------------------------------------------------------------------------\u001b[0m",
      "\u001b[0;31mKeyboardInterrupt\u001b[0m                         Traceback (most recent call last)",
      "\u001b[0;32m<ipython-input-45-dd4fdf45c488>\u001b[0m in \u001b[0;36m<module>\u001b[0;34m()\u001b[0m\n\u001b[0;32m----> 1\u001b[0;31m \u001b[0mget_full_book_data\u001b[0m\u001b[0;34m(\u001b[0m\u001b[0mtest_list\u001b[0m\u001b[0;34m)\u001b[0m\u001b[0;34m\u001b[0m\u001b[0m\n\u001b[0m",
      "\u001b[0;32m<ipython-input-42-db3f7ad2e782>\u001b[0m in \u001b[0;36mget_full_book_data\u001b[0;34m(book_id_list)\u001b[0m\n\u001b[1;32m     35\u001b[0m         \u001b[0mfull_book_data\u001b[0m\u001b[0;34m[\u001b[0m\u001b[0mkey\u001b[0m\u001b[0;34m]\u001b[0m\u001b[0;34m=\u001b[0m\u001b[0;34m{\u001b[0m\u001b[0;34m}\u001b[0m\u001b[0;34m\u001b[0m\u001b[0m\n\u001b[1;32m     36\u001b[0m         \u001b[0murl\u001b[0m \u001b[0;34m=\u001b[0m \u001b[0;34m'http://www.goodreads.com/book/show/{}'\u001b[0m\u001b[0;34m.\u001b[0m\u001b[0mformat\u001b[0m\u001b[0;34m(\u001b[0m\u001b[0mstr\u001b[0m\u001b[0;34m(\u001b[0m\u001b[0mkey\u001b[0m\u001b[0;34m)\u001b[0m\u001b[0;34m+\u001b[0m\u001b[0;34m'.'\u001b[0m\u001b[0;34m)\u001b[0m\u001b[0;34m\u001b[0m\u001b[0m\n\u001b[0;32m---> 37\u001b[0;31m         \u001b[0mresponse\u001b[0m \u001b[0;34m=\u001b[0m \u001b[0mrequests\u001b[0m\u001b[0;34m.\u001b[0m\u001b[0mget\u001b[0m\u001b[0;34m(\u001b[0m\u001b[0murl\u001b[0m\u001b[0;34m)\u001b[0m\u001b[0;34m\u001b[0m\u001b[0m\n\u001b[0m\u001b[1;32m     38\u001b[0m         \u001b[0msoup\u001b[0m \u001b[0;34m=\u001b[0m \u001b[0mBeautifulSoup\u001b[0m\u001b[0;34m(\u001b[0m\u001b[0mresponse\u001b[0m\u001b[0;34m.\u001b[0m\u001b[0mtext\u001b[0m\u001b[0;34m)\u001b[0m\u001b[0;34m\u001b[0m\u001b[0m\n\u001b[1;32m     39\u001b[0m         \u001b[0;32mif\u001b[0m \u001b[0mcheck_for_title\u001b[0m\u001b[0;34m(\u001b[0m\u001b[0msoup\u001b[0m\u001b[0;34m)\u001b[0m \u001b[0;34m==\u001b[0m \u001b[0mTrue\u001b[0m\u001b[0;34m:\u001b[0m\u001b[0;34m\u001b[0m\u001b[0m\n",
      "\u001b[0;32m/Users/David/anaconda/lib/python2.7/site-packages/requests/api.pyc\u001b[0m in \u001b[0;36mget\u001b[0;34m(url, **kwargs)\u001b[0m\n\u001b[1;32m     53\u001b[0m \u001b[0;34m\u001b[0m\u001b[0m\n\u001b[1;32m     54\u001b[0m     \u001b[0mkwargs\u001b[0m\u001b[0;34m.\u001b[0m\u001b[0msetdefault\u001b[0m\u001b[0;34m(\u001b[0m\u001b[0;34m'allow_redirects'\u001b[0m\u001b[0;34m,\u001b[0m \u001b[0mTrue\u001b[0m\u001b[0;34m)\u001b[0m\u001b[0;34m\u001b[0m\u001b[0m\n\u001b[0;32m---> 55\u001b[0;31m     \u001b[0;32mreturn\u001b[0m \u001b[0mrequest\u001b[0m\u001b[0;34m(\u001b[0m\u001b[0;34m'get'\u001b[0m\u001b[0;34m,\u001b[0m \u001b[0murl\u001b[0m\u001b[0;34m,\u001b[0m \u001b[0;34m**\u001b[0m\u001b[0mkwargs\u001b[0m\u001b[0;34m)\u001b[0m\u001b[0;34m\u001b[0m\u001b[0m\n\u001b[0m\u001b[1;32m     56\u001b[0m \u001b[0;34m\u001b[0m\u001b[0m\n\u001b[1;32m     57\u001b[0m \u001b[0;34m\u001b[0m\u001b[0m\n",
      "\u001b[0;32m/Users/David/anaconda/lib/python2.7/site-packages/requests/api.pyc\u001b[0m in \u001b[0;36mrequest\u001b[0;34m(method, url, **kwargs)\u001b[0m\n\u001b[1;32m     42\u001b[0m \u001b[0;34m\u001b[0m\u001b[0m\n\u001b[1;32m     43\u001b[0m     \u001b[0msession\u001b[0m \u001b[0;34m=\u001b[0m \u001b[0msessions\u001b[0m\u001b[0;34m.\u001b[0m\u001b[0mSession\u001b[0m\u001b[0;34m(\u001b[0m\u001b[0;34m)\u001b[0m\u001b[0;34m\u001b[0m\u001b[0m\n\u001b[0;32m---> 44\u001b[0;31m     \u001b[0;32mreturn\u001b[0m \u001b[0msession\u001b[0m\u001b[0;34m.\u001b[0m\u001b[0mrequest\u001b[0m\u001b[0;34m(\u001b[0m\u001b[0mmethod\u001b[0m\u001b[0;34m=\u001b[0m\u001b[0mmethod\u001b[0m\u001b[0;34m,\u001b[0m \u001b[0murl\u001b[0m\u001b[0;34m=\u001b[0m\u001b[0murl\u001b[0m\u001b[0;34m,\u001b[0m \u001b[0;34m**\u001b[0m\u001b[0mkwargs\u001b[0m\u001b[0;34m)\u001b[0m\u001b[0;34m\u001b[0m\u001b[0m\n\u001b[0m\u001b[1;32m     45\u001b[0m \u001b[0;34m\u001b[0m\u001b[0m\n\u001b[1;32m     46\u001b[0m \u001b[0;34m\u001b[0m\u001b[0m\n",
      "\u001b[0;32m/Users/David/anaconda/lib/python2.7/site-packages/requests/sessions.pyc\u001b[0m in \u001b[0;36mrequest\u001b[0;34m(self, method, url, params, data, headers, cookies, files, auth, timeout, allow_redirects, proxies, hooks, stream, verify, cert)\u001b[0m\n\u001b[1;32m    454\u001b[0m             \u001b[0;34m'allow_redirects'\u001b[0m\u001b[0;34m:\u001b[0m \u001b[0mallow_redirects\u001b[0m\u001b[0;34m,\u001b[0m\u001b[0;34m\u001b[0m\u001b[0m\n\u001b[1;32m    455\u001b[0m         }\n\u001b[0;32m--> 456\u001b[0;31m         \u001b[0mresp\u001b[0m \u001b[0;34m=\u001b[0m \u001b[0mself\u001b[0m\u001b[0;34m.\u001b[0m\u001b[0msend\u001b[0m\u001b[0;34m(\u001b[0m\u001b[0mprep\u001b[0m\u001b[0;34m,\u001b[0m \u001b[0;34m**\u001b[0m\u001b[0msend_kwargs\u001b[0m\u001b[0;34m)\u001b[0m\u001b[0;34m\u001b[0m\u001b[0m\n\u001b[0m\u001b[1;32m    457\u001b[0m \u001b[0;34m\u001b[0m\u001b[0m\n\u001b[1;32m    458\u001b[0m         \u001b[0;32mreturn\u001b[0m \u001b[0mresp\u001b[0m\u001b[0;34m\u001b[0m\u001b[0m\n",
      "\u001b[0;32m/Users/David/anaconda/lib/python2.7/site-packages/requests/sessions.pyc\u001b[0m in \u001b[0;36msend\u001b[0;34m(self, request, **kwargs)\u001b[0m\n\u001b[1;32m    557\u001b[0m \u001b[0;34m\u001b[0m\u001b[0m\n\u001b[1;32m    558\u001b[0m         \u001b[0;31m# Send the request\u001b[0m\u001b[0;34m\u001b[0m\u001b[0;34m\u001b[0m\u001b[0m\n\u001b[0;32m--> 559\u001b[0;31m         \u001b[0mr\u001b[0m \u001b[0;34m=\u001b[0m \u001b[0madapter\u001b[0m\u001b[0;34m.\u001b[0m\u001b[0msend\u001b[0m\u001b[0;34m(\u001b[0m\u001b[0mrequest\u001b[0m\u001b[0;34m,\u001b[0m \u001b[0;34m**\u001b[0m\u001b[0mkwargs\u001b[0m\u001b[0;34m)\u001b[0m\u001b[0;34m\u001b[0m\u001b[0m\n\u001b[0m\u001b[1;32m    560\u001b[0m \u001b[0;34m\u001b[0m\u001b[0m\n\u001b[1;32m    561\u001b[0m         \u001b[0;31m# Total elapsed time of the request (approximately)\u001b[0m\u001b[0;34m\u001b[0m\u001b[0;34m\u001b[0m\u001b[0m\n",
      "\u001b[0;32m/Users/David/anaconda/lib/python2.7/site-packages/requests/adapters.pyc\u001b[0m in \u001b[0;36msend\u001b[0;34m(self, request, stream, timeout, verify, cert, proxies)\u001b[0m\n\u001b[1;32m    325\u001b[0m                     \u001b[0mdecode_content\u001b[0m\u001b[0;34m=\u001b[0m\u001b[0mFalse\u001b[0m\u001b[0;34m,\u001b[0m\u001b[0;34m\u001b[0m\u001b[0m\n\u001b[1;32m    326\u001b[0m                     \u001b[0mretries\u001b[0m\u001b[0;34m=\u001b[0m\u001b[0mself\u001b[0m\u001b[0;34m.\u001b[0m\u001b[0mmax_retries\u001b[0m\u001b[0;34m,\u001b[0m\u001b[0;34m\u001b[0m\u001b[0m\n\u001b[0;32m--> 327\u001b[0;31m                     \u001b[0mtimeout\u001b[0m\u001b[0;34m=\u001b[0m\u001b[0mtimeout\u001b[0m\u001b[0;34m\u001b[0m\u001b[0m\n\u001b[0m\u001b[1;32m    328\u001b[0m                 )\n\u001b[1;32m    329\u001b[0m \u001b[0;34m\u001b[0m\u001b[0m\n",
      "\u001b[0;32m/Users/David/anaconda/lib/python2.7/site-packages/requests/packages/urllib3/connectionpool.pyc\u001b[0m in \u001b[0;36murlopen\u001b[0;34m(self, method, url, body, headers, retries, redirect, assert_same_host, timeout, pool_timeout, release_conn, **response_kw)\u001b[0m\n\u001b[1;32m    491\u001b[0m             httplib_response = self._make_request(conn, method, url,\n\u001b[1;32m    492\u001b[0m                                                   \u001b[0mtimeout\u001b[0m\u001b[0;34m=\u001b[0m\u001b[0mtimeout\u001b[0m\u001b[0;34m,\u001b[0m\u001b[0;34m\u001b[0m\u001b[0m\n\u001b[0;32m--> 493\u001b[0;31m                                                   body=body, headers=headers)\n\u001b[0m\u001b[1;32m    494\u001b[0m \u001b[0;34m\u001b[0m\u001b[0m\n\u001b[1;32m    495\u001b[0m             \u001b[0;31m# If we're going to release the connection in ``finally:``, then\u001b[0m\u001b[0;34m\u001b[0m\u001b[0;34m\u001b[0m\u001b[0m\n",
      "\u001b[0;32m/Users/David/anaconda/lib/python2.7/site-packages/requests/packages/urllib3/connectionpool.pyc\u001b[0m in \u001b[0;36m_make_request\u001b[0;34m(self, conn, method, url, timeout, **httplib_request_kw)\u001b[0m\n\u001b[1;32m    317\u001b[0m         \u001b[0;32mtry\u001b[0m\u001b[0;34m:\u001b[0m\u001b[0;34m\u001b[0m\u001b[0m\n\u001b[1;32m    318\u001b[0m             \u001b[0;32mtry\u001b[0m\u001b[0;34m:\u001b[0m \u001b[0;31m# Python 2.7+, use buffering of HTTP responses\u001b[0m\u001b[0;34m\u001b[0m\u001b[0m\n\u001b[0;32m--> 319\u001b[0;31m                 \u001b[0mhttplib_response\u001b[0m \u001b[0;34m=\u001b[0m \u001b[0mconn\u001b[0m\u001b[0;34m.\u001b[0m\u001b[0mgetresponse\u001b[0m\u001b[0;34m(\u001b[0m\u001b[0mbuffering\u001b[0m\u001b[0;34m=\u001b[0m\u001b[0mTrue\u001b[0m\u001b[0;34m)\u001b[0m\u001b[0;34m\u001b[0m\u001b[0m\n\u001b[0m\u001b[1;32m    320\u001b[0m             \u001b[0;32mexcept\u001b[0m \u001b[0mTypeError\u001b[0m\u001b[0;34m:\u001b[0m \u001b[0;31m# Python 2.6 and older\u001b[0m\u001b[0;34m\u001b[0m\u001b[0m\n\u001b[1;32m    321\u001b[0m                 \u001b[0mhttplib_response\u001b[0m \u001b[0;34m=\u001b[0m \u001b[0mconn\u001b[0m\u001b[0;34m.\u001b[0m\u001b[0mgetresponse\u001b[0m\u001b[0;34m(\u001b[0m\u001b[0;34m)\u001b[0m\u001b[0;34m\u001b[0m\u001b[0m\n",
      "\u001b[0;32m/Users/David/anaconda/lib/python2.7/httplib.pyc\u001b[0m in \u001b[0;36mgetresponse\u001b[0;34m(self, buffering)\u001b[0m\n\u001b[1;32m   1130\u001b[0m \u001b[0;34m\u001b[0m\u001b[0m\n\u001b[1;32m   1131\u001b[0m         \u001b[0;32mtry\u001b[0m\u001b[0;34m:\u001b[0m\u001b[0;34m\u001b[0m\u001b[0m\n\u001b[0;32m-> 1132\u001b[0;31m             \u001b[0mresponse\u001b[0m\u001b[0;34m.\u001b[0m\u001b[0mbegin\u001b[0m\u001b[0;34m(\u001b[0m\u001b[0;34m)\u001b[0m\u001b[0;34m\u001b[0m\u001b[0m\n\u001b[0m\u001b[1;32m   1133\u001b[0m             \u001b[0;32massert\u001b[0m \u001b[0mresponse\u001b[0m\u001b[0;34m.\u001b[0m\u001b[0mwill_close\u001b[0m \u001b[0;34m!=\u001b[0m \u001b[0m_UNKNOWN\u001b[0m\u001b[0;34m\u001b[0m\u001b[0m\n\u001b[1;32m   1134\u001b[0m             \u001b[0mself\u001b[0m\u001b[0;34m.\u001b[0m\u001b[0m__state\u001b[0m \u001b[0;34m=\u001b[0m \u001b[0m_CS_IDLE\u001b[0m\u001b[0;34m\u001b[0m\u001b[0m\n",
      "\u001b[0;32m/Users/David/anaconda/lib/python2.7/httplib.pyc\u001b[0m in \u001b[0;36mbegin\u001b[0;34m(self)\u001b[0m\n\u001b[1;32m    451\u001b[0m         \u001b[0;31m# read until we get a non-100 response\u001b[0m\u001b[0;34m\u001b[0m\u001b[0;34m\u001b[0m\u001b[0m\n\u001b[1;32m    452\u001b[0m         \u001b[0;32mwhile\u001b[0m \u001b[0mTrue\u001b[0m\u001b[0;34m:\u001b[0m\u001b[0;34m\u001b[0m\u001b[0m\n\u001b[0;32m--> 453\u001b[0;31m             \u001b[0mversion\u001b[0m\u001b[0;34m,\u001b[0m \u001b[0mstatus\u001b[0m\u001b[0;34m,\u001b[0m \u001b[0mreason\u001b[0m \u001b[0;34m=\u001b[0m \u001b[0mself\u001b[0m\u001b[0;34m.\u001b[0m\u001b[0m_read_status\u001b[0m\u001b[0;34m(\u001b[0m\u001b[0;34m)\u001b[0m\u001b[0;34m\u001b[0m\u001b[0m\n\u001b[0m\u001b[1;32m    454\u001b[0m             \u001b[0;32mif\u001b[0m \u001b[0mstatus\u001b[0m \u001b[0;34m!=\u001b[0m \u001b[0mCONTINUE\u001b[0m\u001b[0;34m:\u001b[0m\u001b[0;34m\u001b[0m\u001b[0m\n\u001b[1;32m    455\u001b[0m                 \u001b[0;32mbreak\u001b[0m\u001b[0;34m\u001b[0m\u001b[0m\n",
      "\u001b[0;32m/Users/David/anaconda/lib/python2.7/httplib.pyc\u001b[0m in \u001b[0;36m_read_status\u001b[0;34m(self)\u001b[0m\n\u001b[1;32m    407\u001b[0m     \u001b[0;32mdef\u001b[0m \u001b[0m_read_status\u001b[0m\u001b[0;34m(\u001b[0m\u001b[0mself\u001b[0m\u001b[0;34m)\u001b[0m\u001b[0;34m:\u001b[0m\u001b[0;34m\u001b[0m\u001b[0m\n\u001b[1;32m    408\u001b[0m         \u001b[0;31m# Initialize with Simple-Response defaults\u001b[0m\u001b[0;34m\u001b[0m\u001b[0;34m\u001b[0m\u001b[0m\n\u001b[0;32m--> 409\u001b[0;31m         \u001b[0mline\u001b[0m \u001b[0;34m=\u001b[0m \u001b[0mself\u001b[0m\u001b[0;34m.\u001b[0m\u001b[0mfp\u001b[0m\u001b[0;34m.\u001b[0m\u001b[0mreadline\u001b[0m\u001b[0;34m(\u001b[0m\u001b[0m_MAXLINE\u001b[0m \u001b[0;34m+\u001b[0m \u001b[0;36m1\u001b[0m\u001b[0;34m)\u001b[0m\u001b[0;34m\u001b[0m\u001b[0m\n\u001b[0m\u001b[1;32m    410\u001b[0m         \u001b[0;32mif\u001b[0m \u001b[0mlen\u001b[0m\u001b[0;34m(\u001b[0m\u001b[0mline\u001b[0m\u001b[0;34m)\u001b[0m \u001b[0;34m>\u001b[0m \u001b[0m_MAXLINE\u001b[0m\u001b[0;34m:\u001b[0m\u001b[0;34m\u001b[0m\u001b[0m\n\u001b[1;32m    411\u001b[0m             \u001b[0;32mraise\u001b[0m \u001b[0mLineTooLong\u001b[0m\u001b[0;34m(\u001b[0m\u001b[0;34m\"header line\"\u001b[0m\u001b[0;34m)\u001b[0m\u001b[0;34m\u001b[0m\u001b[0m\n",
      "\u001b[0;32m/Users/David/anaconda/lib/python2.7/socket.pyc\u001b[0m in \u001b[0;36mreadline\u001b[0;34m(self, size)\u001b[0m\n\u001b[1;32m    478\u001b[0m             \u001b[0;32mwhile\u001b[0m \u001b[0mTrue\u001b[0m\u001b[0;34m:\u001b[0m\u001b[0;34m\u001b[0m\u001b[0m\n\u001b[1;32m    479\u001b[0m                 \u001b[0;32mtry\u001b[0m\u001b[0;34m:\u001b[0m\u001b[0;34m\u001b[0m\u001b[0m\n\u001b[0;32m--> 480\u001b[0;31m                     \u001b[0mdata\u001b[0m \u001b[0;34m=\u001b[0m \u001b[0mself\u001b[0m\u001b[0;34m.\u001b[0m\u001b[0m_sock\u001b[0m\u001b[0;34m.\u001b[0m\u001b[0mrecv\u001b[0m\u001b[0;34m(\u001b[0m\u001b[0mself\u001b[0m\u001b[0;34m.\u001b[0m\u001b[0m_rbufsize\u001b[0m\u001b[0;34m)\u001b[0m\u001b[0;34m\u001b[0m\u001b[0m\n\u001b[0m\u001b[1;32m    481\u001b[0m                 \u001b[0;32mexcept\u001b[0m \u001b[0merror\u001b[0m\u001b[0;34m,\u001b[0m \u001b[0me\u001b[0m\u001b[0;34m:\u001b[0m\u001b[0;34m\u001b[0m\u001b[0m\n\u001b[1;32m    482\u001b[0m                     \u001b[0;32mif\u001b[0m \u001b[0me\u001b[0m\u001b[0;34m.\u001b[0m\u001b[0margs\u001b[0m\u001b[0;34m[\u001b[0m\u001b[0;36m0\u001b[0m\u001b[0;34m]\u001b[0m \u001b[0;34m==\u001b[0m \u001b[0mEINTR\u001b[0m\u001b[0;34m:\u001b[0m\u001b[0;34m\u001b[0m\u001b[0m\n",
      "\u001b[0;31mKeyboardInterrupt\u001b[0m: "
     ]
    }
   ],
   "source": [
    "get_full_book_data(test_list)"
   ]
  },
  {
   "cell_type": "code",
   "execution_count": 39,
   "metadata": {
    "collapsed": false
   },
   "outputs": [
    {
     "name": "stdout",
     "output_type": "stream",
     "text": [
      "workers created\n",
      "workers started\n"
     ]
    }
   ],
   "source": [
    "def main():\n",
    "    queue = Queue()\n",
    "    for num in sorted_book_data:\n",
    "        queue.put(num)\n",
    "    num_workers = 4\n",
    "    queue.put(None)\n",
    "    workers = []\n",
    "    print 'workers created'\n",
    "    for i in range(num_workers):\n",
    "        worker = Worker(queue)\n",
    "        workers.append(worker)\n",
    "    print 'workers started'\n",
    "    for w in workers:\n",
    "        w.start()"
   ]
  },
  {
   "cell_type": "code",
   "execution_count": 40,
   "metadata": {
    "collapsed": true
   },
   "outputs": [],
   "source": [
    "\n",
    "\n",
    "class Worker(Process):\n",
    "    '''\n",
    "    process to download data from goodreads book pages using queue numbers\n",
    "    '''\n",
    "    def __init__(self, queue):\n",
    "        '''\n",
    "        initializing worker. setting queue variable.\n",
    "        '''\n",
    "        Process.__init__(self)\n",
    "        self._queue = queue\n",
    "    def run(self):\n",
    "        '''\n",
    "        running process. downloading and saving data.\n",
    "        '''\n",
    "        while True:\n",
    "            \n",
    "            lst = []\n",
    "            for i in xrange(1000):\n",
    "                item = self._queue.get()\n",
    "                if item == None:\n",
    "                    self._queue.put(None)\n",
    "                    break\n",
    "                else:\n",
    "                    lst.append(self._queue.get())\n",
    "            if len(lst) == 0:\n",
    "                break\n",
    "            \n",
    "            get_full_book_data(lst)\n",
    "        "
   ]
  },
  {
   "cell_type": "code",
   "execution_count": 42,
   "metadata": {
    "collapsed": false
   },
   "outputs": [],
   "source": [
    "def check_for_title(soup):\n",
    "    if soup.findAll(id=\"bookTitle\"):\n",
    "        return True\n",
    "    else: \n",
    "        return False\n",
    "\n",
    "def check_for_cover(soup):\n",
    "    if soup.findAll(class_=\"noCoverMediumImage\"):\n",
    "        return False\n",
    "    else: \n",
    "        return True\n",
    "    \n",
    "def get_top_shelves(url_extension):\n",
    "    url_base = 'http://goodreads.com'\n",
    "    shelves_url = url_base + url_extension\n",
    "    try: \n",
    "        response = requests.get(shelves_url)\n",
    "    except: \n",
    "        time.sleep(60)\n",
    "        response = requests.get(shelves_url)\n",
    "    soup = BeautifulSoup(response.text)\n",
    "    key_word_dict = {}\n",
    "    for item in soup.findAll(class_=\"shelfStat\"):\n",
    "        keyword = item.findAll(class_=\"mediumText actionLinkLite\")[0].text\n",
    "        num_people = item.findAll(class_=\"smallText\")[0].text\n",
    "        num = re.findall(r'\\d+', num_people.replace(\",\", ''))[0]\n",
    "        key_word_dict[keyword] = num\n",
    "    return key_word_dict\n",
    "\n",
    "def get_full_book_data(book_id_list):    \n",
    "    full_book_data = {}\n",
    "    for key in book_id_list:\n",
    "        ##for sanity:\n",
    "        print key\n",
    "        full_book_data[key]={}\n",
    "        url = 'http://www.goodreads.com/book/show/{}'.format(str(key)+'.')\n",
    "        response = requests.get(url)\n",
    "        soup = BeautifulSoup(response.text)\n",
    "        if check_for_title(soup) == True:\n",
    "            title = soup.findAll(id=\"bookTitle\")[0].text.strip(' \\n',)\n",
    "        else: \n",
    "            continue\n",
    "        if check_for_cover(soup) == True:\n",
    "            image_url = soup.findAll(id=\"coverImage\")[0]['src']\n",
    "        else:\n",
    "            continue\n",
    "        author = soup.findChildren(class_=\"authorName\")[0].text\n",
    "        try:\n",
    "            description = soup.findChildren(id=\"description\")[0].contents[3].text\n",
    "        except IndexError:\n",
    "            description = 'none'\n",
    "        full_book_data[key]['title'] = title\n",
    "        full_book_data[key]['author'] = author\n",
    "        full_book_data[key]['description'] = description\n",
    "        full_book_data[key]['users'] = book_data[key]\n",
    "        full_book_data[key]['image_url'] = image_url\n",
    "        urllib.urlretrieve(image_url, \"/Users/David/Desktop/images1/{}.jpg\".format(key))\n",
    "        ##get keywords for book and how many users associated them with the book\n",
    "        try:\n",
    "            url_extension = soup.findAll('a', href=True, text='See top shelves...')[0]['href']\n",
    "        except IndexError:\n",
    "            if key in full_book_data:\n",
    "                del full_book_data[key]\n",
    "                continue\n",
    "        keywords_dict = get_top_shelves(url_extension)\n",
    "        full_book_data[key]['keywords'] = keywords_dict\n",
    "        print str(key) + ' done'\n",
    "    print 'writing to pickle!***********************'\n",
    "    beginning = sorted(full_book_data.keys(), key=lambda x: int(x))[0]\n",
    "    end = sorted(full_book_data.keys(), key=lambda x: int(x))[-1]\n",
    "    with open('full_book_data_{}-{}.pkl'.format(beginning, end), 'w') as picklefile:\n",
    "        pickle.dump(full_book_data, picklefile)"
   ]
  },
  {
   "cell_type": "code",
   "execution_count": null,
   "metadata": {
    "collapsed": true
   },
   "outputs": [],
   "source": []
  },
  {
   "cell_type": "code",
   "execution_count": 6,
   "metadata": {
    "collapsed": false
   },
   "outputs": [
    {
     "data": {
      "text/plain": [
       "126308"
      ]
     },
     "execution_count": 6,
     "metadata": {},
     "output_type": "execute_result"
    }
   ],
   "source": [
    "len(sorted_book_data[])"
   ]
  },
  {
   "cell_type": "code",
   "execution_count": null,
   "metadata": {
    "collapsed": false
   },
   "outputs": [],
   "source": [
    "full_book_data = {}\n",
    "len(full_book_data)\n"
   ]
  },
  {
   "cell_type": "code",
   "execution_count": null,
   "metadata": {
    "collapsed": false
   },
   "outputs": [],
   "source": [
    "sorted()"
   ]
  },
  {
   "cell_type": "code",
   "execution_count": 34,
   "metadata": {
    "collapsed": false
   },
   "outputs": [],
   "source": [
    "def check_for_title(soup):\n",
    "    if soup.findAll(id=\"bookTitle\"):\n",
    "        return True\n",
    "    else: \n",
    "        return False\n",
    "\n",
    "def check_for_cover(soup):\n",
    "    if soup.findAll(class_=\"noCoverMediumImage\"):\n",
    "        return False\n",
    "    else: \n",
    "        return True\n",
    "    \n",
    "def get_top_shelves(url_extension):\n",
    "    url_base = 'http://goodreads.com'\n",
    "    shelves_url = url_base + url_extension\n",
    "    try: \n",
    "        response = requests.get(shelves_url)\n",
    "    except: \n",
    "        time.sleep(60)\n",
    "        response = requests.get(shelves_url)\n",
    "    soup = BeautifulSoup(response.text)\n",
    "    key_word_dict = {}\n",
    "    for item in soup.findAll(class_=\"shelfStat\"):\n",
    "        keyword = item.findAll(class_=\"mediumText actionLinkLite\")[0].text\n",
    "        num_people = item.findAll(class_=\"smallText\")[0].text\n",
    "        num = re.findall(r'\\d+', num_people.replace(\",\", ''))[0]\n",
    "        key_word_dict[keyword] = num\n",
    "    return key_word_dict\n",
    "\n",
    "\n",
    "def get_full_book_data(book_data):\n",
    "    count = -1\n",
    "    #for key in sorted(book_data.keys())[start_point:]:\n",
    "    '''if len(full_book_data) > 0:\n",
    "        last_processed = full_book_data.keys()[-1]\n",
    "        index_start_position = list(book_data.keys()).index(last_processed)\n",
    "    else:\n",
    "        index_start_position = 0'''\n",
    "        \n",
    "    if len(full_book_data) != 0:\n",
    "        ## find the last processed item in the book dictionary so as to pick up where we left off\n",
    "        ## in case of an interruption\n",
    "        last_processed = sorted(full_book_data.keys(), key=lambda x: int(x))[-1]\n",
    "        ## the index of the last processed item, in the original book_data dictionary\n",
    "        ## and continue from there, which is where we left off.\n",
    "        index_start_position = sorted(book_data.keys(), key=lambda x: int(x)).index(last_processed)\n",
    "        print str(index_start_position)\n",
    "    else:\n",
    "        index_start_position = 60000\n",
    "    for key in sorted(book_data.keys(), key=lambda x: int(x))[index_start_position:]:\n",
    "        ##for sanity:\n",
    "        print key\n",
    "        full_book_data[key]={}\n",
    "        url = 'http://www.goodreads.com/book/show/{}'.format(str(key)+'.')\n",
    "        response = requests.get(url)\n",
    "        soup = BeautifulSoup(response.text)\n",
    "        if check_for_title(soup) == True:\n",
    "            title = soup.findAll(id=\"bookTitle\")[0].text.strip(' \\n',)\n",
    "        else: \n",
    "            continue\n",
    "        if check_for_cover(soup) == True:\n",
    "            image_url = soup.findAll(id=\"coverImage\")[0]['src']\n",
    "        else:\n",
    "            continue\n",
    "        author = soup.findChildren(class_=\"authorName\")[0].text\n",
    "        try:\n",
    "            description = soup.findChildren(id=\"description\")[0].contents[3].text\n",
    "        except IndexError:\n",
    "            description = 'none'\n",
    "        full_book_data[key]['title'] = title\n",
    "        full_book_data[key]['author'] = author\n",
    "        full_book_data[key]['description'] = description\n",
    "        full_book_data[key]['users'] = book_data[key]\n",
    "        full_book_data[key]['image_url'] = image_url\n",
    "        urllib.urlretrieve(image_url, \"/Users/David/Desktop/images/{}.jpg\".format(key))\n",
    "        ##get keywords for book and how many users associated them with the book\n",
    "        try:\n",
    "            url_extension = soup.findAll('a', href=True, text='See top shelves...')[0]['href']\n",
    "        except IndexError:\n",
    "            if key in full_book_data:\n",
    "                del full_book_data[key]\n",
    "                continue\n",
    "        keywords_dict = get_top_shelves(url_extension)\n",
    "        full_book_data[key]['keywords'] = keywords_dict\n",
    "        print str(key) + ' done'\n",
    "        count += 1\n",
    "        if count % 1000 == 0:\n",
    "            print 'writing to pickle!***********************'\n",
    "            beginning = sorted(book_data.keys(), key=lambda x: int(x))[0]\n",
    "            end = sorted(book_data.keys(), key=lambda x: int(x))[-1]\n",
    "            with open('full_book_data_{}-{}.pkl'.format(beginning, end), 'w') as picklefile:\n",
    "                pickle.dump(full_book_data, picklefile)"
   ]
  },
  {
   "cell_type": "code",
   "execution_count": null,
   "metadata": {
    "collapsed": false
   },
   "outputs": [],
   "source": [
    "for i in range(1, 100):\n",
    "    try:\n",
    "        get_full_book_data(book_data)\n",
    "    except requests.ConnectionError:\n",
    "        print 'connection error ________________'\n",
    "        continue"
   ]
  },
  {
   "cell_type": "code",
   "execution_count": null,
   "metadata": {
    "collapsed": false
   },
   "outputs": [],
   "source": [
    "with open('full_book_data_{}-{}.pkl'.format(60001,66849), 'w') as picklefile:\n",
    "    pickle.dump(full_book_data, picklefile)"
   ]
  },
  {
   "cell_type": "code",
   "execution_count": null,
   "metadata": {
    "collapsed": false
   },
   "outputs": [],
   "source": [
    "sorted(book_data.keys(), key=lambda x: int(x)).index(first_processed)"
   ]
  },
  {
   "cell_type": "code",
   "execution_count": null,
   "metadata": {
    "collapsed": false
   },
   "outputs": [],
   "source": [
    "first_processed = sorted(full_book_data.keys(), key=lambda x: int(x))[0]\n",
    "first_processed\n"
   ]
  },
  {
   "cell_type": "code",
   "execution_count": null,
   "metadata": {
    "collapsed": false
   },
   "outputs": [],
   "source": [
    "last_processed = sorted(full_book_data.keys(), key=lambda x: int(x))[-1]\n",
    "last_processed"
   ]
  },
  {
   "cell_type": "code",
   "execution_count": null,
   "metadata": {
    "collapsed": true
   },
   "outputs": [],
   "source": []
  },
  {
   "cell_type": "code",
   "execution_count": null,
   "metadata": {
    "collapsed": false
   },
   "outputs": [],
   "source": [
    "sorted(book_data.keys(), key=lambda x: int(x)).index(last_processed)"
   ]
  },
  {
   "cell_type": "code",
   "execution_count": null,
   "metadata": {
    "collapsed": false
   },
   "outputs": [],
   "source": [
    "len(sorted(full_book_data.keys(), key=lambda x: int(x)))"
   ]
  },
  {
   "cell_type": "code",
   "execution_count": null,
   "metadata": {
    "collapsed": false
   },
   "outputs": [],
   "source": [
    "index_start_position = sorted(book_data.keys(), key=lambda x: int(x)).index(last_processed)"
   ]
  },
  {
   "cell_type": "code",
   "execution_count": null,
   "metadata": {
    "collapsed": false
   },
   "outputs": [],
   "source": [
    "sorted(book_data.keys(), key=lambda x: int(x))[27]"
   ]
  },
  {
   "cell_type": "code",
   "execution_count": null,
   "metadata": {
    "collapsed": false
   },
   "outputs": [],
   "source": [
    "index_start_position"
   ]
  },
  {
   "cell_type": "code",
   "execution_count": null,
   "metadata": {
    "collapsed": false
   },
   "outputs": [],
   "source": [
    "sorted(book_data.keys(), key=lambda x: int(x))[:10]"
   ]
  },
  {
   "cell_type": "code",
   "execution_count": null,
   "metadata": {
    "collapsed": false
   },
   "outputs": [],
   "source": [
    "last_processed = sorted(full_book_data.keys()[-1], key=lambda x: int(x))\n",
    "index_start_position = sorted(book_data.keys()[:10], key=lambda x: int(x)).index(last_processed)"
   ]
  },
  {
   "cell_type": "code",
   "execution_count": null,
   "metadata": {
    "collapsed": false
   },
   "outputs": [],
   "source": [
    "def get_top_shelves(url_extension):\n",
    "    url_base = 'http://goodreads.com'\n",
    "    shelves_url = url_base + url_extension\n",
    "    try: \n",
    "        response = requests.get(shelves_url)\n",
    "    except: \n",
    "        time.sleep(60)\n",
    "        response = requests.get(shelves_url)\n",
    "    soup = BeautifulSoup(response.text)\n",
    "    key_word_dict = {}\n",
    "    for item in soup.findAll(class_=\"shelfStat\"):\n",
    "        keyword = item.findAll(class_=\"mediumText actionLinkLite\")[0].text\n",
    "        num_people = item.findAll(class_=\"smallText\")[0].text\n",
    "        num = re.findall(r'\\d+', num_people.replace(\",\", ''))[0]\n",
    "        key_word_dict[keyword] = num\n",
    "    return key_word_dict\n",
    "        "
   ]
  },
  {
   "cell_type": "code",
   "execution_count": null,
   "metadata": {
    "collapsed": false
   },
   "outputs": [],
   "source": [
    "#url = 'http://www.goodreads.com/book/show/{}'.format(3876.)\n",
    "url = 'http://www.goodreads.com/work/shelves/589497'\n",
    "response = requests.get(url)\n",
    "soup = BeautifulSoup(response.text)"
   ]
  },
  {
   "cell_type": "code",
   "execution_count": null,
   "metadata": {
    "collapsed": false
   },
   "outputs": [],
   "source": [
    "soup.findAll('a', href=True, text='See top shelves...')[0]['href']"
   ]
  },
  {
   "cell_type": "code",
   "execution_count": 33,
   "metadata": {
    "collapsed": false
   },
   "outputs": [
    {
     "name": "stderr",
     "output_type": "stream",
     "text": [
      "    lst.append(self._queue.get())\n",
      "    item = self._queue.get()\n",
      "  File \"/Users/David/anaconda/lib/python2.7/multiprocessing/queues.py\", line 117, in get\n",
      "  File \"/Users/David/anaconda/lib/python2.7/multiprocessing/queues.py\", line 115, in get\n",
      "    res = self._recv()\n",
      "    self._rlock.acquire()\n",
      "KeyboardInterrupt\n",
      "KeyboardInterrupt\n"
     ]
    }
   ],
   "source": [
    "def check_for_cover(soup):\n",
    "    if soup.findAll(class_=\"noCoverMediumImage\"):\n",
    "        return False\n",
    "    else: \n",
    "        return True"
   ]
  },
  {
   "cell_type": "code",
   "execution_count": null,
   "metadata": {
    "collapsed": true
   },
   "outputs": [],
   "source": [
    "def check_for_title(soup):\n",
    "    if soup.findAll(id=\"bookTitle\"):\n",
    "        return True\n",
    "    else: \n",
    "        return False"
   ]
  },
  {
   "cell_type": "code",
   "execution_count": null,
   "metadata": {
    "collapsed": false
   },
   "outputs": [],
   "source": [
    "soup.findAll(class_=\"shelfStat\")[1].findAll(class_=\"mediumText actionLinkLite\")[0].text"
   ]
  },
  {
   "cell_type": "code",
   "execution_count": null,
   "metadata": {
    "collapsed": false
   },
   "outputs": [],
   "source": [
    "num_people = soup.findAll(class_=\"shelfStat\")[1].findAll(class_=\"smallText\")[0].text\n",
    "num = re.findall(r'\\d+', num_people.replace(\",\", ''))[0]\n",
    "num"
   ]
  },
  {
   "cell_type": "code",
   "execution_count": null,
   "metadata": {
    "collapsed": false
   },
   "outputs": [],
   "source": [
    "soup.findAll(class_=\"shelfStat\")[1].findAll(class_=\"smallText\")[0].text.strip(\",\")"
   ]
  },
  {
   "cell_type": "code",
   "execution_count": null,
   "metadata": {
    "collapsed": false
   },
   "outputs": [],
   "source": [
    "key_word_dict = {}\n",
    "for item in soup.findAll(class_=\"shelfStat\"):\n",
    "    keyword = item.findAll(class_=\"mediumText actionLinkLite\")[0].text\n",
    "    num_people = item.findAll(class_=\"smallText\")[0].text\n",
    "    num = re.findall(r'\\d+', num_people.replace(\",\", ''))[0]\n",
    "    key_word_dict[keyword] = num"
   ]
  },
  {
   "cell_type": "code",
   "execution_count": null,
   "metadata": {
    "collapsed": true
   },
   "outputs": [],
   "source": []
  }
 ],
 "metadata": {
  "kernelspec": {
   "display_name": "Python 2",
   "language": "python",
   "name": "python2"
  },
  "language_info": {
   "codemirror_mode": {
    "name": "ipython",
    "version": 2
   },
   "file_extension": ".py",
   "mimetype": "text/x-python",
   "name": "python",
   "nbconvert_exporter": "python",
   "pygments_lexer": "ipython2",
   "version": "2.7.10"
  }
 },
 "nbformat": 4,
 "nbformat_minor": 0
}
